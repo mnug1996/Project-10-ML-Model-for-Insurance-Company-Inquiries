{
 "cells": [
  {
   "cell_type": "markdown",
   "metadata": {},
   "source": [
    "<div class=\"alert alert-success\">\n",
    "<b>Reviewer's comment V2</b>\n",
    "\n",
    "Thanks for taking the time to improve the project! It is accepted now. Keep up the good work on the next sprint! :)\n",
    "\n",
    "</div>"
   ]
  },
  {
   "cell_type": "markdown",
   "metadata": {},
   "source": [
    "**Review**\n",
    "\n",
    "Hi, my name is Dmitry and I will be reviewing your project.\n",
    "  \n",
    "You can find my comments in colored markdown cells:\n",
    "  \n",
    "<div class=\"alert alert-success\">\n",
    "  If everything is done successfully.\n",
    "</div>\n",
    "  \n",
    "<div class=\"alert alert-warning\">\n",
    "  If I have some (optional) suggestions, or questions to think about, or general comments.\n",
    "</div>\n",
    "  \n",
    "<div class=\"alert alert-danger\">\n",
    "  If a section requires some corrections. Work can't be accepted with red comments.\n",
    "</div>\n",
    "  \n",
    "Please don't remove my comments, as it will make further review iterations much harder for me.\n",
    "  \n",
    "Feel free to reply to my comments or ask questions using the following template:\n",
    "  \n",
    "<div class=\"alert alert-info\">\n",
    "  For your comments and questions.\n",
    "</div>\n",
    "  \n",
    "First of all, thank you for turning in the project! You did a pretty good job overall, but there are a couple of problems that need to be fixed before the project is accepted. Let me know if you have any questions!"
   ]
  },
  {
   "cell_type": "markdown",
   "metadata": {},
   "source": [
    "# Statement"
   ]
  },
  {
   "cell_type": "markdown",
   "metadata": {},
   "source": [
    "The Sure Tomorrow insurance company wants to solve several tasks with the help of Machine Learning and you are asked to evaluate that possibility.\n",
    "\n",
    "- Task 1: Find customers who are similar to a given customer. This will help the company's agents with marketing.\n",
    "- Task 2: Predict whether a new customer is likely to receive an insurance benefit. Can a prediction model do better than a dummy model?\n",
    "- Task 3: Predict the number of insurance benefits a new customer is likely to receive using a linear regression model.\n",
    "- Task 4: Protect clients' personal data without breaking the model from the previous task. It's necessary to develop a data transformation algorithm that would make it hard to recover personal information if the data fell into the wrong hands. This is called data masking, or data obfuscation. But the data should be protected in such a way that the quality of machine learning models doesn't suffer. You don't need to pick the best model, just prove that the algorithm works correctly."
   ]
  },
  {
   "cell_type": "markdown",
   "metadata": {},
   "source": [
    "# Data Preprocessing & Exploration\n",
    "\n",
    "## Initialization"
   ]
  },
  {
   "cell_type": "code",
   "execution_count": 1,
   "metadata": {},
   "outputs": [
    {
     "name": "stdout",
     "output_type": "stream",
     "text": [
      "Defaulting to user installation because normal site-packages is not writeable\n",
      "Requirement already up-to-date: scikit-learn in /home/jovyan/.local/lib/python3.7/site-packages (1.0.2)\n",
      "Requirement already satisfied, skipping upgrade: numpy>=1.14.6 in /opt/conda/lib/python3.7/site-packages (from scikit-learn) (1.19.5)\n",
      "Requirement already satisfied, skipping upgrade: joblib>=0.11 in /opt/conda/lib/python3.7/site-packages (from scikit-learn) (1.0.1)\n",
      "Requirement already satisfied, skipping upgrade: threadpoolctl>=2.0.0 in /home/jovyan/.local/lib/python3.7/site-packages (from scikit-learn) (3.1.0)\n",
      "Requirement already satisfied, skipping upgrade: scipy>=1.1.0 in /opt/conda/lib/python3.7/site-packages (from scikit-learn) (1.4.1)\n",
      "Note: you may need to restart the kernel to use updated packages.\n"
     ]
    }
   ],
   "source": [
    "pip install scikit-learn --upgrade"
   ]
  },
  {
   "cell_type": "code",
   "execution_count": 2,
   "metadata": {},
   "outputs": [],
   "source": [
    "import numpy as np\n",
    "import math\n",
    "import pandas as pd\n",
    "\n",
    "import seaborn as sns\n",
    "\n",
    "import sklearn.linear_model\n",
    "import sklearn.metrics\n",
    "import sklearn.neighbors\n",
    "import sklearn.preprocessing\n",
    "from sklearn.neighbors import KNeighborsClassifier\n",
    "from scipy.spatial import distance\n",
    "from sklearn.neighbors import NearestNeighbors\n",
    "from sklearn.model_selection import train_test_split\n",
    "\n",
    "from sklearn.utils import shuffle\n",
    "from IPython.display import display"
   ]
  },
  {
   "cell_type": "markdown",
   "metadata": {},
   "source": [
    "## Load Data"
   ]
  },
  {
   "cell_type": "markdown",
   "metadata": {},
   "source": [
    "Load data and conduct a basic check that it's free from obvious issues."
   ]
  },
  {
   "cell_type": "code",
   "execution_count": 3,
   "metadata": {},
   "outputs": [],
   "source": [
    "df = pd.read_csv('/datasets/insurance_us.csv')"
   ]
  },
  {
   "cell_type": "markdown",
   "metadata": {},
   "source": [
    "We rename the colums to make the code look more consistent with its style."
   ]
  },
  {
   "cell_type": "code",
   "execution_count": 4,
   "metadata": {},
   "outputs": [],
   "source": [
    "df = df.rename(columns={'Gender': 'gender', 'Age': 'age', 'Salary': 'income', 'Family members': 'family_members', 'Insurance benefits': 'insurance_benefits'})"
   ]
  },
  {
   "cell_type": "code",
   "execution_count": 5,
   "metadata": {},
   "outputs": [
    {
     "data": {
      "text/html": [
       "<div>\n",
       "<style scoped>\n",
       "    .dataframe tbody tr th:only-of-type {\n",
       "        vertical-align: middle;\n",
       "    }\n",
       "\n",
       "    .dataframe tbody tr th {\n",
       "        vertical-align: top;\n",
       "    }\n",
       "\n",
       "    .dataframe thead th {\n",
       "        text-align: right;\n",
       "    }\n",
       "</style>\n",
       "<table border=\"1\" class=\"dataframe\">\n",
       "  <thead>\n",
       "    <tr style=\"text-align: right;\">\n",
       "      <th></th>\n",
       "      <th>gender</th>\n",
       "      <th>age</th>\n",
       "      <th>income</th>\n",
       "      <th>family_members</th>\n",
       "      <th>insurance_benefits</th>\n",
       "    </tr>\n",
       "  </thead>\n",
       "  <tbody>\n",
       "    <tr>\n",
       "      <td>4129</td>\n",
       "      <td>1</td>\n",
       "      <td>19.0</td>\n",
       "      <td>35600.0</td>\n",
       "      <td>2</td>\n",
       "      <td>0</td>\n",
       "    </tr>\n",
       "    <tr>\n",
       "      <td>269</td>\n",
       "      <td>1</td>\n",
       "      <td>34.0</td>\n",
       "      <td>24400.0</td>\n",
       "      <td>1</td>\n",
       "      <td>0</td>\n",
       "    </tr>\n",
       "    <tr>\n",
       "      <td>4517</td>\n",
       "      <td>0</td>\n",
       "      <td>21.0</td>\n",
       "      <td>48600.0</td>\n",
       "      <td>0</td>\n",
       "      <td>0</td>\n",
       "    </tr>\n",
       "    <tr>\n",
       "      <td>4553</td>\n",
       "      <td>1</td>\n",
       "      <td>25.0</td>\n",
       "      <td>39700.0</td>\n",
       "      <td>2</td>\n",
       "      <td>0</td>\n",
       "    </tr>\n",
       "    <tr>\n",
       "      <td>3666</td>\n",
       "      <td>0</td>\n",
       "      <td>31.0</td>\n",
       "      <td>49900.0</td>\n",
       "      <td>1</td>\n",
       "      <td>0</td>\n",
       "    </tr>\n",
       "    <tr>\n",
       "      <td>4642</td>\n",
       "      <td>0</td>\n",
       "      <td>27.0</td>\n",
       "      <td>43900.0</td>\n",
       "      <td>0</td>\n",
       "      <td>0</td>\n",
       "    </tr>\n",
       "    <tr>\n",
       "      <td>4538</td>\n",
       "      <td>1</td>\n",
       "      <td>23.0</td>\n",
       "      <td>39500.0</td>\n",
       "      <td>0</td>\n",
       "      <td>0</td>\n",
       "    </tr>\n",
       "    <tr>\n",
       "      <td>2217</td>\n",
       "      <td>1</td>\n",
       "      <td>32.0</td>\n",
       "      <td>40000.0</td>\n",
       "      <td>1</td>\n",
       "      <td>0</td>\n",
       "    </tr>\n",
       "    <tr>\n",
       "      <td>1861</td>\n",
       "      <td>1</td>\n",
       "      <td>37.0</td>\n",
       "      <td>52400.0</td>\n",
       "      <td>0</td>\n",
       "      <td>0</td>\n",
       "    </tr>\n",
       "    <tr>\n",
       "      <td>2539</td>\n",
       "      <td>0</td>\n",
       "      <td>29.0</td>\n",
       "      <td>42800.0</td>\n",
       "      <td>3</td>\n",
       "      <td>0</td>\n",
       "    </tr>\n",
       "  </tbody>\n",
       "</table>\n",
       "</div>"
      ],
      "text/plain": [
       "      gender   age   income  family_members  insurance_benefits\n",
       "4129       1  19.0  35600.0               2                   0\n",
       "269        1  34.0  24400.0               1                   0\n",
       "4517       0  21.0  48600.0               0                   0\n",
       "4553       1  25.0  39700.0               2                   0\n",
       "3666       0  31.0  49900.0               1                   0\n",
       "4642       0  27.0  43900.0               0                   0\n",
       "4538       1  23.0  39500.0               0                   0\n",
       "2217       1  32.0  40000.0               1                   0\n",
       "1861       1  37.0  52400.0               0                   0\n",
       "2539       0  29.0  42800.0               3                   0"
      ]
     },
     "execution_count": 5,
     "metadata": {},
     "output_type": "execute_result"
    }
   ],
   "source": [
    "df.sample(10)"
   ]
  },
  {
   "cell_type": "code",
   "execution_count": 6,
   "metadata": {},
   "outputs": [
    {
     "name": "stdout",
     "output_type": "stream",
     "text": [
      "<class 'pandas.core.frame.DataFrame'>\n",
      "RangeIndex: 5000 entries, 0 to 4999\n",
      "Data columns (total 5 columns):\n",
      "gender                5000 non-null int64\n",
      "age                   5000 non-null float64\n",
      "income                5000 non-null float64\n",
      "family_members        5000 non-null int64\n",
      "insurance_benefits    5000 non-null int64\n",
      "dtypes: float64(2), int64(3)\n",
      "memory usage: 195.4 KB\n"
     ]
    }
   ],
   "source": [
    "df.info()"
   ]
  },
  {
   "cell_type": "code",
   "execution_count": 7,
   "metadata": {},
   "outputs": [],
   "source": [
    "# we may want to fix the age type (from float to int) though this is not critical\n",
    "\n",
    "# write your conversion here if you choose:\n",
    "df['age'] = df['age'].astype(int)"
   ]
  },
  {
   "cell_type": "code",
   "execution_count": 8,
   "metadata": {
    "scrolled": true
   },
   "outputs": [
    {
     "name": "stdout",
     "output_type": "stream",
     "text": [
      "<class 'pandas.core.frame.DataFrame'>\n",
      "RangeIndex: 5000 entries, 0 to 4999\n",
      "Data columns (total 5 columns):\n",
      "gender                5000 non-null int64\n",
      "age                   5000 non-null int64\n",
      "income                5000 non-null float64\n",
      "family_members        5000 non-null int64\n",
      "insurance_benefits    5000 non-null int64\n",
      "dtypes: float64(1), int64(4)\n",
      "memory usage: 195.4 KB\n"
     ]
    }
   ],
   "source": [
    "# check to see that the conversion was successful\n",
    "df.info()\n",
    "#age was converted to int"
   ]
  },
  {
   "cell_type": "code",
   "execution_count": 9,
   "metadata": {},
   "outputs": [],
   "source": [
    "df = df.drop_duplicates().reset_index()"
   ]
  },
  {
   "cell_type": "code",
   "execution_count": 10,
   "metadata": {},
   "outputs": [],
   "source": [
    "df['income'] = df['income'].astype('int64')"
   ]
  },
  {
   "cell_type": "code",
   "execution_count": 11,
   "metadata": {},
   "outputs": [
    {
     "data": {
      "text/plain": [
       "index                 0\n",
       "gender                0\n",
       "age                   0\n",
       "income                0\n",
       "family_members        0\n",
       "insurance_benefits    0\n",
       "dtype: int64"
      ]
     },
     "execution_count": 11,
     "metadata": {},
     "output_type": "execute_result"
    }
   ],
   "source": [
    "#Check for null values\n",
    "df.isnull().sum()"
   ]
  },
  {
   "cell_type": "code",
   "execution_count": 12,
   "metadata": {},
   "outputs": [],
   "source": [
    "# now have a look at the data's descriptive statistics. \n",
    "# Does everything look okay?"
   ]
  },
  {
   "cell_type": "code",
   "execution_count": null,
   "metadata": {},
   "outputs": [],
   "source": []
  },
  {
   "cell_type": "markdown",
   "metadata": {},
   "source": [
    "## EDA"
   ]
  },
  {
   "cell_type": "markdown",
   "metadata": {},
   "source": [
    "Let's quickly check whether there are certain groups of customers by looking at the pair plot."
   ]
  },
  {
   "cell_type": "code",
   "execution_count": 13,
   "metadata": {},
   "outputs": [
    {
     "data": {
      "image/png": "[encoded data removed]",
      "text/plain": [
       "<Figure size 864x864 with 42 Axes>"
      ]
     },
     "metadata": {
      "needs_background": "light"
     },
     "output_type": "display_data"
    }
   ],
   "source": [
    "g = sns.pairplot(df, kind='hist')\n",
    "g.fig.set_size_inches(12, 12)"
   ]
  },
  {
   "cell_type": "markdown",
   "metadata": {},
   "source": [
    "Ok, it is a bit difficult to spot obvious groups (clusters) as it is difficult to combine several variables simultaneously (to analyze multivariate distributions). That's where LA and ML can be quite handy."
   ]
  },
  {
   "cell_type": "markdown",
   "metadata": {},
   "source": [
    "# Task 1. Similar Customers"
   ]
  },
  {
   "cell_type": "markdown",
   "metadata": {},
   "source": [
    "In the language of ML, it is necessary to develop a procedure that returns k nearest neighbors (objects) for a given object based on the distance between the objects.\n",
    "\n",
    "You may want to review the following lessons (chapter -> lesson)\n",
    "- Distance Between Vectors -> Euclidean Distance\n",
    "- Distance Between Vectors -> Manhattan Distance\n",
    "\n",
    "To solve the task, we can try different distance metrics."
   ]
  },
  {
   "cell_type": "markdown",
   "metadata": {},
   "source": [
    "Write a function that returns k nearest neighbors for an $n^{th}$ object based on a specified distance metric. The number of received insurance benefits should not be taken into account for this task. \n",
    "\n",
    "You can use a ready implementation of the kNN algorithm from scikit-learn (check [the link](https://scikit-learn.org/stable/modules/generated/sklearn.neighbors.NearestNeighbors.html#sklearn.neighbors.NearestNeighbors)) or use your own.\n",
    "\n",
    "Test it for four combination of two cases\n",
    "- Scaling\n",
    "  - the data is not scaled\n",
    "  - the data is scaled with the [MaxAbsScaler](https://scikit-learn.org/stable/modules/generated/sklearn.preprocessing.MaxAbsScaler.html) scaler\n",
    "- Distance Metrics\n",
    "  - Euclidean\n",
    "  - Manhattan\n",
    "\n",
    "Answer these questions:\n",
    "- Does the data being not scaled affect the kNN algorithm? If so, how does that appear?\n",
    "- How similar are the results using the Manhattan distance metric (regardless of the scaling)?"
   ]
  },
  {
   "cell_type": "code",
   "execution_count": 14,
   "metadata": {},
   "outputs": [],
   "source": [
    "feature_names = ['gender', 'age', 'income', 'family_members']\n",
    "target = df.drop(columns = ['insurance_benefits'], axis=1)"
   ]
  },
  {
   "cell_type": "code",
   "execution_count": 15,
   "metadata": {},
   "outputs": [],
   "source": [
    "def get_knn(df, n, k, metric):\n",
    "    \n",
    "    \"\"\"\n",
    "    Returns k nearest neighbors\n",
    "\n",
    "    :param df: pandas DataFrame used to find similar objects within\n",
    "    :param n: object no for which the nearest neighbours are looked for\n",
    "    :param k: the number of the nearest neighbours to return\n",
    "    :param metric: name of distance metric\n",
    "    \"\"\"\n",
    "\n",
    "    nbrs = NearestNeighbors(n_neighbors=k, metric=metric) # <write code here>\n",
    "    nbrs.fit(df[feature_names], target)\n",
    "    nbrs_distances, nbrs_indices = nbrs.kneighbors([df.iloc[n][feature_names]], k, return_distance=True)\n",
    "    #kneighbors methods: finds the k neighbors of a point\n",
    "    \n",
    "    \n",
    "    df_res = pd.concat([\n",
    "        df.iloc[nbrs_indices[0]], \n",
    "        pd.DataFrame(nbrs_distances.T, index=nbrs_indices[0], columns=['distance'])\n",
    "        ], axis=1)\n",
    "    \n",
    "    return df_res"
   ]
  },
  {
   "cell_type": "markdown",
   "metadata": {},
   "source": [
    "<div class=\"alert alert-success\">\n",
    "<b>Reviewer's comment</b>\n",
    "\n",
    "The function for getting k nearest neighbors is correct\n",
    "\n",
    "</div>"
   ]
  },
  {
   "cell_type": "markdown",
   "metadata": {},
   "source": [
    "1) .kneighbors method: finds the k neighbors of a point.\n",
    "    a. Ex: df.kneighbors([X, n_neighbors,return_distance[)"
   ]
  },
  {
   "cell_type": "markdown",
   "metadata": {},
   "source": [
    "Unscaled data"
   ]
  },
  {
   "cell_type": "code",
   "execution_count": 16,
   "metadata": {},
   "outputs": [
    {
     "data": {
      "text/html": [
       "<div>\n",
       "<style scoped>\n",
       "    .dataframe tbody tr th:only-of-type {\n",
       "        vertical-align: middle;\n",
       "    }\n",
       "\n",
       "    .dataframe tbody tr th {\n",
       "        vertical-align: top;\n",
       "    }\n",
       "\n",
       "    .dataframe thead th {\n",
       "        text-align: right;\n",
       "    }\n",
       "</style>\n",
       "<table border=\"1\" class=\"dataframe\">\n",
       "  <thead>\n",
       "    <tr style=\"text-align: right;\">\n",
       "      <th></th>\n",
       "      <th>index</th>\n",
       "      <th>gender</th>\n",
       "      <th>age</th>\n",
       "      <th>income</th>\n",
       "      <th>family_members</th>\n",
       "      <th>insurance_benefits</th>\n",
       "    </tr>\n",
       "  </thead>\n",
       "  <tbody>\n",
       "    <tr>\n",
       "      <td>898</td>\n",
       "      <td>905</td>\n",
       "      <td>1</td>\n",
       "      <td>44</td>\n",
       "      <td>32100</td>\n",
       "      <td>1</td>\n",
       "      <td>1</td>\n",
       "    </tr>\n",
       "    <tr>\n",
       "      <td>1120</td>\n",
       "      <td>1130</td>\n",
       "      <td>1</td>\n",
       "      <td>38</td>\n",
       "      <td>50200</td>\n",
       "      <td>2</td>\n",
       "      <td>0</td>\n",
       "    </tr>\n",
       "    <tr>\n",
       "      <td>1029</td>\n",
       "      <td>1037</td>\n",
       "      <td>1</td>\n",
       "      <td>52</td>\n",
       "      <td>31400</td>\n",
       "      <td>1</td>\n",
       "      <td>2</td>\n",
       "    </tr>\n",
       "    <tr>\n",
       "      <td>4801</td>\n",
       "      <td>4953</td>\n",
       "      <td>0</td>\n",
       "      <td>42</td>\n",
       "      <td>61400</td>\n",
       "      <td>3</td>\n",
       "      <td>0</td>\n",
       "    </tr>\n",
       "    <tr>\n",
       "      <td>371</td>\n",
       "      <td>372</td>\n",
       "      <td>0</td>\n",
       "      <td>37</td>\n",
       "      <td>33700</td>\n",
       "      <td>1</td>\n",
       "      <td>0</td>\n",
       "    </tr>\n",
       "  </tbody>\n",
       "</table>\n",
       "</div>"
      ],
      "text/plain": [
       "      index  gender  age  income  family_members  insurance_benefits\n",
       "898     905       1   44   32100               1                   1\n",
       "1120   1130       1   38   50200               2                   0\n",
       "1029   1037       1   52   31400               1                   2\n",
       "4801   4953       0   42   61400               3                   0\n",
       "371     372       0   37   33700               1                   0"
      ]
     },
     "execution_count": 16,
     "metadata": {},
     "output_type": "execute_result"
    }
   ],
   "source": [
    "df.sample(5)"
   ]
  },
  {
   "cell_type": "markdown",
   "metadata": {},
   "source": [
    "Scaling the data."
   ]
  },
  {
   "cell_type": "code",
   "execution_count": 17,
   "metadata": {},
   "outputs": [],
   "source": [
    "feature_names = ['gender', 'age', 'income', 'family_members']\n",
    "\n",
    "transformer_mas = sklearn.preprocessing.MaxAbsScaler().fit(df[feature_names].to_numpy())\n",
    "\n",
    "df_scaled = df.copy()\n",
    "df_scaled.loc[:, feature_names] = transformer_mas.transform(df[feature_names].to_numpy())"
   ]
  },
  {
   "cell_type": "code",
   "execution_count": 18,
   "metadata": {},
   "outputs": [
    {
     "data": {
      "text/html": [
       "<div>\n",
       "<style scoped>\n",
       "    .dataframe tbody tr th:only-of-type {\n",
       "        vertical-align: middle;\n",
       "    }\n",
       "\n",
       "    .dataframe tbody tr th {\n",
       "        vertical-align: top;\n",
       "    }\n",
       "\n",
       "    .dataframe thead th {\n",
       "        text-align: right;\n",
       "    }\n",
       "</style>\n",
       "<table border=\"1\" class=\"dataframe\">\n",
       "  <thead>\n",
       "    <tr style=\"text-align: right;\">\n",
       "      <th></th>\n",
       "      <th>index</th>\n",
       "      <th>gender</th>\n",
       "      <th>age</th>\n",
       "      <th>income</th>\n",
       "      <th>family_members</th>\n",
       "      <th>insurance_benefits</th>\n",
       "    </tr>\n",
       "  </thead>\n",
       "  <tbody>\n",
       "    <tr>\n",
       "      <td>231</td>\n",
       "      <td>231</td>\n",
       "      <td>0.0</td>\n",
       "      <td>0.538462</td>\n",
       "      <td>0.522785</td>\n",
       "      <td>0.333333</td>\n",
       "      <td>0</td>\n",
       "    </tr>\n",
       "    <tr>\n",
       "      <td>731</td>\n",
       "      <td>735</td>\n",
       "      <td>0.0</td>\n",
       "      <td>0.276923</td>\n",
       "      <td>0.693671</td>\n",
       "      <td>0.166667</td>\n",
       "      <td>0</td>\n",
       "    </tr>\n",
       "    <tr>\n",
       "      <td>3233</td>\n",
       "      <td>3319</td>\n",
       "      <td>1.0</td>\n",
       "      <td>0.323077</td>\n",
       "      <td>0.494937</td>\n",
       "      <td>0.500000</td>\n",
       "      <td>0</td>\n",
       "    </tr>\n",
       "    <tr>\n",
       "      <td>4623</td>\n",
       "      <td>4770</td>\n",
       "      <td>0.0</td>\n",
       "      <td>0.584615</td>\n",
       "      <td>0.630380</td>\n",
       "      <td>0.000000</td>\n",
       "      <td>0</td>\n",
       "    </tr>\n",
       "    <tr>\n",
       "      <td>1466</td>\n",
       "      <td>1481</td>\n",
       "      <td>0.0</td>\n",
       "      <td>0.507692</td>\n",
       "      <td>0.688608</td>\n",
       "      <td>0.166667</td>\n",
       "      <td>0</td>\n",
       "    </tr>\n",
       "  </tbody>\n",
       "</table>\n",
       "</div>"
      ],
      "text/plain": [
       "      index  gender       age    income  family_members  insurance_benefits\n",
       "231     231     0.0  0.538462  0.522785        0.333333                   0\n",
       "731     735     0.0  0.276923  0.693671        0.166667                   0\n",
       "3233   3319     1.0  0.323077  0.494937        0.500000                   0\n",
       "4623   4770     0.0  0.584615  0.630380        0.000000                   0\n",
       "1466   1481     0.0  0.507692  0.688608        0.166667                   0"
      ]
     },
     "execution_count": 18,
     "metadata": {},
     "output_type": "execute_result"
    }
   ],
   "source": [
    "df_scaled.sample(5)"
   ]
  },
  {
   "cell_type": "markdown",
   "metadata": {},
   "source": [
    "Now, let's get similar records for a given one for every combination: 1) unscaled, euclidean, 2) scaled, euclidean 3) unscaled, manhattan 4) scaled, manhattan"
   ]
  },
  {
   "cell_type": "code",
   "execution_count": 19,
   "metadata": {},
   "outputs": [
    {
     "name": "stderr",
     "output_type": "stream",
     "text": [
      "/home/jovyan/.local/lib/python3.7/site-packages/sklearn/base.py:451: UserWarning: X does not have valid feature names, but NearestNeighbors was fitted with feature names\n",
      "  \"X does not have valid feature names, but\"\n"
     ]
    },
    {
     "data": {
      "text/html": [
       "<div>\n",
       "<style scoped>\n",
       "    .dataframe tbody tr th:only-of-type {\n",
       "        vertical-align: middle;\n",
       "    }\n",
       "\n",
       "    .dataframe tbody tr th {\n",
       "        vertical-align: top;\n",
       "    }\n",
       "\n",
       "    .dataframe thead th {\n",
       "        text-align: right;\n",
       "    }\n",
       "</style>\n",
       "<table border=\"1\" class=\"dataframe\">\n",
       "  <thead>\n",
       "    <tr style=\"text-align: right;\">\n",
       "      <th></th>\n",
       "      <th>index</th>\n",
       "      <th>gender</th>\n",
       "      <th>age</th>\n",
       "      <th>income</th>\n",
       "      <th>family_members</th>\n",
       "      <th>insurance_benefits</th>\n",
       "      <th>distance</th>\n",
       "    </tr>\n",
       "  </thead>\n",
       "  <tbody>\n",
       "    <tr>\n",
       "      <td>10</td>\n",
       "      <td>10</td>\n",
       "      <td>1</td>\n",
       "      <td>25</td>\n",
       "      <td>36600</td>\n",
       "      <td>1</td>\n",
       "      <td>0</td>\n",
       "      <td>0.000000</td>\n",
       "    </tr>\n",
       "    <tr>\n",
       "      <td>3924</td>\n",
       "      <td>4039</td>\n",
       "      <td>1</td>\n",
       "      <td>25</td>\n",
       "      <td>36600</td>\n",
       "      <td>2</td>\n",
       "      <td>0</td>\n",
       "      <td>1.000000</td>\n",
       "    </tr>\n",
       "    <tr>\n",
       "      <td>2007</td>\n",
       "      <td>2037</td>\n",
       "      <td>1</td>\n",
       "      <td>26</td>\n",
       "      <td>36600</td>\n",
       "      <td>0</td>\n",
       "      <td>0</td>\n",
       "      <td>1.414214</td>\n",
       "    </tr>\n",
       "    <tr>\n",
       "      <td>3169</td>\n",
       "      <td>3247</td>\n",
       "      <td>1</td>\n",
       "      <td>26</td>\n",
       "      <td>36600</td>\n",
       "      <td>2</td>\n",
       "      <td>0</td>\n",
       "      <td>1.414214</td>\n",
       "    </tr>\n",
       "    <tr>\n",
       "      <td>1492</td>\n",
       "      <td>1508</td>\n",
       "      <td>0</td>\n",
       "      <td>26</td>\n",
       "      <td>36600</td>\n",
       "      <td>0</td>\n",
       "      <td>0</td>\n",
       "      <td>1.732051</td>\n",
       "    </tr>\n",
       "  </tbody>\n",
       "</table>\n",
       "</div>"
      ],
      "text/plain": [
       "      index  gender  age  income  family_members  insurance_benefits  distance\n",
       "10       10       1   25   36600               1                   0  0.000000\n",
       "3924   4039       1   25   36600               2                   0  1.000000\n",
       "2007   2037       1   26   36600               0                   0  1.414214\n",
       "3169   3247       1   26   36600               2                   0  1.414214\n",
       "1492   1508       0   26   36600               0                   0  1.732051"
      ]
     },
     "execution_count": 19,
     "metadata": {},
     "output_type": "execute_result"
    }
   ],
   "source": [
    "# case 1: unscaled, euclidean\n",
    "get_knn(df, 10, 5, 'euclidean')"
   ]
  },
  {
   "cell_type": "code",
   "execution_count": 20,
   "metadata": {},
   "outputs": [
    {
     "name": "stderr",
     "output_type": "stream",
     "text": [
      "/home/jovyan/.local/lib/python3.7/site-packages/sklearn/base.py:451: UserWarning: X does not have valid feature names, but NearestNeighbors was fitted with feature names\n",
      "  \"X does not have valid feature names, but\"\n"
     ]
    },
    {
     "data": {
      "text/html": [
       "<div>\n",
       "<style scoped>\n",
       "    .dataframe tbody tr th:only-of-type {\n",
       "        vertical-align: middle;\n",
       "    }\n",
       "\n",
       "    .dataframe tbody tr th {\n",
       "        vertical-align: top;\n",
       "    }\n",
       "\n",
       "    .dataframe thead th {\n",
       "        text-align: right;\n",
       "    }\n",
       "</style>\n",
       "<table border=\"1\" class=\"dataframe\">\n",
       "  <thead>\n",
       "    <tr style=\"text-align: right;\">\n",
       "      <th></th>\n",
       "      <th>index</th>\n",
       "      <th>gender</th>\n",
       "      <th>age</th>\n",
       "      <th>income</th>\n",
       "      <th>family_members</th>\n",
       "      <th>insurance_benefits</th>\n",
       "      <th>distance</th>\n",
       "    </tr>\n",
       "  </thead>\n",
       "  <tbody>\n",
       "    <tr>\n",
       "      <td>10</td>\n",
       "      <td>10</td>\n",
       "      <td>1.0</td>\n",
       "      <td>0.384615</td>\n",
       "      <td>0.463291</td>\n",
       "      <td>0.166667</td>\n",
       "      <td>0</td>\n",
       "      <td>0.000000</td>\n",
       "    </tr>\n",
       "    <tr>\n",
       "      <td>4243</td>\n",
       "      <td>4377</td>\n",
       "      <td>1.0</td>\n",
       "      <td>0.384615</td>\n",
       "      <td>0.473418</td>\n",
       "      <td>0.166667</td>\n",
       "      <td>0</td>\n",
       "      <td>0.010127</td>\n",
       "    </tr>\n",
       "    <tr>\n",
       "      <td>1374</td>\n",
       "      <td>1389</td>\n",
       "      <td>1.0</td>\n",
       "      <td>0.369231</td>\n",
       "      <td>0.464557</td>\n",
       "      <td>0.166667</td>\n",
       "      <td>0</td>\n",
       "      <td>0.015437</td>\n",
       "    </tr>\n",
       "    <tr>\n",
       "      <td>756</td>\n",
       "      <td>760</td>\n",
       "      <td>1.0</td>\n",
       "      <td>0.369231</td>\n",
       "      <td>0.462025</td>\n",
       "      <td>0.166667</td>\n",
       "      <td>0</td>\n",
       "      <td>0.015437</td>\n",
       "    </tr>\n",
       "    <tr>\n",
       "      <td>2219</td>\n",
       "      <td>2254</td>\n",
       "      <td>1.0</td>\n",
       "      <td>0.400000</td>\n",
       "      <td>0.455696</td>\n",
       "      <td>0.166667</td>\n",
       "      <td>0</td>\n",
       "      <td>0.017157</td>\n",
       "    </tr>\n",
       "  </tbody>\n",
       "</table>\n",
       "</div>"
      ],
      "text/plain": [
       "      index  gender       age    income  family_members  insurance_benefits  \\\n",
       "10       10     1.0  0.384615  0.463291        0.166667                   0   \n",
       "4243   4377     1.0  0.384615  0.473418        0.166667                   0   \n",
       "1374   1389     1.0  0.369231  0.464557        0.166667                   0   \n",
       "756     760     1.0  0.369231  0.462025        0.166667                   0   \n",
       "2219   2254     1.0  0.400000  0.455696        0.166667                   0   \n",
       "\n",
       "      distance  \n",
       "10    0.000000  \n",
       "4243  0.010127  \n",
       "1374  0.015437  \n",
       "756   0.015437  \n",
       "2219  0.017157  "
      ]
     },
     "execution_count": 20,
     "metadata": {},
     "output_type": "execute_result"
    }
   ],
   "source": [
    "#case 2: scaled, euclidean\n",
    "get_knn(df_scaled, 10, 5, 'euclidean')"
   ]
  },
  {
   "cell_type": "code",
   "execution_count": 21,
   "metadata": {},
   "outputs": [
    {
     "name": "stderr",
     "output_type": "stream",
     "text": [
      "/home/jovyan/.local/lib/python3.7/site-packages/sklearn/base.py:451: UserWarning: X does not have valid feature names, but NearestNeighbors was fitted with feature names\n",
      "  \"X does not have valid feature names, but\"\n"
     ]
    },
    {
     "data": {
      "text/html": [
       "<div>\n",
       "<style scoped>\n",
       "    .dataframe tbody tr th:only-of-type {\n",
       "        vertical-align: middle;\n",
       "    }\n",
       "\n",
       "    .dataframe tbody tr th {\n",
       "        vertical-align: top;\n",
       "    }\n",
       "\n",
       "    .dataframe thead th {\n",
       "        text-align: right;\n",
       "    }\n",
       "</style>\n",
       "<table border=\"1\" class=\"dataframe\">\n",
       "  <thead>\n",
       "    <tr style=\"text-align: right;\">\n",
       "      <th></th>\n",
       "      <th>index</th>\n",
       "      <th>gender</th>\n",
       "      <th>age</th>\n",
       "      <th>income</th>\n",
       "      <th>family_members</th>\n",
       "      <th>insurance_benefits</th>\n",
       "      <th>distance</th>\n",
       "    </tr>\n",
       "  </thead>\n",
       "  <tbody>\n",
       "    <tr>\n",
       "      <td>10</td>\n",
       "      <td>10</td>\n",
       "      <td>1</td>\n",
       "      <td>25</td>\n",
       "      <td>36600</td>\n",
       "      <td>1</td>\n",
       "      <td>0</td>\n",
       "      <td>0.0</td>\n",
       "    </tr>\n",
       "    <tr>\n",
       "      <td>3924</td>\n",
       "      <td>4039</td>\n",
       "      <td>1</td>\n",
       "      <td>25</td>\n",
       "      <td>36600</td>\n",
       "      <td>2</td>\n",
       "      <td>0</td>\n",
       "      <td>1.0</td>\n",
       "    </tr>\n",
       "    <tr>\n",
       "      <td>2007</td>\n",
       "      <td>2037</td>\n",
       "      <td>1</td>\n",
       "      <td>26</td>\n",
       "      <td>36600</td>\n",
       "      <td>0</td>\n",
       "      <td>0</td>\n",
       "      <td>2.0</td>\n",
       "    </tr>\n",
       "    <tr>\n",
       "      <td>3169</td>\n",
       "      <td>3247</td>\n",
       "      <td>1</td>\n",
       "      <td>26</td>\n",
       "      <td>36600</td>\n",
       "      <td>2</td>\n",
       "      <td>0</td>\n",
       "      <td>2.0</td>\n",
       "    </tr>\n",
       "    <tr>\n",
       "      <td>1492</td>\n",
       "      <td>1508</td>\n",
       "      <td>0</td>\n",
       "      <td>26</td>\n",
       "      <td>36600</td>\n",
       "      <td>0</td>\n",
       "      <td>0</td>\n",
       "      <td>3.0</td>\n",
       "    </tr>\n",
       "  </tbody>\n",
       "</table>\n",
       "</div>"
      ],
      "text/plain": [
       "      index  gender  age  income  family_members  insurance_benefits  distance\n",
       "10       10       1   25   36600               1                   0       0.0\n",
       "3924   4039       1   25   36600               2                   0       1.0\n",
       "2007   2037       1   26   36600               0                   0       2.0\n",
       "3169   3247       1   26   36600               2                   0       2.0\n",
       "1492   1508       0   26   36600               0                   0       3.0"
      ]
     },
     "execution_count": 21,
     "metadata": {},
     "output_type": "execute_result"
    }
   ],
   "source": [
    "#case 3: unscaled, manhattan\n",
    "get_knn(df, 10, 5, 'manhattan')"
   ]
  },
  {
   "cell_type": "code",
   "execution_count": 22,
   "metadata": {},
   "outputs": [
    {
     "name": "stderr",
     "output_type": "stream",
     "text": [
      "/home/jovyan/.local/lib/python3.7/site-packages/sklearn/base.py:451: UserWarning: X does not have valid feature names, but NearestNeighbors was fitted with feature names\n",
      "  \"X does not have valid feature names, but\"\n"
     ]
    },
    {
     "data": {
      "text/html": [
       "<div>\n",
       "<style scoped>\n",
       "    .dataframe tbody tr th:only-of-type {\n",
       "        vertical-align: middle;\n",
       "    }\n",
       "\n",
       "    .dataframe tbody tr th {\n",
       "        vertical-align: top;\n",
       "    }\n",
       "\n",
       "    .dataframe thead th {\n",
       "        text-align: right;\n",
       "    }\n",
       "</style>\n",
       "<table border=\"1\" class=\"dataframe\">\n",
       "  <thead>\n",
       "    <tr style=\"text-align: right;\">\n",
       "      <th></th>\n",
       "      <th>index</th>\n",
       "      <th>gender</th>\n",
       "      <th>age</th>\n",
       "      <th>income</th>\n",
       "      <th>family_members</th>\n",
       "      <th>insurance_benefits</th>\n",
       "      <th>distance</th>\n",
       "    </tr>\n",
       "  </thead>\n",
       "  <tbody>\n",
       "    <tr>\n",
       "      <td>10</td>\n",
       "      <td>10</td>\n",
       "      <td>1.0</td>\n",
       "      <td>0.384615</td>\n",
       "      <td>0.463291</td>\n",
       "      <td>0.166667</td>\n",
       "      <td>0</td>\n",
       "      <td>0.000000</td>\n",
       "    </tr>\n",
       "    <tr>\n",
       "      <td>4243</td>\n",
       "      <td>4377</td>\n",
       "      <td>1.0</td>\n",
       "      <td>0.384615</td>\n",
       "      <td>0.473418</td>\n",
       "      <td>0.166667</td>\n",
       "      <td>0</td>\n",
       "      <td>0.010127</td>\n",
       "    </tr>\n",
       "    <tr>\n",
       "      <td>1374</td>\n",
       "      <td>1389</td>\n",
       "      <td>1.0</td>\n",
       "      <td>0.369231</td>\n",
       "      <td>0.464557</td>\n",
       "      <td>0.166667</td>\n",
       "      <td>0</td>\n",
       "      <td>0.016650</td>\n",
       "    </tr>\n",
       "    <tr>\n",
       "      <td>756</td>\n",
       "      <td>760</td>\n",
       "      <td>1.0</td>\n",
       "      <td>0.369231</td>\n",
       "      <td>0.462025</td>\n",
       "      <td>0.166667</td>\n",
       "      <td>0</td>\n",
       "      <td>0.016650</td>\n",
       "    </tr>\n",
       "    <tr>\n",
       "      <td>2219</td>\n",
       "      <td>2254</td>\n",
       "      <td>1.0</td>\n",
       "      <td>0.400000</td>\n",
       "      <td>0.455696</td>\n",
       "      <td>0.166667</td>\n",
       "      <td>0</td>\n",
       "      <td>0.022980</td>\n",
       "    </tr>\n",
       "  </tbody>\n",
       "</table>\n",
       "</div>"
      ],
      "text/plain": [
       "      index  gender       age    income  family_members  insurance_benefits  \\\n",
       "10       10     1.0  0.384615  0.463291        0.166667                   0   \n",
       "4243   4377     1.0  0.384615  0.473418        0.166667                   0   \n",
       "1374   1389     1.0  0.369231  0.464557        0.166667                   0   \n",
       "756     760     1.0  0.369231  0.462025        0.166667                   0   \n",
       "2219   2254     1.0  0.400000  0.455696        0.166667                   0   \n",
       "\n",
       "      distance  \n",
       "10    0.000000  \n",
       "4243  0.010127  \n",
       "1374  0.016650  \n",
       "756   0.016650  \n",
       "2219  0.022980  "
      ]
     },
     "execution_count": 22,
     "metadata": {},
     "output_type": "execute_result"
    }
   ],
   "source": [
    "#case 4: scaled, manhattan\n",
    "get_knn(df_scaled, 10, 5, 'manhattan')"
   ]
  },
  {
   "cell_type": "markdown",
   "metadata": {},
   "source": [
    "Answers to the questions"
   ]
  },
  {
   "cell_type": "markdown",
   "metadata": {},
   "source": [
    "**Does the data being not scaled affect the kNN algorithm? If so, how does that appear?** \n",
    "\n",
    "<span style='color:blue'> The kNN algorithm is affected because the indexes chosen are different when the data is scaled vs. unscaled for both manhattan and euclidean metrics. </span>"
   ]
  },
  {
   "cell_type": "markdown",
   "metadata": {},
   "source": [
    "**How similar are the results using the Manhattan distance metric (regardless of the scaling)?** \n",
    "\n",
    "<span style='color:blue'> The results were identical regardless of scaling, which is indicated by again comparing the indexes that were chosen. </span>"
   ]
  },
  {
   "cell_type": "markdown",
   "metadata": {},
   "source": [
    "<div class=\"alert alert-warning\">\n",
    "<b>Reviewer's comment</b>\n",
    "\n",
    "One important way in which the results on scaled vs unscaled data are different is that for unscaled data if one variable has a much bigger magnitude than others (like income), it dominates the distance metric, and the other features are treated as less important\n",
    "\n",
    "</div>"
   ]
  },
  {
   "cell_type": "markdown",
   "metadata": {},
   "source": [
    "# Task 2. Is Customer Likely to Receive Insurance Benefit?"
   ]
  },
  {
   "cell_type": "markdown",
   "metadata": {},
   "source": [
    "In terms of machine learning we can look at this like a binary classification task."
   ]
  },
  {
   "cell_type": "markdown",
   "metadata": {},
   "source": [
    "With `insurance_benefits` being more than zero as the target, evaluate whether the kNN classification approach can do better than a dummy model.\n",
    "\n",
    "Instructions:\n",
    "- Build a KNN-based classifier and measure its quality with the F1 metric for k=1..10 for **both the original data and the scaled one.** That'd be interesting to see how k may influece the evaluation metric, and whether scaling the data makes any difference. You can use a ready implemention of the kNN classification algorithm from scikit-learn (check [the link](https://scikit-learn.org/stable/modules/generated/sklearn.neighbors.KNeighborsClassifier.html)) or use your own.\n",
    "- Build the dummy model which is just random for this case. It should return \"1\" with some probability. Let's test the model with four probability values: 0, the probability of paying any insurance benefit, 0.5, 1.\n",
    "\n",
    "The probability of paying any insurance benefit can be defined as\n",
    "\n",
    "$$\n",
    "P\\{\\text{insurance benefit received}\\}=\\frac{\\text{number of clients received any insurance benefit}}{\\text{total number of clients}}.\n",
    "$$\n"
   ]
  },
  {
   "cell_type": "markdown",
   "metadata": {},
   "source": [
    "1) Create the df['insurance_benefits_received'] feature for **both** scaled and unscaled:\n",
    "\n",
    "df['insurance_benefits_received'] = number of clients received any insurance benefit"
   ]
  },
  {
   "cell_type": "code",
   "execution_count": 23,
   "metadata": {},
   "outputs": [
    {
     "data": {
      "text/plain": [
       "0    4284\n",
       "1     563\n",
       "Name: insurance_benefits_received, dtype: int64"
      ]
     },
     "execution_count": 23,
     "metadata": {},
     "output_type": "execute_result"
    }
   ],
   "source": [
    "#Unscaled insurance_benefits_received\n",
    "conditions_us = [(df['insurance_benefits'] == 0),\n",
    "             df['insurance_benefits'] != 0]\n",
    "\n",
    "values = [0, 1] #1 meaning the client has received any number of insurance benefits\n",
    "\n",
    "df['insurance_benefits_received'] = np.select(conditions_us, values)\n",
    "df['insurance_benefits_received'].value_counts()"
   ]
  },
  {
   "cell_type": "code",
   "execution_count": 24,
   "metadata": {},
   "outputs": [
    {
     "data": {
      "text/plain": [
       "0    4284\n",
       "1     563\n",
       "Name: insurance_benefits_received, dtype: int64"
      ]
     },
     "execution_count": 24,
     "metadata": {},
     "output_type": "execute_result"
    }
   ],
   "source": [
    "#Scaled insurance_benefits_received\n",
    "conditions_s = [(df_scaled['insurance_benefits'] == 0),\n",
    "               df_scaled['insurance_benefits'] != 0]\n",
    "\n",
    "values = [0,1]\n",
    "\n",
    "df_scaled['insurance_benefits_received'] = np.select(conditions_s, values)\n",
    "df_scaled['insurance_benefits_received'].value_counts()"
   ]
  },
  {
   "cell_type": "markdown",
   "metadata": {},
   "source": [
    "<div class=\"alert alert-success\">\n",
    "<b>Reviewer's comment</b>\n",
    "\n",
    "Target variable is correct\n",
    "\n",
    "</div>"
   ]
  },
  {
   "cell_type": "markdown",
   "metadata": {},
   "source": [
    "Split the whole data in the 70:30 proportion for the training/testing parts."
   ]
  },
  {
   "cell_type": "code",
   "execution_count": 25,
   "metadata": {},
   "outputs": [
    {
     "data": {
      "text/plain": [
       "(3392, 4)"
      ]
     },
     "metadata": {},
     "output_type": "display_data"
    },
    {
     "data": {
      "text/plain": [
       "(3392,)"
      ]
     },
     "metadata": {},
     "output_type": "display_data"
    },
    {
     "data": {
      "text/plain": [
       "(1455, 4)"
      ]
     },
     "metadata": {},
     "output_type": "display_data"
    },
    {
     "data": {
      "text/plain": [
       "(1455,)"
      ]
     },
     "metadata": {},
     "output_type": "display_data"
    },
    {
     "data": {
      "text/plain": [
       "(3392, 4)"
      ]
     },
     "metadata": {},
     "output_type": "display_data"
    },
    {
     "data": {
      "text/plain": [
       "(3392,)"
      ]
     },
     "metadata": {},
     "output_type": "display_data"
    },
    {
     "data": {
      "text/plain": [
       "(1455, 4)"
      ]
     },
     "metadata": {},
     "output_type": "display_data"
    },
    {
     "data": {
      "text/plain": [
       "(1455,)"
      ]
     },
     "metadata": {},
     "output_type": "display_data"
    }
   ],
   "source": [
    "#Splitting the data into 70:30 for training/testing\n",
    "\n",
    "features_us = df.drop(['index', 'insurance_benefits', 'insurance_benefits_received'], axis=1)\n",
    "target_us = df['insurance_benefits_received']\n",
    "features_s = df_scaled.drop(['index', 'insurance_benefits', 'insurance_benefits_received'], axis=1)\n",
    "target_s = df_scaled['insurance_benefits_received']\n",
    "\n",
    "features_train_us, features_test_us, target_train_us, target_test_us = train_test_split(features_us, target_us, \n",
    "                                                                          train_size=0.70, random_state=12345)\n",
    "\n",
    "features_train_s, features_test_s, target_train_s, target_test_s = train_test_split(features_s, target_s, \n",
    "                                                                          train_size=0.70, random_state=12345)\n",
    "\n",
    "display(features_train_us.shape, target_train_us.shape, \n",
    "       features_test_us.shape, target_test_us.shape,\n",
    "       features_train_s.shape, target_train_s.shape,\n",
    "       features_test_s.shape, target_test_s.shape)"
   ]
  },
  {
   "cell_type": "code",
   "execution_count": 26,
   "metadata": {},
   "outputs": [
    {
     "data": {
      "text/html": [
       "<div>\n",
       "<style scoped>\n",
       "    .dataframe tbody tr th:only-of-type {\n",
       "        vertical-align: middle;\n",
       "    }\n",
       "\n",
       "    .dataframe tbody tr th {\n",
       "        vertical-align: top;\n",
       "    }\n",
       "\n",
       "    .dataframe thead th {\n",
       "        text-align: right;\n",
       "    }\n",
       "</style>\n",
       "<table border=\"1\" class=\"dataframe\">\n",
       "  <thead>\n",
       "    <tr style=\"text-align: right;\">\n",
       "      <th></th>\n",
       "      <th>gender</th>\n",
       "      <th>age</th>\n",
       "      <th>income</th>\n",
       "      <th>family_members</th>\n",
       "    </tr>\n",
       "  </thead>\n",
       "  <tbody>\n",
       "    <tr>\n",
       "      <td>0</td>\n",
       "      <td>1.0</td>\n",
       "      <td>0.630769</td>\n",
       "      <td>0.627848</td>\n",
       "      <td>0.166667</td>\n",
       "    </tr>\n",
       "    <tr>\n",
       "      <td>1</td>\n",
       "      <td>0.0</td>\n",
       "      <td>0.707692</td>\n",
       "      <td>0.481013</td>\n",
       "      <td>0.166667</td>\n",
       "    </tr>\n",
       "    <tr>\n",
       "      <td>2</td>\n",
       "      <td>0.0</td>\n",
       "      <td>0.446154</td>\n",
       "      <td>0.265823</td>\n",
       "      <td>0.000000</td>\n",
       "    </tr>\n",
       "    <tr>\n",
       "      <td>3</td>\n",
       "      <td>0.0</td>\n",
       "      <td>0.323077</td>\n",
       "      <td>0.527848</td>\n",
       "      <td>0.333333</td>\n",
       "    </tr>\n",
       "    <tr>\n",
       "      <td>4</td>\n",
       "      <td>1.0</td>\n",
       "      <td>0.430769</td>\n",
       "      <td>0.330380</td>\n",
       "      <td>0.000000</td>\n",
       "    </tr>\n",
       "    <tr>\n",
       "      <td>...</td>\n",
       "      <td>...</td>\n",
       "      <td>...</td>\n",
       "      <td>...</td>\n",
       "      <td>...</td>\n",
       "    </tr>\n",
       "    <tr>\n",
       "      <td>4842</td>\n",
       "      <td>0.0</td>\n",
       "      <td>0.430769</td>\n",
       "      <td>0.451899</td>\n",
       "      <td>0.333333</td>\n",
       "    </tr>\n",
       "    <tr>\n",
       "      <td>4843</td>\n",
       "      <td>0.0</td>\n",
       "      <td>0.523077</td>\n",
       "      <td>0.663291</td>\n",
       "      <td>0.166667</td>\n",
       "    </tr>\n",
       "    <tr>\n",
       "      <td>4844</td>\n",
       "      <td>0.0</td>\n",
       "      <td>0.307692</td>\n",
       "      <td>0.429114</td>\n",
       "      <td>0.333333</td>\n",
       "    </tr>\n",
       "    <tr>\n",
       "      <td>4845</td>\n",
       "      <td>1.0</td>\n",
       "      <td>0.338462</td>\n",
       "      <td>0.413924</td>\n",
       "      <td>0.500000</td>\n",
       "    </tr>\n",
       "    <tr>\n",
       "      <td>4846</td>\n",
       "      <td>1.0</td>\n",
       "      <td>0.430769</td>\n",
       "      <td>0.513924</td>\n",
       "      <td>0.166667</td>\n",
       "    </tr>\n",
       "  </tbody>\n",
       "</table>\n",
       "<p>4847 rows × 4 columns</p>\n",
       "</div>"
      ],
      "text/plain": [
       "      gender       age    income  family_members\n",
       "0        1.0  0.630769  0.627848        0.166667\n",
       "1        0.0  0.707692  0.481013        0.166667\n",
       "2        0.0  0.446154  0.265823        0.000000\n",
       "3        0.0  0.323077  0.527848        0.333333\n",
       "4        1.0  0.430769  0.330380        0.000000\n",
       "...      ...       ...       ...             ...\n",
       "4842     0.0  0.430769  0.451899        0.333333\n",
       "4843     0.0  0.523077  0.663291        0.166667\n",
       "4844     0.0  0.307692  0.429114        0.333333\n",
       "4845     1.0  0.338462  0.413924        0.500000\n",
       "4846     1.0  0.430769  0.513924        0.166667\n",
       "\n",
       "[4847 rows x 4 columns]"
      ]
     },
     "metadata": {},
     "output_type": "display_data"
    },
    {
     "data": {
      "text/html": [
       "<div>\n",
       "<style scoped>\n",
       "    .dataframe tbody tr th:only-of-type {\n",
       "        vertical-align: middle;\n",
       "    }\n",
       "\n",
       "    .dataframe tbody tr th {\n",
       "        vertical-align: top;\n",
       "    }\n",
       "\n",
       "    .dataframe thead th {\n",
       "        text-align: right;\n",
       "    }\n",
       "</style>\n",
       "<table border=\"1\" class=\"dataframe\">\n",
       "  <thead>\n",
       "    <tr style=\"text-align: right;\">\n",
       "      <th></th>\n",
       "      <th>gender</th>\n",
       "      <th>age</th>\n",
       "      <th>income</th>\n",
       "      <th>family_members</th>\n",
       "    </tr>\n",
       "  </thead>\n",
       "  <tbody>\n",
       "    <tr>\n",
       "      <td>0</td>\n",
       "      <td>1</td>\n",
       "      <td>41</td>\n",
       "      <td>49600</td>\n",
       "      <td>1</td>\n",
       "    </tr>\n",
       "    <tr>\n",
       "      <td>1</td>\n",
       "      <td>0</td>\n",
       "      <td>46</td>\n",
       "      <td>38000</td>\n",
       "      <td>1</td>\n",
       "    </tr>\n",
       "    <tr>\n",
       "      <td>2</td>\n",
       "      <td>0</td>\n",
       "      <td>29</td>\n",
       "      <td>21000</td>\n",
       "      <td>0</td>\n",
       "    </tr>\n",
       "    <tr>\n",
       "      <td>3</td>\n",
       "      <td>0</td>\n",
       "      <td>21</td>\n",
       "      <td>41700</td>\n",
       "      <td>2</td>\n",
       "    </tr>\n",
       "    <tr>\n",
       "      <td>4</td>\n",
       "      <td>1</td>\n",
       "      <td>28</td>\n",
       "      <td>26100</td>\n",
       "      <td>0</td>\n",
       "    </tr>\n",
       "    <tr>\n",
       "      <td>...</td>\n",
       "      <td>...</td>\n",
       "      <td>...</td>\n",
       "      <td>...</td>\n",
       "      <td>...</td>\n",
       "    </tr>\n",
       "    <tr>\n",
       "      <td>4842</td>\n",
       "      <td>0</td>\n",
       "      <td>28</td>\n",
       "      <td>35700</td>\n",
       "      <td>2</td>\n",
       "    </tr>\n",
       "    <tr>\n",
       "      <td>4843</td>\n",
       "      <td>0</td>\n",
       "      <td>34</td>\n",
       "      <td>52400</td>\n",
       "      <td>1</td>\n",
       "    </tr>\n",
       "    <tr>\n",
       "      <td>4844</td>\n",
       "      <td>0</td>\n",
       "      <td>20</td>\n",
       "      <td>33900</td>\n",
       "      <td>2</td>\n",
       "    </tr>\n",
       "    <tr>\n",
       "      <td>4845</td>\n",
       "      <td>1</td>\n",
       "      <td>22</td>\n",
       "      <td>32700</td>\n",
       "      <td>3</td>\n",
       "    </tr>\n",
       "    <tr>\n",
       "      <td>4846</td>\n",
       "      <td>1</td>\n",
       "      <td>28</td>\n",
       "      <td>40600</td>\n",
       "      <td>1</td>\n",
       "    </tr>\n",
       "  </tbody>\n",
       "</table>\n",
       "<p>4847 rows × 4 columns</p>\n",
       "</div>"
      ],
      "text/plain": [
       "      gender  age  income  family_members\n",
       "0          1   41   49600               1\n",
       "1          0   46   38000               1\n",
       "2          0   29   21000               0\n",
       "3          0   21   41700               2\n",
       "4          1   28   26100               0\n",
       "...      ...  ...     ...             ...\n",
       "4842       0   28   35700               2\n",
       "4843       0   34   52400               1\n",
       "4844       0   20   33900               2\n",
       "4845       1   22   32700               3\n",
       "4846       1   28   40600               1\n",
       "\n",
       "[4847 rows x 4 columns]"
      ]
     },
     "metadata": {},
     "output_type": "display_data"
    }
   ],
   "source": [
    "display(features_s, features_us)"
   ]
  },
  {
   "cell_type": "markdown",
   "metadata": {},
   "source": [
    "Check for the class imbalance with value_counts()"
   ]
  },
  {
   "cell_type": "code",
   "execution_count": 27,
   "metadata": {},
   "outputs": [
    {
     "data": {
      "text/plain": [
       "0    2997\n",
       "1     395\n",
       "Name: insurance_benefits_received, dtype: int64"
      ]
     },
     "metadata": {},
     "output_type": "display_data"
    }
   ],
   "source": [
    "#<your code here>\n",
    "display(target_train_us.value_counts())"
   ]
  },
  {
   "cell_type": "markdown",
   "metadata": {},
   "source": [
    "<div class=\"alert alert-danger\">\n",
    "<s><b>Reviewer's comment</b>\n",
    "\n",
    "Upsampling is not a good idea for kNN. Remember how the algorithm works: for each new example which we want to make prediction for, we're looking at k nearest neighbors and assigning the most common target between them. If you upsample the training data, you're just adding duplicate rows, and so it's probable that all of the k nearest neighbors will be the same, so we're essnetially looking at 1 nearest neighbor regardless of the value of k.\n",
    "    \n",
    "So, please remove upsampling and check the results again\n",
    "\n",
    "</div>"
   ]
  },
  {
   "cell_type": "markdown",
   "metadata": {},
   "source": [
    "<div class=\"alert alert-success\">\n",
    "<b>Reviewer's comment V2</b>\n",
    "\n",
    "Fixed!\n",
    "\n",
    "</div>"
   ]
  },
  {
   "cell_type": "code",
   "execution_count": 28,
   "metadata": {},
   "outputs": [],
   "source": [
    "def eval_classifier(y_true, y_pred):\n",
    "    \n",
    "    f1_score = sklearn.metrics.f1_score(y_true, y_pred)\n",
    "    print(f'F1: {f1_score:.2f}')\n",
    "    \n",
    "# if you have an issue with the following line, restart the kernel and run the notebook again\n",
    "    cm = sklearn.metrics.confusion_matrix(y_true, y_pred, normalize='all')\n",
    "    print('Confusion Matrix')\n",
    "    print(cm)"
   ]
  },
  {
   "cell_type": "code",
   "execution_count": 29,
   "metadata": {},
   "outputs": [],
   "source": [
    "# generating output of a random model\n",
    "\n",
    "def rnd_model_predict(P, size, seed=42): \n",
    "    #seed allows for reproducable results, commonly valued as 42\n",
    "    #size is manually entered (size of df)\n",
    "    #P is probabilities which will be entered in the form of a loop in the next cell\n",
    "\n",
    "    rng = np.random.default_rng(seed=seed)\n",
    "    return rng.binomial(n=1, p=P, size=size)"
   ]
  },
  {
   "cell_type": "markdown",
   "metadata": {},
   "source": [
    "**Dummy model evaluation:**"
   ]
  },
  {
   "cell_type": "code",
   "execution_count": 30,
   "metadata": {},
   "outputs": [
    {
     "name": "stdout",
     "output_type": "stream",
     "text": [
      "The probability: 0.00\n",
      "F1: 0.00\n",
      "Confusion Matrix\n",
      "[[0.88384568 0.        ]\n",
      " [0.11615432 0.        ]]\n",
      "\n",
      "The probability: 0.12\n",
      "F1: 0.13\n",
      "Confusion Matrix\n",
      "[[0.78502166 0.09882401]\n",
      " [0.1017124  0.01444192]]\n",
      "\n",
      "The probability: 0.50\n",
      "F1: 0.19\n",
      "Confusion Matrix\n",
      "[[0.44873117 0.4351145 ]\n",
      " [0.05921188 0.05694244]]\n",
      "\n",
      "The probability: 1.00\n",
      "F1: 0.21\n",
      "Confusion Matrix\n",
      "[[0.         0.88384568]\n",
      " [0.         0.11615432]]\n",
      "\n"
     ]
    }
   ],
   "source": [
    "for P in [0, df['insurance_benefits_received'].sum() / len(df), 0.5, 1]:\n",
    "\n",
    "    print(f'The probability: {P:.2f}')\n",
    "    # your code here:\n",
    "    y_pred_rnd = rnd_model_predict(P, 4847, seed=42)\n",
    "        \n",
    "    eval_classifier(df['insurance_benefits_received'], y_pred_rnd)\n",
    "    \n",
    "    print()"
   ]
  },
  {
   "cell_type": "markdown",
   "metadata": {},
   "source": [
    "<div class=\"alert alert-success\">\n",
    "<b>Reviewer's comment</b>\n",
    "\n",
    "Ok, dummy model is correct!\n",
    "\n",
    "</div>"
   ]
  },
  {
   "cell_type": "markdown",
   "metadata": {},
   "source": [
    "**Building the kNN Classifier**\n",
    "Variables: features_train_us, target_train_us, \n",
    "       features_test_us, target_test_us,"
   ]
  },
  {
   "cell_type": "code",
   "execution_count": 31,
   "metadata": {},
   "outputs": [],
   "source": [
    "#This is all technically sound, but according to the instructor the platorm is limited in function so this manual\n",
    "#classification is much slower than using the sklearn\n",
    "\n",
    "#def nearest_neighbor_predict(train_features, train_target, new_features):\n",
    "    #distances = []\n",
    "    #for i in range(train_features.shape[0]):\n",
    "        #vector = train_features.values[0]\n",
    "        #distances.append(distance.euclidean(new_features, vector))\n",
    "    #best_index = np.array(distances).argmin()\n",
    "    #return train_target.loc[best_index]\n",
    "\n",
    "\n",
    "#class NearestNeighborClassifier():\n",
    "    #def fit(self, features_train, target_train):\n",
    "        #self.features_train = features_train\n",
    "        #self.target_train = target_train\n",
    "\n",
    "    #def predict(self, new_features):\n",
    "        #values = []\n",
    "        #for i in range(new_features.shape[0]):\n",
    "            #vector = new_features.values[0]\n",
    "            #values.append(nearest_neighbor_predict(self.features_train, self.target_train, vector))\n",
    "        #return pd.Series(values)\n",
    "\n",
    "#model = NearestNeighborClassifier()\n",
    "#model.fit(features_train_usup, target_train_usup)\n",
    "#new_predictions = model.predict(features_test_us)\n",
    "#eval_classifier(target_test_us, new_predictions)\n"
   ]
  },
  {
   "cell_type": "markdown",
   "metadata": {},
   "source": [
    "**Scaled kNN Classifier**"
   ]
  },
  {
   "cell_type": "code",
   "execution_count": 32,
   "metadata": {
    "scrolled": false
   },
   "outputs": [
    {
     "name": "stdout",
     "output_type": "stream",
     "text": [
      "n_neighbors = 1\n",
      "F1: 0.93\n",
      "Confusion Matrix\n",
      "[[0.87972509 0.004811  ]\n",
      " [0.01168385 0.10378007]]\n",
      "\n",
      "n_neighbors = 2\n",
      "F1: 0.89\n",
      "Confusion Matrix\n",
      "[[0.88247423 0.00206186]\n",
      " [0.02199313 0.09347079]]\n",
      "\n",
      "n_neighbors = 3\n",
      "F1: 0.91\n",
      "Confusion Matrix\n",
      "[[0.88041237 0.00412371]\n",
      " [0.01649485 0.09896907]]\n",
      "\n",
      "n_neighbors = 4\n",
      "F1: 0.88\n",
      "Confusion Matrix\n",
      "[[0.88178694 0.00274914]\n",
      " [0.0233677  0.09209622]]\n",
      "\n",
      "n_neighbors = 5\n",
      "F1: 0.89\n",
      "Confusion Matrix\n",
      "[[0.87972509 0.004811  ]\n",
      " [0.0185567  0.09690722]]\n",
      "\n",
      "n_neighbors = 6\n",
      "F1: 0.87\n",
      "Confusion Matrix\n",
      "[[0.88178694 0.00274914]\n",
      " [0.02405498 0.09140893]]\n",
      "\n",
      "n_neighbors = 7\n",
      "F1: 0.90\n",
      "Confusion Matrix\n",
      "[[0.88178694 0.00274914]\n",
      " [0.01924399 0.09621993]]\n",
      "\n",
      "n_neighbors = 8\n",
      "F1: 0.86\n",
      "Confusion Matrix\n",
      "[[0.88178694 0.00274914]\n",
      " [0.02542955 0.09003436]]\n",
      "\n",
      "n_neighbors = 9\n",
      "F1: 0.87\n",
      "Confusion Matrix\n",
      "[[0.88178694 0.00274914]\n",
      " [0.02405498 0.09140893]]\n",
      "\n",
      "n_neighbors = 10\n",
      "F1: 0.86\n",
      "Confusion Matrix\n",
      "[[0.88178694 0.00274914]\n",
      " [0.02542955 0.09003436]]\n",
      "\n"
     ]
    }
   ],
   "source": [
    "for k in range(1, 11):\n",
    "    print(f'n_neighbors = {k}')\n",
    "    model = KNeighborsClassifier(n_neighbors=k)\n",
    "    model.fit(features_train_s, target_train_s)\n",
    "    eval_classifier(target_test_s, model.predict(features_test_s))\n",
    "    print()"
   ]
  },
  {
   "cell_type": "markdown",
   "metadata": {},
   "source": [
    "**Unscaled kNN Classifier:**"
   ]
  },
  {
   "cell_type": "code",
   "execution_count": 33,
   "metadata": {
    "scrolled": false
   },
   "outputs": [
    {
     "name": "stdout",
     "output_type": "stream",
     "text": [
      "n_neighbors = 1\n",
      "F1: 0.68\n",
      "Confusion Matrix\n",
      "[[0.86254296 0.02199313]\n",
      " [0.04536082 0.07010309]]\n",
      "\n",
      "n_neighbors = 2\n",
      "F1: 0.38\n",
      "Confusion Matrix\n",
      "[[0.87972509 0.004811  ]\n",
      " [0.08728522 0.02817869]]\n",
      "\n",
      "n_neighbors = 3\n",
      "F1: 0.38\n",
      "Confusion Matrix\n",
      "[[0.87147766 0.01305842]\n",
      " [0.08522337 0.03024055]]\n",
      "\n",
      "n_neighbors = 4\n",
      "F1: 0.18\n",
      "Confusion Matrix\n",
      "[[0.8790378  0.00549828]\n",
      " [0.10378007 0.01168385]]\n",
      "\n",
      "n_neighbors = 5\n",
      "F1: 0.23\n",
      "Confusion Matrix\n",
      "[[0.87766323 0.00687285]\n",
      " [0.09965636 0.01580756]]\n",
      "\n",
      "n_neighbors = 6\n",
      "F1: 0.06\n",
      "Confusion Matrix\n",
      "[[8.83848797e-01 6.87285223e-04]\n",
      " [1.12027491e-01 3.43642612e-03]]\n",
      "\n",
      "n_neighbors = 7\n",
      "F1: 0.07\n",
      "Confusion Matrix\n",
      "[[0.88316151 0.00137457]\n",
      " [0.11134021 0.00412371]]\n",
      "\n",
      "n_neighbors = 8\n",
      "F1: 0.00\n",
      "Confusion Matrix\n",
      "[[0.88453608 0.        ]\n",
      " [0.11546392 0.        ]]\n",
      "\n",
      "n_neighbors = 9\n",
      "F1: 0.01\n",
      "Confusion Matrix\n",
      "[[8.84536082e-01 0.00000000e+00]\n",
      " [1.14776632e-01 6.87285223e-04]]\n",
      "\n",
      "n_neighbors = 10\n",
      "F1: 0.00\n",
      "Confusion Matrix\n",
      "[[0.88453608 0.        ]\n",
      " [0.11546392 0.        ]]\n",
      "\n"
     ]
    }
   ],
   "source": [
    "for k in range(1, 11):\n",
    "    print(f'n_neighbors = {k}')\n",
    "    model = KNeighborsClassifier(n_neighbors = k)\n",
    "    model.fit(features_train_us, target_train_us)\n",
    "    eval_classifier(target_test_us, model.predict(features_test_us))\n",
    "    print()"
   ]
  },
  {
   "cell_type": "markdown",
   "metadata": {},
   "source": [
    "**Task 2: Conclusion**\n",
    "\n",
    "1) Both scaled and unscaled kNN classifiers surpassed the f1 score of the dummy model (0.21).\n",
    "\n",
    "2) The scaled classifier achieved an f1 score of 0.93 with n_neighbors = 1, which outperformed unscaled.\n",
    "\n",
    "3) The unscaled classifier achieved an f1 score of 0.68 with n_neighbors =1.\n",
    "\n",
    "4) As n_neighbors increased, the f1 score had decreased for both scaled and unscaled classifiers."
   ]
  },
  {
   "cell_type": "markdown",
   "metadata": {},
   "source": [
    "<div class=\"alert alert-danger\">\n",
    "<s><b>Reviewer's comment</b>\n",
    "\n",
    "Please check the results after removing upsampling\n",
    "\n",
    "</div>"
   ]
  },
  {
   "cell_type": "markdown",
   "metadata": {},
   "source": [
    "<div class=\"alert alert-danger\">\n",
    "<s><b>Reviewer's comment V2</b>\n",
    "\n",
    "Ok, I found another problem: in both `features_us` and `features_s` there is a column `index`, which is a non-feature that confuses the models, so it should be dropped.\n",
    "    \n",
    "Another column, `insurance_benefits` should also be dropped, as it leaks our target `insurance_benefits_received`.\n",
    "\n",
    "</div>"
   ]
  },
  {
   "cell_type": "markdown",
   "metadata": {},
   "source": [
    "<div class=\"alert alert-success\">\n",
    "<b>Reviewer's comment V3</b>\n",
    "\n",
    "Great, now everything is correct! We can see that the quality drops severely for all k if we go from scaled to unscaled data, so this is a good illustration of why scaling is important for distance-based algorithms like kNN\n",
    "\n",
    "</div>"
   ]
  },
  {
   "cell_type": "markdown",
   "metadata": {},
   "source": [
    "# Task 3. Regression (with Linear Regression)"
   ]
  },
  {
   "cell_type": "markdown",
   "metadata": {},
   "source": [
    "With `insurance_benefits` as the target, evaluate what RMSE would be for a Linear Regression model."
   ]
  },
  {
   "cell_type": "markdown",
   "metadata": {},
   "source": [
    "Build your own implementation of LR. For that, recall how the linear regression task's solution is formulated in terms of LA. Check RMSE for both the original data and the scaled one. Can you see any difference in RMSE between these two cases?\n",
    "\n",
    "Let's denote\n",
    "- $X$ — feature matrix, each row is a case, each column is a feature, the first column consists of unities\n",
    "- $y$ — target (a vector)\n",
    "- $\\hat{y}$ — estimated tagret (a vector)\n",
    "- $w$ — weight vector\n",
    "\n",
    "The task of linear regression in the language of matrices can be formulated as\n",
    "\n",
    "$$\n",
    "y = Xw\n",
    "$$\n",
    "\n",
    "The training objective then is to find such $w$ that it would minimize the L2-distance (MSE) between $Xw$ and $y$:\n",
    "\n",
    "$$\n",
    "\\min_w d_2(Xw, y) \\quad \\text{or} \\quad \\min_w \\text{MSE}(Xw, y)\n",
    "$$\n",
    "\n",
    "It appears that there is analytical solution for the above:\n",
    "\n",
    "$$\n",
    "w = (X^T X)^{-1} X^T y\n",
    "$$\n",
    "\n",
    "The formula above can be used to find the weights $w$ and the latter can be used to calculate predicted values\n",
    "\n",
    "$$\n",
    "\\hat{y} = X_{val}w\n",
    "$$"
   ]
  },
  {
   "cell_type": "markdown",
   "metadata": {},
   "source": [
    "Split the whole data in the 70:30 proportion for the training/validation parts. Use the RMSE metric for the model evaluation."
   ]
  },
  {
   "cell_type": "code",
   "execution_count": 34,
   "metadata": {},
   "outputs": [],
   "source": [
    "#Create class.\n",
    "class MyLinearRegression:\n",
    "    \n",
    "    #Initialize class with relevant variable(s).\n",
    "    def __init__(self):\n",
    "        self.weights = None\n",
    "    \n",
    "    #Define function for fitting model.\n",
    "    def fit(self, X, y):\n",
    "        #Add 1's to first column of matrix to obtain y-intercept values.\n",
    "        X2 = np.append(np.ones([len(X), 1]), X, axis=1)\n",
    "        #Calculate weights vector.\n",
    "        self.weights = np.linalg.inv(np.dot(X2.T, X2)).dot(X2.T).dot(y) \n",
    "        #.T is transpose the matrix\n",
    "\n",
    "    #Define model for predicting values using weights vector.\n",
    "    def predict(self, X):\n",
    "        #Add 1's to first column of matrix to obtain y-intercept values.\n",
    "        X2 = np.append(np.ones([len(X), 1]), X, axis=1)\n",
    "        y_pred = X2.dot(self.weights)\n",
    "        return y_pred"
   ]
  },
  {
   "cell_type": "markdown",
   "metadata": {},
   "source": [
    "<div class=\"alert alert-success\">\n",
    "<b>Reviewer's comment</b>\n",
    "\n",
    "Linear regression was implemented correctly! \n",
    "\n",
    "</div>"
   ]
  },
  {
   "cell_type": "code",
   "execution_count": 35,
   "metadata": {},
   "outputs": [],
   "source": [
    "def eval_regressor(y_true, y_pred):\n",
    "    \n",
    "    rmse = math.sqrt(sklearn.metrics.mean_squared_error(y_true, y_pred))\n",
    "    print(f'RMSE: {rmse:.2f}')\n",
    "    \n",
    "    r2_score = math.sqrt(sklearn.metrics.r2_score(y_true, y_pred))\n",
    "    print(f'R2: {r2_score:.2f}')    "
   ]
  },
  {
   "cell_type": "code",
   "execution_count": 36,
   "metadata": {},
   "outputs": [
    {
     "name": "stdout",
     "output_type": "stream",
     "text": [
      "[-9.77366679e-01  3.58042290e-02  1.95594897e-02  5.85335011e-07\n",
      " -1.21618426e-02]\n",
      "RMSE: 0.36\n",
      "R2: 0.66\n"
     ]
    }
   ],
   "source": [
    "#Original df Linear Regression\n",
    "\n",
    "X = df[['age', 'gender', 'income', 'family_members']].to_numpy()\n",
    "y = df['insurance_benefits'].to_numpy()\n",
    "\n",
    "X_train, X_test, y_train, y_test = train_test_split(X, y, test_size=0.3, random_state=12345)\n",
    "\n",
    "lr = MyLinearRegression()\n",
    "\n",
    "lr.fit(X_train, y_train)\n",
    "print(lr.weights)\n",
    "\n",
    "y_test_pred = lr.predict(X_test)\n",
    "eval_regressor(y_test, y_test_pred)"
   ]
  },
  {
   "cell_type": "code",
   "execution_count": 37,
   "metadata": {},
   "outputs": [
    {
     "name": "stdout",
     "output_type": "stream",
     "text": [
      "[-0.97736668  2.32727489  0.01955949  0.04624147 -0.07297106]\n",
      "RMSE: 0.36\n",
      "R2: 0.66\n"
     ]
    }
   ],
   "source": [
    "#Scaled df Linear Regression\n",
    "\n",
    "X = df_scaled[['age', 'gender', 'income', 'family_members']].to_numpy()\n",
    "y = df_scaled['insurance_benefits'].to_numpy()\n",
    "\n",
    "X_train, X_test, y_train, y_test = train_test_split(X, y, test_size=0.3, random_state=12345)\n",
    "\n",
    "lr = MyLinearRegression()\n",
    "\n",
    "lr.fit(X_train, y_train)\n",
    "print(lr.weights)\n",
    "\n",
    "y_test_pred = lr.predict(X_test)\n",
    "eval_regressor(y_test, y_test_pred)"
   ]
  },
  {
   "cell_type": "markdown",
   "metadata": {},
   "source": [
    "**Task 3 Conclusion:**\n",
    "\n",
    "1) There was no difference found between RMSE values for scaled and original df when fitted to the linear regression model at 0.36 RMSE.\n",
    "\n",
    "2) Additionally, the R2 value was identical at 0.66."
   ]
  },
  {
   "cell_type": "markdown",
   "metadata": {},
   "source": [
    "<div class=\"alert alert-success\">\n",
    "<b>Reviewer's comment</b>\n",
    "\n",
    "Indeed, scaling doesn't influence the implementation of linear regression based on normal equations. It can still be useful if we use gradient descent to train the model, or if we use L1 or L2 regularization (which is based on adding the L1 or L2 norm of the weights to the cost function)\n",
    "\n",
    "</div>"
   ]
  },
  {
   "cell_type": "markdown",
   "metadata": {},
   "source": [
    "# Task 4. Obfuscating Data"
   ]
  },
  {
   "cell_type": "markdown",
   "metadata": {},
   "source": [
    "It best to **obfuscate data** by **multiplying** the **numerical features (X)** (remember, they can be seen as the matrix $X$) **by an invertible matrix $P$**. \n",
    "\n",
    "$$\n",
    "X' = X \\times P\n",
    "$$\n",
    "\n",
    "Try to do that and check how the features' values will look like after the transformation. By the way, the intertible property is important here so make sure that $P$ is indeed invertible.\n",
    "\n",
    "You may want to review the 'Matrices and Matrix Operations -> Matrix Multiplication' lesson to recall the rule of matrix multiplication and its implementation with NumPy."
   ]
  },
  {
   "cell_type": "code",
   "execution_count": 38,
   "metadata": {},
   "outputs": [],
   "source": [
    "personal_info_column_list = ['gender', 'age', 'income', 'family_members']\n",
    "df_pn = df[personal_info_column_list]"
   ]
  },
  {
   "cell_type": "code",
   "execution_count": 39,
   "metadata": {},
   "outputs": [
    {
     "data": {
      "text/html": [
       "<div>\n",
       "<style scoped>\n",
       "    .dataframe tbody tr th:only-of-type {\n",
       "        vertical-align: middle;\n",
       "    }\n",
       "\n",
       "    .dataframe tbody tr th {\n",
       "        vertical-align: top;\n",
       "    }\n",
       "\n",
       "    .dataframe thead th {\n",
       "        text-align: right;\n",
       "    }\n",
       "</style>\n",
       "<table border=\"1\" class=\"dataframe\">\n",
       "  <thead>\n",
       "    <tr style=\"text-align: right;\">\n",
       "      <th></th>\n",
       "      <th>index</th>\n",
       "      <th>gender</th>\n",
       "      <th>age</th>\n",
       "      <th>income</th>\n",
       "      <th>family_members</th>\n",
       "      <th>insurance_benefits</th>\n",
       "      <th>insurance_benefits_received</th>\n",
       "    </tr>\n",
       "  </thead>\n",
       "  <tbody>\n",
       "    <tr>\n",
       "      <td>0</td>\n",
       "      <td>0</td>\n",
       "      <td>1</td>\n",
       "      <td>41</td>\n",
       "      <td>49600</td>\n",
       "      <td>1</td>\n",
       "      <td>0</td>\n",
       "      <td>0</td>\n",
       "    </tr>\n",
       "    <tr>\n",
       "      <td>1</td>\n",
       "      <td>1</td>\n",
       "      <td>0</td>\n",
       "      <td>46</td>\n",
       "      <td>38000</td>\n",
       "      <td>1</td>\n",
       "      <td>1</td>\n",
       "      <td>1</td>\n",
       "    </tr>\n",
       "    <tr>\n",
       "      <td>2</td>\n",
       "      <td>2</td>\n",
       "      <td>0</td>\n",
       "      <td>29</td>\n",
       "      <td>21000</td>\n",
       "      <td>0</td>\n",
       "      <td>0</td>\n",
       "      <td>0</td>\n",
       "    </tr>\n",
       "    <tr>\n",
       "      <td>3</td>\n",
       "      <td>3</td>\n",
       "      <td>0</td>\n",
       "      <td>21</td>\n",
       "      <td>41700</td>\n",
       "      <td>2</td>\n",
       "      <td>0</td>\n",
       "      <td>0</td>\n",
       "    </tr>\n",
       "    <tr>\n",
       "      <td>4</td>\n",
       "      <td>4</td>\n",
       "      <td>1</td>\n",
       "      <td>28</td>\n",
       "      <td>26100</td>\n",
       "      <td>0</td>\n",
       "      <td>0</td>\n",
       "      <td>0</td>\n",
       "    </tr>\n",
       "  </tbody>\n",
       "</table>\n",
       "</div>"
      ],
      "text/plain": [
       "   index  gender  age  income  family_members  insurance_benefits  \\\n",
       "0      0       1   41   49600               1                   0   \n",
       "1      1       0   46   38000               1                   1   \n",
       "2      2       0   29   21000               0                   0   \n",
       "3      3       0   21   41700               2                   0   \n",
       "4      4       1   28   26100               0                   0   \n",
       "\n",
       "   insurance_benefits_received  \n",
       "0                            0  \n",
       "1                            1  \n",
       "2                            0  \n",
       "3                            0  \n",
       "4                            0  "
      ]
     },
     "execution_count": 39,
     "metadata": {},
     "output_type": "execute_result"
    }
   ],
   "source": [
    "df.head()"
   ]
  },
  {
   "cell_type": "code",
   "execution_count": 40,
   "metadata": {},
   "outputs": [],
   "source": [
    "X = df_pn.to_numpy()"
   ]
  },
  {
   "cell_type": "markdown",
   "metadata": {},
   "source": [
    "Generating a random matrix $P$."
   ]
  },
  {
   "cell_type": "code",
   "execution_count": 41,
   "metadata": {},
   "outputs": [
    {
     "data": {
      "text/plain": [
       "array([[0.77395605, 0.43887844, 0.85859792, 0.69736803],\n",
       "       [0.09417735, 0.97562235, 0.7611397 , 0.78606431],\n",
       "       [0.12811363, 0.45038594, 0.37079802, 0.92676499],\n",
       "       [0.64386512, 0.82276161, 0.4434142 , 0.22723872]])"
      ]
     },
     "metadata": {},
     "output_type": "display_data"
    }
   ],
   "source": [
    "rng = np.random.default_rng(seed=42)\n",
    "P = rng.random(size=(X.shape[1], X.shape[1]))\n",
    "display(P)"
   ]
  },
  {
   "cell_type": "markdown",
   "metadata": {},
   "source": [
    "Checking the matrix $P$ is invertible"
   ]
  },
  {
   "cell_type": "code",
   "execution_count": 42,
   "metadata": {},
   "outputs": [
    {
     "data": {
      "text/plain": [
       "array([[ 0.41467992, -1.43783972,  0.62798546,  1.14001268],\n",
       "       [-1.06101789,  0.44219337,  0.1329549 ,  1.18425933],\n",
       "       [ 1.42362442,  1.60461607, -2.0553823 , -1.53699695],\n",
       "       [-0.11128575, -0.65813802,  1.74995517, -0.11816316]])"
      ]
     },
     "metadata": {},
     "output_type": "display_data"
    }
   ],
   "source": [
    "display(np.linalg.inv(P))\n",
    "#P is invertible"
   ]
  },
  {
   "cell_type": "markdown",
   "metadata": {},
   "source": [
    "Can you guess the customers' ages or income after the transformation?\n",
    "\n",
    "**Answer:** \n",
    "If only considering $P$, then no because it is a randomly generated matrix. Inverting this matrix would make it even more impossible to guess."
   ]
  },
  {
   "cell_type": "markdown",
   "metadata": {},
   "source": [
    "Can you recover the original data from $X'$ if you know $P$? Try to check that with calculations by moving $P$ from the right side of the formula above to the left one. The rules of matrix multiplcation are really helpful here.\n",
    "$$\n",
    "X' = X \\times P\n",
    "$$\n",
    "**Moving P to the left**\n",
    "$$\n",
    "\\frac{ X'}{P} = X\n",
    "$$\n",
    "**We cannot actually divide matrices, we can however, multiply by the inverse**\n",
    "$$\n",
    "X'P^{-1} = X\n",
    "$$"
   ]
  },
  {
   "cell_type": "markdown",
   "metadata": {},
   "source": [
    "<div class=\"alert alert-warning\">\n",
    "<b>Reviewer's comment</b>\n",
    "\n",
    "Yep, you are right. Although, as you say, there's no matrix division, so don't write $\\frac{X'}{P} = X$, this expression doesn't make any sense. Just use multiplication by the inverse.\n",
    "\n",
    "</div>"
   ]
  },
  {
   "cell_type": "code",
   "execution_count": 43,
   "metadata": {},
   "outputs": [
    {
     "data": {
      "text/plain": [
       "array([[    1,    41, 49600,     1],\n",
       "       [    0,    46, 38000,     1],\n",
       "       [    0,    29, 21000,     0],\n",
       "       ...,\n",
       "       [    0,    20, 33900,     2],\n",
       "       [    1,    22, 32700,     3],\n",
       "       [    1,    28, 40600,     1]])"
      ]
     },
     "execution_count": 43,
     "metadata": {},
     "output_type": "execute_result"
    }
   ],
   "source": [
    "#X_4 = X[0:4, :] #X4 is the first for rows of X, since P is [4,4]\n",
    "X"
   ]
  },
  {
   "cell_type": "markdown",
   "metadata": {},
   "source": [
    "<div class=\"alert alert-warning\">\n",
    "<b>Reviewer's comment</b>\n",
    "\n",
    "There's no need to take just 4 rows of X. Remember that if $X$ has shape $(m, n)$ and $P$ has shape $(n, k)$ their product is a matrix $XP$ of shape $(m, k)$. In particular, if $X$ has shape $(n, 4)$ and $P$ has shape $(4,4)$, $XP$ will have shape $(n, 4)$.\n",
    "\n",
    "</div>"
   ]
  },
  {
   "cell_type": "code",
   "execution_count": 44,
   "metadata": {},
   "outputs": [
    {
     "data": {
      "text/plain": [
       "array([[ 6359.71527314, 22380.40467609, 18424.09074184, 46000.69669016],\n",
       "       [ 4873.29406479, 17160.36702982, 14125.78076133, 35253.45577301],\n",
       "       [ 2693.11742928,  9486.397744  ,  7808.83156024, 19484.86063067],\n",
       "       ...,\n",
       "       [ 4346.2234249 , 15289.24126492, 12586.16264392, 31433.50888552],\n",
       "       [ 4194.09324155, 14751.9910242 , 12144.02930637, 30323.88763426],\n",
       "       [ 5205.46827354, 18314.24814446, 15077.01370762, 37649.59295455]])"
      ]
     },
     "metadata": {},
     "output_type": "display_data"
    }
   ],
   "source": [
    "X_obf = np.dot(X, P)\n",
    "display(X_obf)"
   ]
  },
  {
   "cell_type": "code",
   "execution_count": 45,
   "metadata": {},
   "outputs": [
    {
     "data": {
      "text/plain": [
       "array([[ 1.00000000e+00,  4.10000000e+01,  4.96000000e+04,\n",
       "         1.00000000e+00],\n",
       "       [ 1.67952800e-12,  4.60000000e+01,  3.80000000e+04,\n",
       "         1.00000000e+00],\n",
       "       [-6.23021448e-13,  2.90000000e+01,  2.10000000e+04,\n",
       "        -2.03032656e-13],\n",
       "       ...,\n",
       "       [ 1.57996161e-12,  2.00000000e+01,  3.39000000e+04,\n",
       "         2.00000000e+00],\n",
       "       [ 1.00000000e+00,  2.20000000e+01,  3.27000000e+04,\n",
       "         3.00000000e+00],\n",
       "       [ 1.00000000e+00,  2.80000000e+01,  4.06000000e+04,\n",
       "         1.00000000e+00]])"
      ]
     },
     "metadata": {},
     "output_type": "display_data"
    }
   ],
   "source": [
    "display((np.dot(X_obf, np.linalg.inv(P))))"
   ]
  },
  {
   "cell_type": "markdown",
   "metadata": {},
   "source": [
    "Print all three cases for a few customers\n",
    "- The original data\n",
    "- The transformed one\n",
    "- The reversed (recovered) one"
   ]
  },
  {
   "cell_type": "code",
   "execution_count": 46,
   "metadata": {},
   "outputs": [
    {
     "data": {
      "text/plain": [
       "array([[    1,    41, 49600,     1],\n",
       "       [    0,    46, 38000,     1],\n",
       "       [    0,    29, 21000,     0],\n",
       "       ...,\n",
       "       [    0,    20, 33900,     2],\n",
       "       [    1,    22, 32700,     3],\n",
       "       [    1,    28, 40600,     1]])"
      ]
     },
     "execution_count": 46,
     "metadata": {},
     "output_type": "execute_result"
    }
   ],
   "source": [
    "#Original data\n",
    "X"
   ]
  },
  {
   "cell_type": "code",
   "execution_count": 47,
   "metadata": {},
   "outputs": [
    {
     "data": {
      "text/plain": [
       "array([[ 6359.71527314, 22380.40467609, 18424.09074184, 46000.69669016],\n",
       "       [ 4873.29406479, 17160.36702982, 14125.78076133, 35253.45577301],\n",
       "       [ 2693.11742928,  9486.397744  ,  7808.83156024, 19484.86063067],\n",
       "       ...,\n",
       "       [ 4346.2234249 , 15289.24126492, 12586.16264392, 31433.50888552],\n",
       "       [ 4194.09324155, 14751.9910242 , 12144.02930637, 30323.88763426],\n",
       "       [ 5205.46827354, 18314.24814446, 15077.01370762, 37649.59295455]])"
      ]
     },
     "execution_count": 47,
     "metadata": {},
     "output_type": "execute_result"
    }
   ],
   "source": [
    "#Transformed data\n",
    "X_obf = np.dot(X, P)\n",
    "X_obf"
   ]
  },
  {
   "cell_type": "code",
   "execution_count": 48,
   "metadata": {},
   "outputs": [
    {
     "data": {
      "text/plain": [
       "array([[ 1.00000000e+00,  4.10000000e+01,  4.96000000e+04,\n",
       "         1.00000000e+00],\n",
       "       [ 1.67952800e-12,  4.60000000e+01,  3.80000000e+04,\n",
       "         1.00000000e+00],\n",
       "       [-6.23021448e-13,  2.90000000e+01,  2.10000000e+04,\n",
       "        -2.03032656e-13],\n",
       "       ...,\n",
       "       [ 1.57996161e-12,  2.00000000e+01,  3.39000000e+04,\n",
       "         2.00000000e+00],\n",
       "       [ 1.00000000e+00,  2.20000000e+01,  3.27000000e+04,\n",
       "         3.00000000e+00],\n",
       "       [ 1.00000000e+00,  2.80000000e+01,  4.06000000e+04,\n",
       "         1.00000000e+00]])"
      ]
     },
     "metadata": {},
     "output_type": "display_data"
    }
   ],
   "source": [
    "#Reversed data\n",
    "display((np.dot(X_obf, np.linalg.inv(P))))"
   ]
  },
  {
   "cell_type": "markdown",
   "metadata": {},
   "source": [
    "You can probably see that some values are not exactly the same as they are in the original data. What might be the reason for that?\n",
    "\n",
    "**Answer:** Some values have changed because of limitation in floating point arithmetic. The numbers we see in the outputs are called base-10 format, but the programs sees these numbers in base-2, which is the binary 1's and 0's form of any given number. The base-2 numbers is the \"language\" that the computer uses to perform computations before returning it back to us in the form of base-10. In our case, these operations are multiplication (X*P) and (X*P^-1).\n",
    "\n",
    "After multiplying the base-10 integers $X$ by the invertible matrix $P$, these numbers became **fractional** base-10 numbers. This is where the limitation in floating point arithmetic come in. Fractional base-10 numbers do not always represent fractional base-2 numbers perfectly. Therefore, when we reverse the obfuscation $X'P^{-1}$ the numbers will appear different but are actually much closer to the original values than they appear. \n",
    "\n",
    "For example, the entry in [2, 1] is 0 in $X$ and 1.67952800 * e^{-12} after the deobfusction. It looks completely different, however, the deobfuscated value can be rewritten as 0.0000000000001679, which shows evidence for the limitations in floating point arithmetic, or in lay man's terms, it could be described as a computational language barrier between the computer's base-2 format and our human preferred base-10 format. As shown in the example, this deobfuscated value is very close to the original value so these changes are negligible. "
   ]
  },
  {
   "cell_type": "markdown",
   "metadata": {},
   "source": [
    "<div class=\"alert alert-warning\">\n",
    "<b>Reviewer's comment</b>\n",
    "\n",
    "If you look at the value without casting to int, they are all the same, so I guess there's some type conversion error here\n",
    "    \n",
    "</div>"
   ]
  },
  {
   "cell_type": "markdown",
   "metadata": {},
   "source": [
    "<div class=\"alert alert-success\">\n",
    "<b>Reviewer's comment V2</b>\n",
    "\n",
    "Yep, you are right, any difference we can see is due to limitations of floating point arithmetic\n",
    "\n",
    "</div>"
   ]
  },
  {
   "cell_type": "markdown",
   "metadata": {},
   "source": [
    "## Proof That Data Obfuscation Can Work with LR"
   ]
  },
  {
   "cell_type": "markdown",
   "metadata": {},
   "source": [
    "The regression task has been solved with linear regression in this project. Your next task is to prove _analytically_ that the given obfuscation method won't affect linear regression in terms of predicted values i.e. their values will remain the same. Can you believe that? Well, you don't have to, you should prove it!"
   ]
  },
  {
   "cell_type": "markdown",
   "metadata": {},
   "source": [
    "So, the data is obfuscated and there is $X \\times P$ instead of just $X$ now. Consequently, there are other weights $w_P$ as\n",
    "$$\n",
    "w = (X^T X)^{-1} X^T y \\quad \\Rightarrow \\quad w_P = [(XP)^T XP]^{-1} (XP)^T y\n",
    "$$\n",
    "\n",
    "How would $w$ and $w_P$ be linked if you simplify the formula for $w_P$ above? \n",
    "\n",
    "What would be predicted values with $w_P$? \n",
    "\n",
    "What does that mean for the quality of linear regression if you measure it with RMSE?\n",
    "\n",
    "Check Appendix B Properties of Matrices in the end of the notebook. There are useful formulas in there!\n",
    "\n",
    "No code is necessary in this section, only analytical explanation!"
   ]
  },
  {
   "cell_type": "markdown",
   "metadata": {},
   "source": [
    "**Answer**"
   ]
  },
  {
   "cell_type": "markdown",
   "metadata": {},
   "source": [
    "The obfuscation method **won't** affect linear regression. Predicted values for $w_p$ will appear differently, but the weights will be the **same**. Therefore, the quality of the linear regression should be remain unchanged when measured with the RMSE."
   ]
  },
  {
   "cell_type": "markdown",
   "metadata": {},
   "source": [
    "### Analytical proof"
   ]
  },
  {
   "cell_type": "markdown",
   "metadata": {},
   "source": [
    "For this task, we assume that our data will be obfuscated by multiply our feature matrix (X) by an invertible matrix (P). Consequently, the formula used to find the ideal weights will be different from the ordinary least squares formula. Both formulas can be found below:\n",
    "\n",
    "$$\n",
    "w = (X^T X)^{-1} X^T y \\quad \\Rightarrow \\quad w_P = [(XP)^T XP]^{-1} (XP)^T y\n",
    "$$"
   ]
  },
  {
   "cell_type": "markdown",
   "metadata": {},
   "source": [
    "**Properties of Matricies**\n",
    "<table>\n",
    "<tr>\n",
    "<td>Distributivity</td><td>$1.1: A(B+C)=AB+AC$</td>\n",
    "</tr>\n",
    "<tr>\n",
    "<td>Non-commutativity</td><td>$2.1: AB \\neq BA$</td>\n",
    "</tr>\n",
    "<tr>\n",
    "<td>Associative property of multiplication</td><td>$3.1: (AB)C = A(BC)$</td>\n",
    "</tr>\n",
    "<tr>\n",
    "<td>Multiplicative identity property</td><td>$4.1: IA = AI = A$</td>\n",
    "</tr>\n",
    "<tr>\n",
    "<td></td><td>$4.2: A^{-1}A = AA^{-1} = I$\n",
    "</td>\n",
    "</tr>    \n",
    "<tr>\n",
    "<td></td><td>$4.3: (AB)^{-1} = B^{-1}A^{-1}$</td>\n",
    "</tr>    \n",
    "<tr>\n",
    "<td>Reversivity of the transpose of a product of matrices,</td><td>$5.1: (AB)^T = B^TA^T$</td>\n",
    "</tr>    \n",
    "</table>"
   ]
  },
  {
   "cell_type": "markdown",
   "metadata": {},
   "source": [
    "For this task, we will attempt to demonstrate how the coefficient vector for the first formula relates to the second - that is, we will explain the obfuscation formula's coefficient vector in terms of the ordinary least squares formula's coefficient vector to understand their relationship with one another."
   ]
  },
  {
   "cell_type": "markdown",
   "metadata": {},
   "source": [
    "**Solve for $w_p$:**\n",
    "\n",
    "1) Based on 5.1, separate the transpose matrices: $w_p = [(P^TX^T)XP]^{-1}P^TX^Ty$\n",
    "\n",
    "2) From 4.3, distribute the inverse sign: $w_p = [(XP)^{-1}(P^TX^T)^{-1}]P^TX^Ty$\n",
    "\n",
    "3) From 4.3, distribute the inverse sign again: $w_p = [P^{-1}X^{-1}X^{T-1}P^{T-1}]P^TX^Ty$\n",
    "\n",
    "4) From 3.1, use associative property to reformulate: $w_p = P^{-1}[X^{-1}(X^T)^{-1}](P^{T-1})P^TX^Ty$ can be read as $A(BC)(A)BC$\n",
    "\n",
    "5) From 4.2, obtain identity matrix: $w_p = P^{-1}[X^{-1}(X{^T})^{-1}]IX^Ty$ where $(P^{T-1})P^T = A^{-1}A = I$\n",
    "\n",
    "6) From 4.1, remove identity matrix: $w_p = P^{-1}[X^{-1}(X{^T})^{-1}]X^Ty$\n",
    "\n",
    "7) From 4.3, place invertible matrix sign outside of brackets: $w_p = P^{-1}[X^TX]^{-1}X^Ty$\n",
    "\n",
    "8) Substitute ordinary least squares formula into new formula: $w_p = P^{-1}w$"
   ]
  },
  {
   "cell_type": "markdown",
   "metadata": {},
   "source": [
    "**Investigating the Affect of the Obfuscation Model**\n",
    "\n",
    "Linear regression prediction formula: $a= Xw$\n",
    "\n",
    "This formula differs when obfuscating. When adding the obfuscation coefficient vector and obfuscation matrix, the linear regression prediction transforms into: $a' = XPw_p$\n",
    "\n",
    "We can demonstrate that obfuscation has no affect on predictions by simplifying the above formula using the following steps:\n",
    "\n",
    "1) Substitute $w_p$ for its' value in terms of $w$: $a' = XPP^{-1}w$\n",
    "\n",
    "2) From 4.2, obtain the identity matrix: $a' = XIw$ where $PP^{-1} = AA^{-1} = I$\n",
    "\n",
    "3) From 4.1, remove the identity matrix: $a' = Xw$\n",
    "\n",
    "4) Substitute $Xw$ for its' value in terms of $a: a' = a$\n",
    "\n",
    "This shows that we obtain the same predictions whether the data is obfuscated or not."
   ]
  },
  {
   "cell_type": "markdown",
   "metadata": {},
   "source": [
    "**Data Obfuscation for Linear Regression Proof Conclusion**\n",
    "\n",
    "Using basic algebra and the properties of matrix index, we can see that multiplying our features matrix by an invertible matrix $XP$ changes the coefficient vector by a factor of the inverse of the inverse of the invertible matrix. So, whereas $w$ is represented by the coefficient vector for an ordinary least squares formula $(X^T X)^{-1} X^Ty$, $P^{-1}w$ represents the coefficient vector when multiplying our features matrix by an invertible matrix $P$. \n",
    "\n",
    "When examining how obfuscation affects our predictions, we find that there is no difference in predictions between an obfuscated dataset and unobfuscated dataset; as such, there is also no difference in the RMSE score of a linear regression model using unobfuscated data verses obfuscated data."
   ]
  },
  {
   "cell_type": "markdown",
   "metadata": {},
   "source": [
    "<div class=\"alert alert-danger\">\n",
    "<s><b>Reviewer's comment</b>\n",
    "\n",
    "> To prove that obfsucation will not affect values, dividing the obfuscated value (X') by P would yield X, which would then result in the equation for $w$\n",
    "    \n",
    "If you're saying that $w_P = w$, that's not true. We can't just multiply the expression for $w_P$ by $P^{-1}$ in arbitrary places.\n",
    "    \n",
    ">By dividing X' by P, or rather, multiplying the inverveted P matrix, the original matrix is recovered, X, which means the data has not actually changed.\n",
    "    \n",
    "While it's true that you can recover the original data by multiplying $X'$ with $P^{-1}$, it doesn't at all mean that the data has not actually changed. It has changed, just in some very specific way.\n",
    "    \n",
    "To actually prove that the quality will be the same you need two things:\n",
    "    \n",
    "1. Simplify the expression for $w_P$ using matrix multiplication rules (there's an appendix at the end of the notebook if you need a reminder). After simplifying it, you should get an expression of $w_P$ in terms of $P$ and the original $w$.\n",
    "2. After that, we can calculate the predictions of the old model and the predictions of the new model and compare them. Remember that predictions are calculated as $\\hat{y} = Xw$.\n",
    "\n",
    "</div>"
   ]
  },
  {
   "cell_type": "markdown",
   "metadata": {},
   "source": [
    "<div class=\"alert alert-warning\">\n",
    "<b>Reviewer's comment V2</b>\n",
    "\n",
    "Well done! The proof is correct! Indeed, $w_P = P^{-1}$, and the predictions of the new model will be exactly the same, due to $P$ and $P^{-1}$ cancelling out!\n",
    "    \n",
    "One small point: as $X$ represents the feature matrix, it is most of the time not even square, and thus can't be invertible. In that case $X^{-1}$ is not a valid expression. Luckily, $X^T X$ is always square, and it's invertible as long as the columns of $X$ are linearly invertible. Thus we can slighly modify the proof to make sure only $(X^T X)^{-1}$ appears in it and not $X^{-1}$ by taking a transpose first, and then the inverse:\n",
    "    \n",
    "$$[(XP)^T XP]^{-1} (XP)^T y = [P^T X^T XP]^{-1} P^T X^T y = P^{-1} (X^T X)^{-1} (P^T)^{-1} P^T X^T y$$\n",
    "    \n",
    "The rest is exactly the same\n",
    "\n",
    "</div>"
   ]
  },
  {
   "cell_type": "markdown",
   "metadata": {},
   "source": [
    "## Test Linear Regression With Data Obfuscation"
   ]
  },
  {
   "cell_type": "markdown",
   "metadata": {},
   "source": [
    "Now, let's prove Linear Regression can work computationally with the chosen obfuscation transformation.\n",
    "\n",
    "Build a procedure or a class that runs Linear Regression optionally with the obfuscation. You can use either a ready implementation of Linear Regression from sciki-learn or your own.\n",
    "\n",
    "Run Linear Regression for the original data and the obfuscated one, compare the predicted values and the RMSE, $R^2$ metric values. Is there any difference?"
   ]
  },
  {
   "cell_type": "markdown",
   "metadata": {},
   "source": [
    "**Procedure**\n",
    "\n",
    "- Create a square matrix $P$ of random numbers. \n",
    "- Check that it is invertible. If not, repeat the first point until we get an invertible matrix.\n",
    "- Build the Linear Regression model <! your comment here !>\n",
    "- Use $XP$ as the new feature matrix"
   ]
  },
  {
   "cell_type": "code",
   "execution_count": 49,
   "metadata": {},
   "outputs": [
    {
     "data": {
      "text/plain": [
       "array([[0.55458479, 0.06381726, 0.82763117, 0.6316644 ],\n",
       "       [0.75808774, 0.35452597, 0.97069802, 0.89312112],\n",
       "       [0.7783835 , 0.19463871, 0.466721  , 0.04380377],\n",
       "       [0.15428949, 0.68304895, 0.74476216, 0.96750973]])"
      ]
     },
     "execution_count": 49,
     "metadata": {},
     "output_type": "execute_result"
    }
   ],
   "source": [
    "#Using the same P matrix as before\n",
    "P = rng.random(size=(4, 4))\n",
    "P"
   ]
  },
  {
   "cell_type": "code",
   "execution_count": 50,
   "metadata": {},
   "outputs": [
    {
     "data": {
      "text/plain": [
       "array([[-3.30407744,  4.40917525, -0.27870525, -1.90039547],\n",
       "       [-0.95858897, -1.33121709,  1.62644533,  1.78106755],\n",
       "       [ 6.24868421, -7.35167522,  2.19103126,  2.60761164],\n",
       "       [-3.6064091 ,  5.89580272, -2.79039845, -1.92803822]])"
      ]
     },
     "metadata": {},
     "output_type": "display_data"
    }
   ],
   "source": [
    "#Inverted P\n",
    "display(np.linalg.inv(P))"
   ]
  },
  {
   "cell_type": "code",
   "execution_count": 51,
   "metadata": {},
   "outputs": [
    {
     "data": {
      "text/plain": [
       "array([[38639.61192648,  9669.36234036, 23190.73279719,  2210.88392315],\n",
       "       [29613.59921434,  7413.26214186, 17780.79501291,  1706.59418123],\n",
       "       [16368.03798301,  4097.69411797,  9829.29132098,   945.77959405],\n",
       "       ...,\n",
       "       [26402.67088459,  6606.70881345, 15842.74551115,  1504.74510208],\n",
       "       [25470.83573786,  6374.59828217, 15286.19409605,  1455.56599951],\n",
       "       [31624.3053122 ,  7913.00513211, 18977.62468933,  1805.03945649]])"
      ]
     },
     "execution_count": 51,
     "metadata": {},
     "output_type": "execute_result"
    }
   ],
   "source": [
    "X_obf = np.dot(X,P)\n",
    "X_obf"
   ]
  },
  {
   "cell_type": "code",
   "execution_count": 52,
   "metadata": {},
   "outputs": [
    {
     "name": "stdout",
     "output_type": "stream",
     "text": [
      "[-0.97736835  0.11635531 -0.08807234 -0.172716    0.16400431]\n",
      "RMSE: 0.36\n",
      "R2: 0.66\n"
     ]
    }
   ],
   "source": [
    "# Obfuscated df Linear Regression\n",
    "\n",
    "X = df[['age', 'gender', 'income', 'family_members']].to_numpy()\n",
    "y = df['insurance_benefits'].to_numpy()\n",
    "\n",
    "\n",
    "X_train, X_test, y_train, y_test = train_test_split(X_obf, y, test_size=0.3, random_state=12345)\n",
    "\n",
    "lr = MyLinearRegression()\n",
    "\n",
    "lr.fit(X_train, y_train)\n",
    "print(lr.weights)\n",
    "\n",
    "y_test_pred = lr.predict(X_test)\n",
    "eval_regressor(y_test, y_test_pred)\n"
   ]
  },
  {
   "cell_type": "code",
   "execution_count": 53,
   "metadata": {},
   "outputs": [
    {
     "name": "stdout",
     "output_type": "stream",
     "text": [
      "[-9.77366679e-01  3.58042290e-02  1.95594897e-02  5.85335011e-07\n",
      " -1.21618426e-02]\n",
      "RMSE: 0.36\n",
      "R2: 0.66\n"
     ]
    }
   ],
   "source": [
    "# Original df Linear Regression\n",
    "\n",
    "X = df[['age', 'gender', 'income', 'family_members']].to_numpy()\n",
    "y = df['insurance_benefits'].to_numpy()\n",
    "\n",
    "\n",
    "X_train, X_test, y_train, y_test = train_test_split(X, y, test_size=0.3, random_state=12345)\n",
    "\n",
    "lr = MyLinearRegression()\n",
    "\n",
    "lr.fit(X_train, y_train)\n",
    "print(lr.weights)\n",
    "\n",
    "y_test_pred = lr.predict(X_test)\n",
    "eval_regressor(y_test, y_test_pred)\n"
   ]
  },
  {
   "cell_type": "markdown",
   "metadata": {},
   "source": [
    "<div class=\"alert alert-success\">\n",
    "<b>Reviewer's comment</b>\n",
    "\n",
    "Great, you confirmed that our data obfuscation algorithm works empirically!\n",
    "\n",
    "</div>"
   ]
  },
  {
   "cell_type": "markdown",
   "metadata": {},
   "source": [
    "# Conclusions"
   ]
  },
  {
   "cell_type": "markdown",
   "metadata": {},
   "source": [
    "1) A linear regression model was built to predict the number of insurance benefits Sure Tomorrow customer's received.\n",
    "\n",
    "2) This model used data that hides the customer's confidential data while maintaining functionality.\n",
    "\n",
    "3) Several models for the Sure Tomorrow company have been made to find 1) similar customers using kNN and 2) predict likelihood of a customer receiving insurance benefits."
   ]
  },
  {
   "cell_type": "markdown",
   "metadata": {},
   "source": [
    "# Checklist"
   ]
  },
  {
   "cell_type": "markdown",
   "metadata": {},
   "source": [
    "Type 'x' to check. Then press Shift+Enter."
   ]
  },
  {
   "cell_type": "markdown",
   "metadata": {},
   "source": [
    "- [x]  Jupyter Notebook is open\n",
    "- [ ]  Code is error free\n",
    "- [ ]  The cells are arranged in order of logic and execution\n",
    "- [ ]  Task 1 has been performed\n",
    "    - [ ]  There is the procedure that can return k similar customers for a given one\n",
    "    - [ ]  The procedure is tested for all four proposed combinations\n",
    "    - [ ]  The questions re the scaling/distances are answered\n",
    "- [ ]  Task 2 has been performed\n",
    "    - [ ]  The random classification model is built and tested for all for probability levels\n",
    "    - [ ]  The kNN classification model is built and tested for both the original data and the scaled one, the F1 metric is calculated.\n",
    "- [ ]  Task 3 has been performed\n",
    "    - [ ]  The linear tegression solution is implemented with matrix operations.\n",
    "    - [ ]  RMSE is calculated for the implemented solution.\n",
    "- [ ]  Task 4 has been performed\n",
    "    - [ ]  The data is obfuscated with a random and invertible matrix P\n",
    "    - [ ]  The obfuscated data is recoved, few examples are printed out\n",
    "    - [ ]  The analytical proof that the transformation does not affect RMSE is provided \n",
    "    - [ ]  The computational proof that the transformation does not affect RMSE is provided\n",
    "- [ ]  Conclusions have been made"
   ]
  },
  {
   "cell_type": "markdown",
   "metadata": {},
   "source": [
    "# Appendices \n",
    "\n",
    "## Appendix A: Writing Formulas in Jupyter Notebooks"
   ]
  },
  {
   "cell_type": "markdown",
   "metadata": {},
   "source": [
    "You can write formulas in your Jupyter Notebook in a markup language provided by a high-quality publishing system called $\\LaTeX$ (pronounced \"Lah-tech\"), and they will look like formulas in textbooks.\n",
    "\n",
    "To put a formula in a text, put the dollar sign (\\\\$) before and after the formula's text e.g. $\\frac{1}{2} \\times \\frac{3}{2} = \\frac{3}{4}$ or $y = x^2, x \\ge 1$.\n",
    "\n",
    "If a formula should be in its own paragraph, put the double dollar sign (\\\\$\\\\$) before and after the formula text e.g.\n",
    "\n",
    "$$\n",
    "\\bar{x} = \\frac{1}{n}\\sum_{i=1}^{n} x_i.\n",
    "$$\n",
    "\n",
    "The markup language of [LaTeX](https://en.wikipedia.org/wiki/LaTeX) is very popular among people who use formulas in their articles, books and texts. It can be complex but its basics are easy. Check this two page [cheatsheet](http://tug.ctan.org/info/undergradmath/undergradmath.pdf) for learning how to compose the most common formulas."
   ]
  },
  {
   "cell_type": "markdown",
   "metadata": {},
   "source": [
    "## Appendix B: Properties of Matrices"
   ]
  },
  {
   "cell_type": "markdown",
   "metadata": {},
   "source": [
    "Matrices have many properties in Linear Algebra. A few of them are listed here which can help with the analytical proof in this project."
   ]
  },
  {
   "cell_type": "markdown",
   "metadata": {},
   "source": [
    "<table>\n",
    "<tr>\n",
    "<td>Distributivity</td><td>$A(B+C)=AB+AC$</td>\n",
    "</tr>\n",
    "<tr>\n",
    "<td>Non-commutativity</td><td>$AB \\neq BA$</td>\n",
    "</tr>\n",
    "<tr>\n",
    "<td>Associative property of multiplication</td><td>$(AB)C = A(BC)$</td>\n",
    "</tr>\n",
    "<tr>\n",
    "<td>Multiplicative identity property</td><td>$IA = AI = A$</td>\n",
    "</tr>\n",
    "<tr>\n",
    "<td></td><td>$A^{-1}A = AA^{-1} = I$\n",
    "</td>\n",
    "</tr>    \n",
    "<tr>\n",
    "<td></td><td>$(AB)^{-1} = B^{-1}A^{-1}$</td>\n",
    "</tr>    \n",
    "<tr>\n",
    "<td>Reversivity of the transpose of a product of matrices,</td><td>$(AB)^T = B^TA^T$</td>\n",
    "</tr>    \n",
    "</table>"
   ]
  },
  {
   "cell_type": "code",
   "execution_count": null,
   "metadata": {},
   "outputs": [],
   "source": []
  }
 ],
 "metadata": {
  "ExecuteTimeLog": [
   {
    "duration": 331,
    "start_time": "2022-01-04T14:34:50.163Z"
   },
   {
    "duration": 7282,
    "start_time": "2022-01-04T14:34:57.545Z"
   },
   {
    "duration": 1403,
    "start_time": "2022-01-04T14:35:04.830Z"
   },
   {
    "duration": 20,
    "start_time": "2022-01-04T14:35:06.236Z"
   },
   {
    "duration": 5,
    "start_time": "2022-01-04T14:35:06.258Z"
   },
   {
    "duration": 25,
    "start_time": "2022-01-04T14:35:06.266Z"
   },
   {
    "duration": 6,
    "start_time": "2022-01-04T14:35:06.293Z"
   },
   {
    "duration": 358,
    "start_time": "2022-01-04T14:35:06.300Z"
   },
   {
    "duration": -90,
    "start_time": "2022-01-04T14:35:06.751Z"
   },
   {
    "duration": -125,
    "start_time": "2022-01-04T14:35:06.788Z"
   },
   {
    "duration": -129,
    "start_time": "2022-01-04T14:35:06.793Z"
   },
   {
    "duration": -143,
    "start_time": "2022-01-04T14:35:06.808Z"
   },
   {
    "duration": -157,
    "start_time": "2022-01-04T14:35:06.823Z"
   },
   {
    "duration": -160,
    "start_time": "2022-01-04T14:35:06.827Z"
   },
   {
    "duration": -240,
    "start_time": "2022-01-04T14:35:06.908Z"
   },
   {
    "duration": -243,
    "start_time": "2022-01-04T14:35:06.912Z"
   },
   {
    "duration": -246,
    "start_time": "2022-01-04T14:35:06.916Z"
   },
   {
    "duration": -248,
    "start_time": "2022-01-04T14:35:06.920Z"
   },
   {
    "duration": -251,
    "start_time": "2022-01-04T14:35:06.924Z"
   },
   {
    "duration": -253,
    "start_time": "2022-01-04T14:35:06.928Z"
   },
   {
    "duration": -257,
    "start_time": "2022-01-04T14:35:06.933Z"
   },
   {
    "duration": -259,
    "start_time": "2022-01-04T14:35:06.937Z"
   },
   {
    "duration": -262,
    "start_time": "2022-01-04T14:35:06.941Z"
   },
   {
    "duration": -265,
    "start_time": "2022-01-04T14:35:06.945Z"
   },
   {
    "duration": -267,
    "start_time": "2022-01-04T14:35:06.949Z"
   },
   {
    "duration": -269,
    "start_time": "2022-01-04T14:35:06.953Z"
   },
   {
    "duration": 4,
    "start_time": "2022-01-04T14:36:42.565Z"
   },
   {
    "duration": 7,
    "start_time": "2022-01-04T14:37:02.225Z"
   },
   {
    "duration": 5097,
    "start_time": "2022-01-04T14:38:53.221Z"
   },
   {
    "duration": 210,
    "start_time": "2022-01-04T19:13:09.215Z"
   },
   {
    "duration": 173,
    "start_time": "2022-01-04T19:13:11.442Z"
   },
   {
    "duration": 76532,
    "start_time": "2022-01-04T19:13:18.840Z"
   },
   {
    "duration": 1172,
    "start_time": "2022-01-04T19:14:35.374Z"
   },
   {
    "duration": 17,
    "start_time": "2022-01-04T19:14:36.548Z"
   },
   {
    "duration": 6,
    "start_time": "2022-01-04T19:14:36.566Z"
   },
   {
    "duration": 13,
    "start_time": "2022-01-04T19:14:36.574Z"
   },
   {
    "duration": 6,
    "start_time": "2022-01-04T19:14:36.588Z"
   },
   {
    "duration": 4,
    "start_time": "2022-01-04T19:14:36.596Z"
   },
   {
    "duration": 6,
    "start_time": "2022-01-04T19:14:36.603Z"
   },
   {
    "duration": 2,
    "start_time": "2022-01-04T19:14:36.611Z"
   },
   {
    "duration": 5385,
    "start_time": "2022-01-04T19:14:36.615Z"
   },
   {
    "duration": 3,
    "start_time": "2022-01-04T19:14:42.002Z"
   },
   {
    "duration": 8,
    "start_time": "2022-01-04T19:14:42.007Z"
   },
   {
    "duration": 12,
    "start_time": "2022-01-04T19:14:42.017Z"
   },
   {
    "duration": 10,
    "start_time": "2022-01-04T19:14:42.031Z"
   },
   {
    "duration": 54,
    "start_time": "2022-01-04T19:14:42.043Z"
   },
   {
    "duration": -330,
    "start_time": "2022-01-04T19:14:42.429Z"
   },
   {
    "duration": -334,
    "start_time": "2022-01-04T19:14:42.434Z"
   },
   {
    "duration": -336,
    "start_time": "2022-01-04T19:14:42.438Z"
   },
   {
    "duration": -341,
    "start_time": "2022-01-04T19:14:42.445Z"
   },
   {
    "duration": -343,
    "start_time": "2022-01-04T19:14:42.448Z"
   },
   {
    "duration": -346,
    "start_time": "2022-01-04T19:14:42.453Z"
   },
   {
    "duration": -350,
    "start_time": "2022-01-04T19:14:42.458Z"
   },
   {
    "duration": -352,
    "start_time": "2022-01-04T19:14:42.462Z"
   },
   {
    "duration": -354,
    "start_time": "2022-01-04T19:14:42.465Z"
   },
   {
    "duration": -357,
    "start_time": "2022-01-04T19:14:42.469Z"
   },
   {
    "duration": 9,
    "start_time": "2022-01-04T19:28:16.825Z"
   },
   {
    "duration": 214,
    "start_time": "2022-01-28T01:48:35.277Z"
   },
   {
    "duration": 104915,
    "start_time": "2022-01-28T01:48:42.295Z"
   },
   {
    "duration": 1162,
    "start_time": "2022-01-28T01:50:27.213Z"
   },
   {
    "duration": 42,
    "start_time": "2022-01-28T01:50:28.377Z"
   },
   {
    "duration": 4,
    "start_time": "2022-01-28T01:50:28.421Z"
   },
   {
    "duration": 16,
    "start_time": "2022-01-28T01:50:28.426Z"
   },
   {
    "duration": 6,
    "start_time": "2022-01-28T01:50:28.443Z"
   },
   {
    "duration": 3,
    "start_time": "2022-01-28T01:50:28.451Z"
   },
   {
    "duration": 11,
    "start_time": "2022-01-28T01:50:28.456Z"
   },
   {
    "duration": 7,
    "start_time": "2022-01-28T01:50:28.469Z"
   },
   {
    "duration": 5,
    "start_time": "2022-01-28T01:50:28.478Z"
   },
   {
    "duration": 5372,
    "start_time": "2022-01-28T01:50:28.484Z"
   },
   {
    "duration": 3,
    "start_time": "2022-01-28T01:50:33.858Z"
   },
   {
    "duration": 8,
    "start_time": "2022-01-28T01:50:33.862Z"
   },
   {
    "duration": 27,
    "start_time": "2022-01-28T01:50:33.871Z"
   },
   {
    "duration": 11,
    "start_time": "2022-01-28T01:50:33.899Z"
   },
   {
    "duration": 10,
    "start_time": "2022-01-28T01:50:33.912Z"
   },
   {
    "duration": 68,
    "start_time": "2022-01-28T01:50:33.924Z"
   },
   {
    "duration": -363,
    "start_time": "2022-01-28T01:50:34.357Z"
   },
   {
    "duration": -366,
    "start_time": "2022-01-28T01:50:34.361Z"
   },
   {
    "duration": -368,
    "start_time": "2022-01-28T01:50:34.365Z"
   },
   {
    "duration": -370,
    "start_time": "2022-01-28T01:50:34.369Z"
   },
   {
    "duration": -372,
    "start_time": "2022-01-28T01:50:34.372Z"
   },
   {
    "duration": -410,
    "start_time": "2022-01-28T01:50:34.411Z"
   },
   {
    "duration": -414,
    "start_time": "2022-01-28T01:50:34.417Z"
   },
   {
    "duration": -419,
    "start_time": "2022-01-28T01:50:34.423Z"
   },
   {
    "duration": -422,
    "start_time": "2022-01-28T01:50:34.428Z"
   },
   {
    "duration": -430,
    "start_time": "2022-01-28T01:50:34.437Z"
   },
   {
    "duration": 6853,
    "start_time": "2022-01-29T23:30:19.793Z"
   },
   {
    "duration": 1259,
    "start_time": "2022-01-29T23:30:26.649Z"
   },
   {
    "duration": 24,
    "start_time": "2022-01-29T23:30:27.911Z"
   },
   {
    "duration": 5,
    "start_time": "2022-01-29T23:30:27.937Z"
   },
   {
    "duration": 14,
    "start_time": "2022-01-29T23:30:27.944Z"
   },
   {
    "duration": 7,
    "start_time": "2022-01-29T23:30:27.960Z"
   },
   {
    "duration": 5,
    "start_time": "2022-01-29T23:30:27.969Z"
   },
   {
    "duration": 7,
    "start_time": "2022-01-29T23:30:27.975Z"
   },
   {
    "duration": 6,
    "start_time": "2022-01-29T23:30:27.986Z"
   },
   {
    "duration": 352,
    "start_time": "2022-01-29T23:30:27.994Z"
   },
   {
    "duration": -163,
    "start_time": "2022-01-29T23:30:28.511Z"
   },
   {
    "duration": -171,
    "start_time": "2022-01-29T23:30:28.520Z"
   },
   {
    "duration": -176,
    "start_time": "2022-01-29T23:30:28.526Z"
   },
   {
    "duration": -178,
    "start_time": "2022-01-29T23:30:28.529Z"
   },
   {
    "duration": -181,
    "start_time": "2022-01-29T23:30:28.533Z"
   },
   {
    "duration": -184,
    "start_time": "2022-01-29T23:30:28.537Z"
   },
   {
    "duration": -187,
    "start_time": "2022-01-29T23:30:28.541Z"
   },
   {
    "duration": -284,
    "start_time": "2022-01-29T23:30:28.639Z"
   },
   {
    "duration": -308,
    "start_time": "2022-01-29T23:30:28.664Z"
   },
   {
    "duration": -313,
    "start_time": "2022-01-29T23:30:28.669Z"
   },
   {
    "duration": -316,
    "start_time": "2022-01-29T23:30:28.673Z"
   },
   {
    "duration": -319,
    "start_time": "2022-01-29T23:30:28.677Z"
   },
   {
    "duration": -323,
    "start_time": "2022-01-29T23:30:28.682Z"
   },
   {
    "duration": -326,
    "start_time": "2022-01-29T23:30:28.686Z"
   },
   {
    "duration": -330,
    "start_time": "2022-01-29T23:30:28.691Z"
   },
   {
    "duration": -333,
    "start_time": "2022-01-29T23:30:28.695Z"
   },
   {
    "duration": -335,
    "start_time": "2022-01-29T23:30:28.699Z"
   },
   {
    "duration": -338,
    "start_time": "2022-01-29T23:30:28.702Z"
   },
   {
    "duration": -341,
    "start_time": "2022-01-29T23:30:28.706Z"
   },
   {
    "duration": -343,
    "start_time": "2022-01-29T23:30:28.710Z"
   },
   {
    "duration": 4,
    "start_time": "2022-01-29T23:30:36.254Z"
   },
   {
    "duration": 2,
    "start_time": "2022-01-29T23:31:56.869Z"
   },
   {
    "duration": 6827,
    "start_time": "2022-01-30T21:36:16.033Z"
   },
   {
    "duration": 1324,
    "start_time": "2022-01-30T21:36:22.862Z"
   },
   {
    "duration": 21,
    "start_time": "2022-01-30T21:36:24.188Z"
   },
   {
    "duration": 5,
    "start_time": "2022-01-30T21:36:24.212Z"
   },
   {
    "duration": 15,
    "start_time": "2022-01-30T21:36:24.219Z"
   },
   {
    "duration": 8,
    "start_time": "2022-01-30T21:36:24.236Z"
   },
   {
    "duration": 8,
    "start_time": "2022-01-30T21:36:24.246Z"
   },
   {
    "duration": 13,
    "start_time": "2022-01-30T21:36:24.257Z"
   },
   {
    "duration": 36,
    "start_time": "2022-01-30T21:36:24.273Z"
   },
   {
    "duration": 5,
    "start_time": "2022-01-30T21:36:24.310Z"
   },
   {
    "duration": 10,
    "start_time": "2022-01-30T21:36:24.317Z"
   },
   {
    "duration": 3,
    "start_time": "2022-01-30T21:36:24.329Z"
   },
   {
    "duration": 7730,
    "start_time": "2022-01-30T21:36:24.334Z"
   },
   {
    "duration": 5,
    "start_time": "2022-01-30T21:36:32.067Z"
   },
   {
    "duration": 8,
    "start_time": "2022-01-30T21:36:32.075Z"
   },
   {
    "duration": 37,
    "start_time": "2022-01-30T21:36:32.086Z"
   },
   {
    "duration": 15,
    "start_time": "2022-01-30T21:36:32.125Z"
   },
   {
    "duration": 11,
    "start_time": "2022-01-30T21:36:32.142Z"
   },
   {
    "duration": 345,
    "start_time": "2022-01-30T21:36:32.155Z"
   },
   {
    "duration": -100,
    "start_time": "2022-01-30T21:36:32.602Z"
   },
   {
    "duration": -104,
    "start_time": "2022-01-30T21:36:32.607Z"
   },
   {
    "duration": -113,
    "start_time": "2022-01-30T21:36:32.617Z"
   },
   {
    "duration": -115,
    "start_time": "2022-01-30T21:36:32.620Z"
   },
   {
    "duration": -118,
    "start_time": "2022-01-30T21:36:32.624Z"
   },
   {
    "duration": -121,
    "start_time": "2022-01-30T21:36:32.628Z"
   },
   {
    "duration": -123,
    "start_time": "2022-01-30T21:36:32.632Z"
   },
   {
    "duration": -126,
    "start_time": "2022-01-30T21:36:32.636Z"
   },
   {
    "duration": -129,
    "start_time": "2022-01-30T21:36:32.640Z"
   },
   {
    "duration": -133,
    "start_time": "2022-01-30T21:36:32.644Z"
   },
   {
    "duration": -135,
    "start_time": "2022-01-30T21:36:32.647Z"
   },
   {
    "duration": 483,
    "start_time": "2022-01-30T21:37:36.428Z"
   },
   {
    "duration": 5,
    "start_time": "2022-01-30T21:44:44.710Z"
   },
   {
    "duration": 19,
    "start_time": "2022-01-30T21:44:51.591Z"
   },
   {
    "duration": 18,
    "start_time": "2022-01-30T21:49:54.094Z"
   },
   {
    "duration": 20,
    "start_time": "2022-01-30T21:53:20.288Z"
   },
   {
    "duration": 21,
    "start_time": "2022-01-30T21:53:54.844Z"
   },
   {
    "duration": 20,
    "start_time": "2022-01-30T21:55:00.179Z"
   },
   {
    "duration": 5,
    "start_time": "2022-01-30T21:58:52.767Z"
   },
   {
    "duration": 2826,
    "start_time": "2022-01-30T21:59:01.112Z"
   },
   {
    "duration": 1184,
    "start_time": "2022-01-30T21:59:03.940Z"
   },
   {
    "duration": 20,
    "start_time": "2022-01-30T21:59:05.127Z"
   },
   {
    "duration": 10,
    "start_time": "2022-01-30T21:59:05.149Z"
   },
   {
    "duration": 22,
    "start_time": "2022-01-30T21:59:05.161Z"
   },
   {
    "duration": 12,
    "start_time": "2022-01-30T21:59:05.185Z"
   },
   {
    "duration": 9,
    "start_time": "2022-01-30T21:59:05.199Z"
   },
   {
    "duration": 10,
    "start_time": "2022-01-30T21:59:05.211Z"
   },
   {
    "duration": 8,
    "start_time": "2022-01-30T21:59:05.223Z"
   },
   {
    "duration": 4,
    "start_time": "2022-01-30T21:59:05.234Z"
   },
   {
    "duration": 14,
    "start_time": "2022-01-30T21:59:05.240Z"
   },
   {
    "duration": 4,
    "start_time": "2022-01-30T21:59:05.256Z"
   },
   {
    "duration": 7559,
    "start_time": "2022-01-30T21:59:05.262Z"
   },
   {
    "duration": 4,
    "start_time": "2022-01-30T21:59:12.824Z"
   },
   {
    "duration": 6,
    "start_time": "2022-01-30T21:59:12.830Z"
   },
   {
    "duration": 14,
    "start_time": "2022-01-30T21:59:12.838Z"
   },
   {
    "duration": 13,
    "start_time": "2022-01-30T21:59:12.854Z"
   },
   {
    "duration": 11,
    "start_time": "2022-01-30T21:59:12.868Z"
   },
   {
    "duration": 14,
    "start_time": "2022-01-30T21:59:12.908Z"
   },
   {
    "duration": 15,
    "start_time": "2022-01-30T21:59:12.924Z"
   },
   {
    "duration": 16,
    "start_time": "2022-01-30T21:59:12.941Z"
   },
   {
    "duration": 15,
    "start_time": "2022-01-30T21:59:12.959Z"
   },
   {
    "duration": 82,
    "start_time": "2022-01-30T21:59:13.010Z"
   },
   {
    "duration": -326,
    "start_time": "2022-01-30T21:59:13.420Z"
   },
   {
    "duration": -329,
    "start_time": "2022-01-30T21:59:13.424Z"
   },
   {
    "duration": -332,
    "start_time": "2022-01-30T21:59:13.429Z"
   },
   {
    "duration": -335,
    "start_time": "2022-01-30T21:59:13.433Z"
   },
   {
    "duration": -338,
    "start_time": "2022-01-30T21:59:13.437Z"
   },
   {
    "duration": -341,
    "start_time": "2022-01-30T21:59:13.441Z"
   },
   {
    "duration": -344,
    "start_time": "2022-01-30T21:59:13.445Z"
   },
   {
    "duration": -347,
    "start_time": "2022-01-30T21:59:13.449Z"
   },
   {
    "duration": -349,
    "start_time": "2022-01-30T21:59:13.452Z"
   },
   {
    "duration": -352,
    "start_time": "2022-01-30T21:59:13.456Z"
   },
   {
    "duration": 2871,
    "start_time": "2022-01-30T22:01:59.632Z"
   },
   {
    "duration": 1253,
    "start_time": "2022-01-30T22:02:02.506Z"
   },
   {
    "duration": 20,
    "start_time": "2022-01-30T22:02:03.761Z"
   },
   {
    "duration": 13,
    "start_time": "2022-01-30T22:02:03.783Z"
   },
   {
    "duration": 30,
    "start_time": "2022-01-30T22:02:03.798Z"
   },
   {
    "duration": 14,
    "start_time": "2022-01-30T22:02:03.829Z"
   },
   {
    "duration": 14,
    "start_time": "2022-01-30T22:02:03.845Z"
   },
   {
    "duration": 15,
    "start_time": "2022-01-30T22:02:03.862Z"
   },
   {
    "duration": 11,
    "start_time": "2022-01-30T22:02:03.880Z"
   },
   {
    "duration": 14,
    "start_time": "2022-01-30T22:02:03.893Z"
   },
   {
    "duration": 26,
    "start_time": "2022-01-30T22:02:03.909Z"
   },
   {
    "duration": 27,
    "start_time": "2022-01-30T22:02:03.937Z"
   },
   {
    "duration": 8127,
    "start_time": "2022-01-30T22:02:03.966Z"
   },
   {
    "duration": 12,
    "start_time": "2022-01-30T22:02:12.095Z"
   },
   {
    "duration": 5,
    "start_time": "2022-01-30T22:02:12.109Z"
   },
   {
    "duration": 18,
    "start_time": "2022-01-30T22:02:12.116Z"
   },
   {
    "duration": 23,
    "start_time": "2022-01-30T22:02:12.135Z"
   },
   {
    "duration": 12,
    "start_time": "2022-01-30T22:02:12.160Z"
   },
   {
    "duration": 605,
    "start_time": "2022-01-30T22:02:12.174Z"
   },
   {
    "duration": -167,
    "start_time": "2022-01-30T22:02:12.949Z"
   },
   {
    "duration": -171,
    "start_time": "2022-01-30T22:02:12.954Z"
   },
   {
    "duration": -179,
    "start_time": "2022-01-30T22:02:12.963Z"
   },
   {
    "duration": -183,
    "start_time": "2022-01-30T22:02:12.968Z"
   },
   {
    "duration": -185,
    "start_time": "2022-01-30T22:02:12.971Z"
   },
   {
    "duration": -189,
    "start_time": "2022-01-30T22:02:12.976Z"
   },
   {
    "duration": -191,
    "start_time": "2022-01-30T22:02:12.979Z"
   },
   {
    "duration": -194,
    "start_time": "2022-01-30T22:02:12.983Z"
   },
   {
    "duration": -197,
    "start_time": "2022-01-30T22:02:12.987Z"
   },
   {
    "duration": -201,
    "start_time": "2022-01-30T22:02:12.992Z"
   },
   {
    "duration": -204,
    "start_time": "2022-01-30T22:02:12.996Z"
   },
   {
    "duration": -207,
    "start_time": "2022-01-30T22:02:13.000Z"
   },
   {
    "duration": -211,
    "start_time": "2022-01-30T22:02:13.004Z"
   },
   {
    "duration": -215,
    "start_time": "2022-01-30T22:02:13.009Z"
   },
   {
    "duration": 4,
    "start_time": "2022-01-30T22:02:54.188Z"
   },
   {
    "duration": 2907,
    "start_time": "2022-01-30T22:02:59.531Z"
   },
   {
    "duration": 1244,
    "start_time": "2022-01-30T22:03:02.440Z"
   },
   {
    "duration": 21,
    "start_time": "2022-01-30T22:03:03.687Z"
   },
   {
    "duration": 5,
    "start_time": "2022-01-30T22:03:03.710Z"
   },
   {
    "duration": 17,
    "start_time": "2022-01-30T22:03:03.717Z"
   },
   {
    "duration": 9,
    "start_time": "2022-01-30T22:03:03.736Z"
   },
   {
    "duration": 6,
    "start_time": "2022-01-30T22:03:03.747Z"
   },
   {
    "duration": 14,
    "start_time": "2022-01-30T22:03:03.756Z"
   },
   {
    "duration": 6,
    "start_time": "2022-01-30T22:03:03.772Z"
   },
   {
    "duration": 28,
    "start_time": "2022-01-30T22:03:03.780Z"
   },
   {
    "duration": 14,
    "start_time": "2022-01-30T22:03:03.810Z"
   },
   {
    "duration": 4,
    "start_time": "2022-01-30T22:03:03.825Z"
   },
   {
    "duration": 7554,
    "start_time": "2022-01-30T22:03:03.831Z"
   },
   {
    "duration": 4,
    "start_time": "2022-01-30T22:03:11.387Z"
   },
   {
    "duration": 19,
    "start_time": "2022-01-30T22:03:11.393Z"
   },
   {
    "duration": 12,
    "start_time": "2022-01-30T22:03:11.414Z"
   },
   {
    "duration": 15,
    "start_time": "2022-01-30T22:03:11.428Z"
   },
   {
    "duration": 11,
    "start_time": "2022-01-30T22:03:11.444Z"
   },
   {
    "duration": 582,
    "start_time": "2022-01-30T22:03:11.457Z"
   },
   {
    "duration": -116,
    "start_time": "2022-01-30T22:03:12.158Z"
   },
   {
    "duration": -120,
    "start_time": "2022-01-30T22:03:12.163Z"
   },
   {
    "duration": -125,
    "start_time": "2022-01-30T22:03:12.170Z"
   },
   {
    "duration": -129,
    "start_time": "2022-01-30T22:03:12.175Z"
   },
   {
    "duration": -132,
    "start_time": "2022-01-30T22:03:12.179Z"
   },
   {
    "duration": -135,
    "start_time": "2022-01-30T22:03:12.183Z"
   },
   {
    "duration": -138,
    "start_time": "2022-01-30T22:03:12.187Z"
   },
   {
    "duration": -144,
    "start_time": "2022-01-30T22:03:12.195Z"
   },
   {
    "duration": -147,
    "start_time": "2022-01-30T22:03:12.199Z"
   },
   {
    "duration": -151,
    "start_time": "2022-01-30T22:03:12.204Z"
   },
   {
    "duration": -155,
    "start_time": "2022-01-30T22:03:12.209Z"
   },
   {
    "duration": -158,
    "start_time": "2022-01-30T22:03:12.213Z"
   },
   {
    "duration": -161,
    "start_time": "2022-01-30T22:03:12.217Z"
   },
   {
    "duration": -164,
    "start_time": "2022-01-30T22:03:12.221Z"
   },
   {
    "duration": 2694,
    "start_time": "2022-01-30T22:05:32.557Z"
   },
   {
    "duration": 1179,
    "start_time": "2022-01-30T22:05:35.253Z"
   },
   {
    "duration": 20,
    "start_time": "2022-01-30T22:05:36.435Z"
   },
   {
    "duration": 5,
    "start_time": "2022-01-30T22:05:36.458Z"
   },
   {
    "duration": 19,
    "start_time": "2022-01-30T22:05:36.464Z"
   },
   {
    "duration": 9,
    "start_time": "2022-01-30T22:05:36.486Z"
   },
   {
    "duration": 12,
    "start_time": "2022-01-30T22:05:36.497Z"
   },
   {
    "duration": 10,
    "start_time": "2022-01-30T22:05:36.511Z"
   },
   {
    "duration": 6,
    "start_time": "2022-01-30T22:05:36.525Z"
   },
   {
    "duration": 6,
    "start_time": "2022-01-30T22:05:36.533Z"
   },
   {
    "duration": 12,
    "start_time": "2022-01-30T22:05:36.540Z"
   },
   {
    "duration": 7,
    "start_time": "2022-01-30T22:05:36.554Z"
   },
   {
    "duration": 7714,
    "start_time": "2022-01-30T22:05:36.563Z"
   },
   {
    "duration": 4,
    "start_time": "2022-01-30T22:05:44.279Z"
   },
   {
    "duration": 15,
    "start_time": "2022-01-30T22:05:44.285Z"
   },
   {
    "duration": 365,
    "start_time": "2022-01-30T22:05:44.302Z"
   },
   {
    "duration": -114,
    "start_time": "2022-01-30T22:05:44.783Z"
   },
   {
    "duration": -119,
    "start_time": "2022-01-30T22:05:44.790Z"
   },
   {
    "duration": -134,
    "start_time": "2022-01-30T22:05:44.806Z"
   },
   {
    "duration": -140,
    "start_time": "2022-01-30T22:05:44.813Z"
   },
   {
    "duration": -143,
    "start_time": "2022-01-30T22:05:44.817Z"
   },
   {
    "duration": -148,
    "start_time": "2022-01-30T22:05:44.823Z"
   },
   {
    "duration": -151,
    "start_time": "2022-01-30T22:05:44.827Z"
   },
   {
    "duration": -154,
    "start_time": "2022-01-30T22:05:44.831Z"
   },
   {
    "duration": -157,
    "start_time": "2022-01-30T22:05:44.835Z"
   },
   {
    "duration": -163,
    "start_time": "2022-01-30T22:05:44.842Z"
   },
   {
    "duration": -166,
    "start_time": "2022-01-30T22:05:44.846Z"
   },
   {
    "duration": -184,
    "start_time": "2022-01-30T22:05:44.864Z"
   },
   {
    "duration": -188,
    "start_time": "2022-01-30T22:05:44.869Z"
   },
   {
    "duration": -195,
    "start_time": "2022-01-30T22:05:44.877Z"
   },
   {
    "duration": -199,
    "start_time": "2022-01-30T22:05:44.882Z"
   },
   {
    "duration": -203,
    "start_time": "2022-01-30T22:05:44.887Z"
   },
   {
    "duration": -208,
    "start_time": "2022-01-30T22:05:44.893Z"
   },
   {
    "duration": 9,
    "start_time": "2022-01-30T22:06:05.742Z"
   },
   {
    "duration": 2775,
    "start_time": "2022-01-30T22:06:53.948Z"
   },
   {
    "duration": 1243,
    "start_time": "2022-01-30T22:06:56.726Z"
   },
   {
    "duration": 20,
    "start_time": "2022-01-30T22:06:57.972Z"
   },
   {
    "duration": 4,
    "start_time": "2022-01-30T22:06:57.995Z"
   },
   {
    "duration": 22,
    "start_time": "2022-01-30T22:06:58.001Z"
   },
   {
    "duration": 12,
    "start_time": "2022-01-30T22:06:58.025Z"
   },
   {
    "duration": 5,
    "start_time": "2022-01-30T22:06:58.039Z"
   },
   {
    "duration": 9,
    "start_time": "2022-01-30T22:06:58.047Z"
   },
   {
    "duration": 7,
    "start_time": "2022-01-30T22:06:58.059Z"
   },
   {
    "duration": 5,
    "start_time": "2022-01-30T22:06:58.068Z"
   },
   {
    "duration": 34,
    "start_time": "2022-01-30T22:06:58.075Z"
   },
   {
    "duration": 2,
    "start_time": "2022-01-30T22:06:58.111Z"
   },
   {
    "duration": 7595,
    "start_time": "2022-01-30T22:06:58.115Z"
   },
   {
    "duration": 4,
    "start_time": "2022-01-30T22:07:05.712Z"
   },
   {
    "duration": 10,
    "start_time": "2022-01-30T22:07:05.718Z"
   },
   {
    "duration": 11,
    "start_time": "2022-01-30T22:07:05.730Z"
   },
   {
    "duration": 20,
    "start_time": "2022-01-30T22:07:05.742Z"
   },
   {
    "duration": 10,
    "start_time": "2022-01-30T22:07:05.764Z"
   },
   {
    "duration": 41,
    "start_time": "2022-01-30T22:07:05.776Z"
   },
   {
    "duration": 20,
    "start_time": "2022-01-30T22:07:05.819Z"
   },
   {
    "duration": 17,
    "start_time": "2022-01-30T22:07:05.841Z"
   },
   {
    "duration": 21,
    "start_time": "2022-01-30T22:07:05.860Z"
   },
   {
    "duration": 89,
    "start_time": "2022-01-30T22:07:05.910Z"
   },
   {
    "duration": -200,
    "start_time": "2022-01-30T22:07:06.201Z"
   },
   {
    "duration": -204,
    "start_time": "2022-01-30T22:07:06.207Z"
   },
   {
    "duration": -207,
    "start_time": "2022-01-30T22:07:06.211Z"
   },
   {
    "duration": -210,
    "start_time": "2022-01-30T22:07:06.214Z"
   },
   {
    "duration": -213,
    "start_time": "2022-01-30T22:07:06.218Z"
   },
   {
    "duration": -216,
    "start_time": "2022-01-30T22:07:06.222Z"
   },
   {
    "duration": -219,
    "start_time": "2022-01-30T22:07:06.226Z"
   },
   {
    "duration": -222,
    "start_time": "2022-01-30T22:07:06.230Z"
   },
   {
    "duration": -290,
    "start_time": "2022-01-30T22:07:06.299Z"
   },
   {
    "duration": -294,
    "start_time": "2022-01-30T22:07:06.304Z"
   },
   {
    "duration": 340,
    "start_time": "2022-01-31T02:02:29.056Z"
   },
   {
    "duration": 13391,
    "start_time": "2022-01-31T02:02:43.682Z"
   },
   {
    "duration": 1107,
    "start_time": "2022-01-31T02:02:57.074Z"
   },
   {
    "duration": 17,
    "start_time": "2022-01-31T02:02:58.183Z"
   },
   {
    "duration": 4,
    "start_time": "2022-01-31T02:02:58.202Z"
   },
   {
    "duration": 16,
    "start_time": "2022-01-31T02:02:58.208Z"
   },
   {
    "duration": 5,
    "start_time": "2022-01-31T02:02:58.225Z"
   },
   {
    "duration": 10,
    "start_time": "2022-01-31T02:02:58.232Z"
   },
   {
    "duration": 6,
    "start_time": "2022-01-31T02:02:58.244Z"
   },
   {
    "duration": 5,
    "start_time": "2022-01-31T02:02:58.252Z"
   },
   {
    "duration": 3,
    "start_time": "2022-01-31T02:02:58.259Z"
   },
   {
    "duration": 10,
    "start_time": "2022-01-31T02:02:58.263Z"
   },
   {
    "duration": 2,
    "start_time": "2022-01-31T02:02:58.274Z"
   },
   {
    "duration": 6194,
    "start_time": "2022-01-31T02:02:58.278Z"
   },
   {
    "duration": 3,
    "start_time": "2022-01-31T02:03:04.473Z"
   },
   {
    "duration": 8,
    "start_time": "2022-01-31T02:03:04.478Z"
   },
   {
    "duration": 9,
    "start_time": "2022-01-31T02:03:04.487Z"
   },
   {
    "duration": 9,
    "start_time": "2022-01-31T02:03:04.497Z"
   },
   {
    "duration": 24,
    "start_time": "2022-01-31T02:03:04.507Z"
   },
   {
    "duration": 15,
    "start_time": "2022-01-31T02:03:04.533Z"
   },
   {
    "duration": 14,
    "start_time": "2022-01-31T02:03:04.549Z"
   },
   {
    "duration": 14,
    "start_time": "2022-01-31T02:03:04.565Z"
   },
   {
    "duration": 14,
    "start_time": "2022-01-31T02:03:04.580Z"
   },
   {
    "duration": 42,
    "start_time": "2022-01-31T02:03:04.596Z"
   },
   {
    "duration": 2,
    "start_time": "2022-01-31T02:03:04.639Z"
   },
   {
    "duration": 5,
    "start_time": "2022-01-31T02:03:04.642Z"
   },
   {
    "duration": 4,
    "start_time": "2022-01-31T02:03:04.649Z"
   },
   {
    "duration": 116,
    "start_time": "2022-01-31T02:03:04.656Z"
   },
   {
    "duration": -535,
    "start_time": "2022-01-31T02:03:05.309Z"
   },
   {
    "duration": -569,
    "start_time": "2022-01-31T02:03:05.344Z"
   },
   {
    "duration": -594,
    "start_time": "2022-01-31T02:03:05.370Z"
   },
   {
    "duration": -599,
    "start_time": "2022-01-31T02:03:05.376Z"
   },
   {
    "duration": -616,
    "start_time": "2022-01-31T02:03:05.394Z"
   },
   {
    "duration": -632,
    "start_time": "2022-01-31T02:03:05.412Z"
   },
   {
    "duration": 424,
    "start_time": "2022-01-31T02:06:00.231Z"
   },
   {
    "duration": 5,
    "start_time": "2022-01-31T02:07:29.131Z"
   },
   {
    "duration": 9082,
    "start_time": "2022-01-31T02:17:15.798Z"
   },
   {
    "duration": 79,
    "start_time": "2022-01-31T20:41:07.933Z"
   },
   {
    "duration": 277,
    "start_time": "2022-01-31T20:41:19.815Z"
   },
   {
    "duration": 7194,
    "start_time": "2022-01-31T20:41:26.846Z"
   },
   {
    "duration": 1278,
    "start_time": "2022-01-31T20:41:34.042Z"
   },
   {
    "duration": 24,
    "start_time": "2022-01-31T20:41:35.322Z"
   },
   {
    "duration": 4,
    "start_time": "2022-01-31T20:41:35.348Z"
   },
   {
    "duration": 16,
    "start_time": "2022-01-31T20:41:35.353Z"
   },
   {
    "duration": 8,
    "start_time": "2022-01-31T20:41:35.370Z"
   },
   {
    "duration": 6,
    "start_time": "2022-01-31T20:41:35.379Z"
   },
   {
    "duration": 6,
    "start_time": "2022-01-31T20:41:35.388Z"
   },
   {
    "duration": 6,
    "start_time": "2022-01-31T20:41:35.396Z"
   },
   {
    "duration": 16,
    "start_time": "2022-01-31T20:41:35.404Z"
   },
   {
    "duration": 9,
    "start_time": "2022-01-31T20:41:35.422Z"
   },
   {
    "duration": 3,
    "start_time": "2022-01-31T20:41:35.433Z"
   },
   {
    "duration": 6949,
    "start_time": "2022-01-31T20:41:35.438Z"
   },
   {
    "duration": 5,
    "start_time": "2022-01-31T20:41:42.388Z"
   },
   {
    "duration": 8,
    "start_time": "2022-01-31T20:41:42.395Z"
   },
   {
    "duration": 24,
    "start_time": "2022-01-31T20:41:42.405Z"
   },
   {
    "duration": 12,
    "start_time": "2022-01-31T20:41:42.431Z"
   },
   {
    "duration": 11,
    "start_time": "2022-01-31T20:41:42.444Z"
   },
   {
    "duration": 18,
    "start_time": "2022-01-31T20:41:42.457Z"
   },
   {
    "duration": 52,
    "start_time": "2022-01-31T20:41:42.477Z"
   },
   {
    "duration": 18,
    "start_time": "2022-01-31T20:41:42.531Z"
   },
   {
    "duration": 19,
    "start_time": "2022-01-31T20:41:42.551Z"
   },
   {
    "duration": 11,
    "start_time": "2022-01-31T20:41:42.574Z"
   },
   {
    "duration": 47,
    "start_time": "2022-01-31T20:41:42.587Z"
   },
   {
    "duration": 343,
    "start_time": "2022-01-31T20:41:42.635Z"
   },
   {
    "duration": -240,
    "start_time": "2022-01-31T20:41:43.219Z"
   },
   {
    "duration": -245,
    "start_time": "2022-01-31T20:41:43.225Z"
   },
   {
    "duration": -248,
    "start_time": "2022-01-31T20:41:43.229Z"
   },
   {
    "duration": -250,
    "start_time": "2022-01-31T20:41:43.233Z"
   },
   {
    "duration": -253,
    "start_time": "2022-01-31T20:41:43.237Z"
   },
   {
    "duration": -262,
    "start_time": "2022-01-31T20:41:43.247Z"
   },
   {
    "duration": -268,
    "start_time": "2022-01-31T20:41:43.254Z"
   },
   {
    "duration": -272,
    "start_time": "2022-01-31T20:41:43.259Z"
   },
   {
    "duration": -274,
    "start_time": "2022-01-31T20:41:43.262Z"
   },
   {
    "duration": 13,
    "start_time": "2022-01-31T20:42:20.396Z"
   },
   {
    "duration": 12,
    "start_time": "2022-01-31T20:42:30.360Z"
   },
   {
    "duration": 8,
    "start_time": "2022-01-31T20:42:52.951Z"
   },
   {
    "duration": 2620,
    "start_time": "2022-01-31T21:45:26.000Z"
   },
   {
    "duration": 1182,
    "start_time": "2022-01-31T21:45:28.622Z"
   },
   {
    "duration": 19,
    "start_time": "2022-01-31T21:45:29.807Z"
   },
   {
    "duration": 5,
    "start_time": "2022-01-31T21:45:29.828Z"
   },
   {
    "duration": 14,
    "start_time": "2022-01-31T21:45:29.835Z"
   },
   {
    "duration": 8,
    "start_time": "2022-01-31T21:45:29.851Z"
   },
   {
    "duration": 5,
    "start_time": "2022-01-31T21:45:29.862Z"
   },
   {
    "duration": 8,
    "start_time": "2022-01-31T21:45:29.870Z"
   },
   {
    "duration": 10,
    "start_time": "2022-01-31T21:45:29.880Z"
   },
   {
    "duration": 5,
    "start_time": "2022-01-31T21:45:29.891Z"
   },
   {
    "duration": 25,
    "start_time": "2022-01-31T21:45:29.897Z"
   },
   {
    "duration": 2,
    "start_time": "2022-01-31T21:45:29.924Z"
   },
   {
    "duration": 7003,
    "start_time": "2022-01-31T21:45:29.928Z"
   },
   {
    "duration": 4,
    "start_time": "2022-01-31T21:45:36.932Z"
   },
   {
    "duration": 8,
    "start_time": "2022-01-31T21:45:36.937Z"
   },
   {
    "duration": 14,
    "start_time": "2022-01-31T21:45:36.946Z"
   },
   {
    "duration": 12,
    "start_time": "2022-01-31T21:45:36.961Z"
   },
   {
    "duration": 9,
    "start_time": "2022-01-31T21:45:36.974Z"
   },
   {
    "duration": 39,
    "start_time": "2022-01-31T21:45:36.985Z"
   },
   {
    "duration": 16,
    "start_time": "2022-01-31T21:45:37.026Z"
   },
   {
    "duration": 15,
    "start_time": "2022-01-31T21:45:37.044Z"
   },
   {
    "duration": 18,
    "start_time": "2022-01-31T21:45:37.061Z"
   },
   {
    "duration": 38,
    "start_time": "2022-01-31T21:45:37.082Z"
   },
   {
    "duration": 9,
    "start_time": "2022-01-31T21:45:37.123Z"
   },
   {
    "duration": 20,
    "start_time": "2022-01-31T21:45:37.134Z"
   },
   {
    "duration": 335,
    "start_time": "2022-01-31T21:45:37.156Z"
   },
   {
    "duration": -457,
    "start_time": "2022-01-31T21:45:37.950Z"
   },
   {
    "duration": -462,
    "start_time": "2022-01-31T21:45:37.956Z"
   },
   {
    "duration": -464,
    "start_time": "2022-01-31T21:45:37.960Z"
   },
   {
    "duration": -469,
    "start_time": "2022-01-31T21:45:37.966Z"
   },
   {
    "duration": -474,
    "start_time": "2022-01-31T21:45:37.972Z"
   },
   {
    "duration": -477,
    "start_time": "2022-01-31T21:45:37.977Z"
   },
   {
    "duration": -481,
    "start_time": "2022-01-31T21:45:37.982Z"
   },
   {
    "duration": -485,
    "start_time": "2022-01-31T21:45:37.988Z"
   },
   {
    "duration": -489,
    "start_time": "2022-01-31T21:45:37.993Z"
   },
   {
    "duration": 6,
    "start_time": "2022-01-31T21:46:20.635Z"
   },
   {
    "duration": 2652,
    "start_time": "2022-01-31T21:48:48.043Z"
   },
   {
    "duration": 1209,
    "start_time": "2022-01-31T21:48:50.698Z"
   },
   {
    "duration": 19,
    "start_time": "2022-01-31T21:48:51.909Z"
   },
   {
    "duration": 6,
    "start_time": "2022-01-31T21:48:51.930Z"
   },
   {
    "duration": 14,
    "start_time": "2022-01-31T21:48:51.937Z"
   },
   {
    "duration": 7,
    "start_time": "2022-01-31T21:48:51.952Z"
   },
   {
    "duration": 6,
    "start_time": "2022-01-31T21:48:51.961Z"
   },
   {
    "duration": 14,
    "start_time": "2022-01-31T21:48:51.968Z"
   },
   {
    "duration": 5,
    "start_time": "2022-01-31T21:48:51.985Z"
   },
   {
    "duration": 5,
    "start_time": "2022-01-31T21:48:51.992Z"
   },
   {
    "duration": 20,
    "start_time": "2022-01-31T21:48:51.998Z"
   },
   {
    "duration": 2,
    "start_time": "2022-01-31T21:48:52.020Z"
   },
   {
    "duration": 7857,
    "start_time": "2022-01-31T21:48:52.023Z"
   },
   {
    "duration": 4,
    "start_time": "2022-01-31T21:48:59.882Z"
   },
   {
    "duration": 8,
    "start_time": "2022-01-31T21:48:59.888Z"
   },
   {
    "duration": 28,
    "start_time": "2022-01-31T21:48:59.898Z"
   },
   {
    "duration": 10,
    "start_time": "2022-01-31T21:48:59.928Z"
   },
   {
    "duration": 9,
    "start_time": "2022-01-31T21:48:59.940Z"
   },
   {
    "duration": 15,
    "start_time": "2022-01-31T21:48:59.951Z"
   },
   {
    "duration": 16,
    "start_time": "2022-01-31T21:48:59.968Z"
   },
   {
    "duration": 49,
    "start_time": "2022-01-31T21:48:59.985Z"
   },
   {
    "duration": 18,
    "start_time": "2022-01-31T21:49:00.035Z"
   },
   {
    "duration": 18,
    "start_time": "2022-01-31T21:49:00.055Z"
   },
   {
    "duration": 24,
    "start_time": "2022-01-31T21:49:00.075Z"
   },
   {
    "duration": 34,
    "start_time": "2022-01-31T21:49:00.101Z"
   },
   {
    "duration": 5,
    "start_time": "2022-01-31T21:49:00.137Z"
   },
   {
    "duration": 16,
    "start_time": "2022-01-31T21:49:00.145Z"
   },
   {
    "duration": 30,
    "start_time": "2022-01-31T21:49:00.163Z"
   },
   {
    "duration": 365,
    "start_time": "2022-01-31T21:49:00.195Z"
   },
   {
    "duration": -405,
    "start_time": "2022-01-31T21:49:00.966Z"
   },
   {
    "duration": -411,
    "start_time": "2022-01-31T21:49:00.973Z"
   },
   {
    "duration": -416,
    "start_time": "2022-01-31T21:49:00.979Z"
   },
   {
    "duration": -425,
    "start_time": "2022-01-31T21:49:00.989Z"
   },
   {
    "duration": -433,
    "start_time": "2022-01-31T21:49:00.998Z"
   },
   {
    "duration": -438,
    "start_time": "2022-01-31T21:49:01.004Z"
   },
   {
    "duration": 501,
    "start_time": "2022-01-31T21:49:38.323Z"
   },
   {
    "duration": 506,
    "start_time": "2022-01-31T21:49:57.573Z"
   },
   {
    "duration": 23,
    "start_time": "2022-01-31T21:50:07.981Z"
   },
   {
    "duration": 246,
    "start_time": "2022-01-31T22:29:25.170Z"
   },
   {
    "duration": 7,
    "start_time": "2022-01-31T22:29:48.940Z"
   },
   {
    "duration": 282,
    "start_time": "2022-02-01T02:22:14.226Z"
   },
   {
    "duration": 6691,
    "start_time": "2022-02-01T02:22:41.521Z"
   },
   {
    "duration": 1196,
    "start_time": "2022-02-01T02:22:48.214Z"
   },
   {
    "duration": 21,
    "start_time": "2022-02-01T02:22:49.412Z"
   },
   {
    "duration": 6,
    "start_time": "2022-02-01T02:22:49.435Z"
   },
   {
    "duration": 13,
    "start_time": "2022-02-01T02:22:49.443Z"
   },
   {
    "duration": 7,
    "start_time": "2022-02-01T02:22:49.457Z"
   },
   {
    "duration": 8,
    "start_time": "2022-02-01T02:22:49.466Z"
   },
   {
    "duration": 15,
    "start_time": "2022-02-01T02:22:49.476Z"
   },
   {
    "duration": 6,
    "start_time": "2022-02-01T02:22:49.493Z"
   },
   {
    "duration": 3,
    "start_time": "2022-02-01T02:22:49.519Z"
   },
   {
    "duration": 10,
    "start_time": "2022-02-01T02:22:49.523Z"
   },
   {
    "duration": 2,
    "start_time": "2022-02-01T02:22:49.535Z"
   },
   {
    "duration": 6620,
    "start_time": "2022-02-01T02:22:49.538Z"
   },
   {
    "duration": 3,
    "start_time": "2022-02-01T02:22:56.160Z"
   },
   {
    "duration": 6,
    "start_time": "2022-02-01T02:22:56.165Z"
   },
   {
    "duration": 10,
    "start_time": "2022-02-01T02:22:56.172Z"
   },
   {
    "duration": 10,
    "start_time": "2022-02-01T02:22:56.183Z"
   },
   {
    "duration": 31,
    "start_time": "2022-02-01T02:22:56.195Z"
   },
   {
    "duration": 17,
    "start_time": "2022-02-01T02:22:56.227Z"
   },
   {
    "duration": 15,
    "start_time": "2022-02-01T02:22:56.245Z"
   },
   {
    "duration": 13,
    "start_time": "2022-02-01T02:22:56.262Z"
   },
   {
    "duration": 45,
    "start_time": "2022-02-01T02:22:56.277Z"
   },
   {
    "duration": 7,
    "start_time": "2022-02-01T02:22:56.325Z"
   },
   {
    "duration": 7,
    "start_time": "2022-02-01T02:22:56.334Z"
   },
   {
    "duration": 18,
    "start_time": "2022-02-01T02:22:56.342Z"
   },
   {
    "duration": 5,
    "start_time": "2022-02-01T02:22:56.362Z"
   },
   {
    "duration": 6,
    "start_time": "2022-02-01T02:22:56.368Z"
   },
   {
    "duration": 43,
    "start_time": "2022-02-01T02:22:56.375Z"
   },
   {
    "duration": 22,
    "start_time": "2022-02-01T02:22:56.420Z"
   },
   {
    "duration": 6345,
    "start_time": "2022-02-01T02:22:56.443Z"
   },
   {
    "duration": -340,
    "start_time": "2022-02-01T02:23:03.130Z"
   },
   {
    "duration": -373,
    "start_time": "2022-02-01T02:23:03.164Z"
   },
   {
    "duration": -391,
    "start_time": "2022-02-01T02:23:03.184Z"
   },
   {
    "duration": -411,
    "start_time": "2022-02-01T02:23:03.205Z"
   },
   {
    "duration": -418,
    "start_time": "2022-02-01T02:23:03.214Z"
   },
   {
    "duration": -437,
    "start_time": "2022-02-01T02:23:03.234Z"
   },
   {
    "duration": -459,
    "start_time": "2022-02-01T02:23:03.258Z"
   },
   {
    "duration": 487,
    "start_time": "2022-02-01T02:26:37.178Z"
   },
   {
    "duration": 5973,
    "start_time": "2022-02-01T02:26:46.043Z"
   },
   {
    "duration": 560,
    "start_time": "2022-02-01T02:38:40.834Z"
   },
   {
    "duration": 2525,
    "start_time": "2022-02-01T02:40:14.178Z"
   },
   {
    "duration": 1183,
    "start_time": "2022-02-01T02:40:16.705Z"
   },
   {
    "duration": 19,
    "start_time": "2022-02-01T02:40:17.890Z"
   },
   {
    "duration": 7,
    "start_time": "2022-02-01T02:40:17.911Z"
   },
   {
    "duration": 13,
    "start_time": "2022-02-01T02:40:17.919Z"
   },
   {
    "duration": 8,
    "start_time": "2022-02-01T02:40:17.933Z"
   },
   {
    "duration": 4,
    "start_time": "2022-02-01T02:40:17.943Z"
   },
   {
    "duration": 6,
    "start_time": "2022-02-01T02:40:17.950Z"
   },
   {
    "duration": 6,
    "start_time": "2022-02-01T02:40:17.959Z"
   },
   {
    "duration": 3,
    "start_time": "2022-02-01T02:40:17.967Z"
   },
   {
    "duration": 8,
    "start_time": "2022-02-01T02:40:17.972Z"
   },
   {
    "duration": 38,
    "start_time": "2022-02-01T02:40:17.982Z"
   },
   {
    "duration": 6690,
    "start_time": "2022-02-01T02:40:18.022Z"
   },
   {
    "duration": 5,
    "start_time": "2022-02-01T02:40:24.714Z"
   },
   {
    "duration": 6,
    "start_time": "2022-02-01T02:40:24.721Z"
   },
   {
    "duration": 10,
    "start_time": "2022-02-01T02:40:24.729Z"
   },
   {
    "duration": 11,
    "start_time": "2022-02-01T02:40:24.741Z"
   },
   {
    "duration": 10,
    "start_time": "2022-02-01T02:40:24.754Z"
   },
   {
    "duration": 59,
    "start_time": "2022-02-01T02:40:24.766Z"
   },
   {
    "duration": 18,
    "start_time": "2022-02-01T02:40:24.826Z"
   },
   {
    "duration": 15,
    "start_time": "2022-02-01T02:40:24.846Z"
   },
   {
    "duration": 18,
    "start_time": "2022-02-01T02:40:24.863Z"
   },
   {
    "duration": 37,
    "start_time": "2022-02-01T02:40:24.884Z"
   },
   {
    "duration": 7,
    "start_time": "2022-02-01T02:40:24.923Z"
   },
   {
    "duration": 16,
    "start_time": "2022-02-01T02:40:24.931Z"
   },
   {
    "duration": 4,
    "start_time": "2022-02-01T02:40:24.949Z"
   },
   {
    "duration": 4,
    "start_time": "2022-02-01T02:40:24.955Z"
   },
   {
    "duration": 6,
    "start_time": "2022-02-01T02:40:24.960Z"
   },
   {
    "duration": 59,
    "start_time": "2022-02-01T02:40:24.968Z"
   },
   {
    "duration": 852,
    "start_time": "2022-02-01T02:40:25.029Z"
   },
   {
    "duration": -138,
    "start_time": "2022-02-01T02:40:26.020Z"
   },
   {
    "duration": -143,
    "start_time": "2022-02-01T02:40:26.026Z"
   },
   {
    "duration": -145,
    "start_time": "2022-02-01T02:40:26.030Z"
   },
   {
    "duration": -151,
    "start_time": "2022-02-01T02:40:26.036Z"
   },
   {
    "duration": -155,
    "start_time": "2022-02-01T02:40:26.041Z"
   },
   {
    "duration": -159,
    "start_time": "2022-02-01T02:40:26.046Z"
   },
   {
    "duration": -163,
    "start_time": "2022-02-01T02:40:26.051Z"
   },
   {
    "duration": 3,
    "start_time": "2022-02-01T02:41:23.473Z"
   },
   {
    "duration": 2475,
    "start_time": "2022-02-01T02:41:30.327Z"
   },
   {
    "duration": 1169,
    "start_time": "2022-02-01T02:41:32.804Z"
   },
   {
    "duration": 19,
    "start_time": "2022-02-01T02:41:33.975Z"
   },
   {
    "duration": 12,
    "start_time": "2022-02-01T02:41:33.995Z"
   },
   {
    "duration": 14,
    "start_time": "2022-02-01T02:41:34.008Z"
   },
   {
    "duration": 7,
    "start_time": "2022-02-01T02:41:34.024Z"
   },
   {
    "duration": 2,
    "start_time": "2022-02-01T02:41:34.033Z"
   },
   {
    "duration": 8,
    "start_time": "2022-02-01T02:41:34.037Z"
   },
   {
    "duration": 10,
    "start_time": "2022-02-01T02:41:34.047Z"
   },
   {
    "duration": 4,
    "start_time": "2022-02-01T02:41:34.059Z"
   },
   {
    "duration": 10,
    "start_time": "2022-02-01T02:41:34.065Z"
   },
   {
    "duration": 10,
    "start_time": "2022-02-01T02:41:34.077Z"
   },
   {
    "duration": 6599,
    "start_time": "2022-02-01T02:41:34.089Z"
   },
   {
    "duration": 4,
    "start_time": "2022-02-01T02:41:40.690Z"
   },
   {
    "duration": 7,
    "start_time": "2022-02-01T02:41:40.695Z"
   },
   {
    "duration": 8,
    "start_time": "2022-02-01T02:41:40.719Z"
   },
   {
    "duration": 13,
    "start_time": "2022-02-01T02:41:40.728Z"
   },
   {
    "duration": 9,
    "start_time": "2022-02-01T02:41:40.742Z"
   },
   {
    "duration": 20,
    "start_time": "2022-02-01T02:41:40.753Z"
   },
   {
    "duration": 16,
    "start_time": "2022-02-01T02:41:40.775Z"
   },
   {
    "duration": 37,
    "start_time": "2022-02-01T02:41:40.793Z"
   },
   {
    "duration": 16,
    "start_time": "2022-02-01T02:41:40.832Z"
   },
   {
    "duration": 7,
    "start_time": "2022-02-01T02:41:40.849Z"
   },
   {
    "duration": 8,
    "start_time": "2022-02-01T02:41:40.858Z"
   },
   {
    "duration": 56,
    "start_time": "2022-02-01T02:41:40.867Z"
   },
   {
    "duration": 6,
    "start_time": "2022-02-01T02:41:40.925Z"
   },
   {
    "duration": 3,
    "start_time": "2022-02-01T02:41:40.934Z"
   },
   {
    "duration": 6,
    "start_time": "2022-02-01T02:41:40.939Z"
   },
   {
    "duration": 27,
    "start_time": "2022-02-01T02:41:40.946Z"
   },
   {
    "duration": 672,
    "start_time": "2022-02-01T02:41:40.974Z"
   },
   {
    "duration": -132,
    "start_time": "2022-02-01T02:41:41.779Z"
   },
   {
    "duration": -136,
    "start_time": "2022-02-01T02:41:41.784Z"
   },
   {
    "duration": -143,
    "start_time": "2022-02-01T02:41:41.792Z"
   },
   {
    "duration": -147,
    "start_time": "2022-02-01T02:41:41.798Z"
   },
   {
    "duration": -151,
    "start_time": "2022-02-01T02:41:41.803Z"
   },
   {
    "duration": -167,
    "start_time": "2022-02-01T02:41:41.820Z"
   },
   {
    "duration": -170,
    "start_time": "2022-02-01T02:41:41.824Z"
   },
   {
    "duration": 82,
    "start_time": "2022-02-01T02:43:56.560Z"
   },
   {
    "duration": 6487,
    "start_time": "2022-02-01T02:44:00.668Z"
   },
   {
    "duration": 252,
    "start_time": "2022-02-01T02:47:40.942Z"
   },
   {
    "duration": 242,
    "start_time": "2022-02-01T02:48:14.387Z"
   },
   {
    "duration": 5855,
    "start_time": "2022-02-01T02:48:31.893Z"
   },
   {
    "duration": 6254,
    "start_time": "2022-02-01T02:55:03.220Z"
   },
   {
    "duration": 371,
    "start_time": "2022-02-04T01:37:14.629Z"
   },
   {
    "duration": 15299,
    "start_time": "2022-02-04T01:37:23.294Z"
   },
   {
    "duration": 1165,
    "start_time": "2022-02-04T01:37:38.595Z"
   },
   {
    "duration": 17,
    "start_time": "2022-02-04T01:37:39.762Z"
   },
   {
    "duration": 4,
    "start_time": "2022-02-04T01:37:39.781Z"
   },
   {
    "duration": 12,
    "start_time": "2022-02-04T01:37:39.786Z"
   },
   {
    "duration": 6,
    "start_time": "2022-02-04T01:37:39.799Z"
   },
   {
    "duration": 5,
    "start_time": "2022-02-04T01:37:39.806Z"
   },
   {
    "duration": 14,
    "start_time": "2022-02-04T01:37:39.813Z"
   },
   {
    "duration": 4,
    "start_time": "2022-02-04T01:37:39.829Z"
   },
   {
    "duration": 3,
    "start_time": "2022-02-04T01:37:39.835Z"
   },
   {
    "duration": 9,
    "start_time": "2022-02-04T01:37:39.839Z"
   },
   {
    "duration": 2,
    "start_time": "2022-02-04T01:37:39.849Z"
   },
   {
    "duration": 6194,
    "start_time": "2022-02-04T01:37:39.853Z"
   },
   {
    "duration": 4,
    "start_time": "2022-02-04T01:37:46.048Z"
   },
   {
    "duration": 6,
    "start_time": "2022-02-04T01:37:46.053Z"
   },
   {
    "duration": 9,
    "start_time": "2022-02-04T01:37:46.060Z"
   },
   {
    "duration": 10,
    "start_time": "2022-02-04T01:37:46.071Z"
   },
   {
    "duration": 8,
    "start_time": "2022-02-04T01:37:46.082Z"
   },
   {
    "duration": 39,
    "start_time": "2022-02-04T01:37:46.091Z"
   },
   {
    "duration": 14,
    "start_time": "2022-02-04T01:37:46.132Z"
   },
   {
    "duration": 14,
    "start_time": "2022-02-04T01:37:46.147Z"
   },
   {
    "duration": 14,
    "start_time": "2022-02-04T01:37:46.162Z"
   },
   {
    "duration": 6,
    "start_time": "2022-02-04T01:37:46.179Z"
   },
   {
    "duration": 8,
    "start_time": "2022-02-04T01:37:46.186Z"
   },
   {
    "duration": 44,
    "start_time": "2022-02-04T01:37:46.195Z"
   },
   {
    "duration": 4,
    "start_time": "2022-02-04T01:37:46.241Z"
   },
   {
    "duration": 3,
    "start_time": "2022-02-04T01:37:46.246Z"
   },
   {
    "duration": 3,
    "start_time": "2022-02-04T01:37:46.251Z"
   },
   {
    "duration": 24,
    "start_time": "2022-02-04T01:37:46.256Z"
   },
   {
    "duration": 8326,
    "start_time": "2022-02-04T01:37:46.282Z"
   },
   {
    "duration": -208,
    "start_time": "2022-02-04T01:37:54.818Z"
   },
   {
    "duration": -231,
    "start_time": "2022-02-04T01:37:54.842Z"
   },
   {
    "duration": -240,
    "start_time": "2022-02-04T01:37:54.852Z"
   },
   {
    "duration": -261,
    "start_time": "2022-02-04T01:37:54.874Z"
   },
   {
    "duration": -271,
    "start_time": "2022-02-04T01:37:54.884Z"
   },
   {
    "duration": -293,
    "start_time": "2022-02-04T01:37:54.907Z"
   },
   {
    "duration": -301,
    "start_time": "2022-02-04T01:37:54.916Z"
   },
   {
    "duration": 5,
    "start_time": "2022-02-04T01:41:44.396Z"
   },
   {
    "duration": 5,
    "start_time": "2022-02-04T01:41:50.713Z"
   },
   {
    "duration": 5,
    "start_time": "2022-02-04T01:41:53.329Z"
   },
   {
    "duration": 5,
    "start_time": "2022-02-04T01:41:55.635Z"
   },
   {
    "duration": 8315,
    "start_time": "2022-02-04T01:42:01.207Z"
   },
   {
    "duration": 8110,
    "start_time": "2022-02-04T01:42:35.112Z"
   },
   {
    "duration": 8083,
    "start_time": "2022-02-04T01:45:45.023Z"
   },
   {
    "duration": 2446,
    "start_time": "2022-02-04T01:46:08.726Z"
   },
   {
    "duration": 1080,
    "start_time": "2022-02-04T01:46:11.174Z"
   },
   {
    "duration": 17,
    "start_time": "2022-02-04T01:46:12.256Z"
   },
   {
    "duration": 3,
    "start_time": "2022-02-04T01:46:12.275Z"
   },
   {
    "duration": 13,
    "start_time": "2022-02-04T01:46:12.279Z"
   },
   {
    "duration": 6,
    "start_time": "2022-02-04T01:46:12.293Z"
   },
   {
    "duration": 8,
    "start_time": "2022-02-04T01:46:12.300Z"
   },
   {
    "duration": 10,
    "start_time": "2022-02-04T01:46:12.309Z"
   },
   {
    "duration": 9,
    "start_time": "2022-02-04T01:46:12.321Z"
   },
   {
    "duration": 4,
    "start_time": "2022-02-04T01:46:12.332Z"
   },
   {
    "duration": 7,
    "start_time": "2022-02-04T01:46:12.337Z"
   },
   {
    "duration": 2,
    "start_time": "2022-02-04T01:46:12.345Z"
   },
   {
    "duration": 6133,
    "start_time": "2022-02-04T01:46:12.349Z"
   },
   {
    "duration": 3,
    "start_time": "2022-02-04T01:46:18.483Z"
   },
   {
    "duration": 6,
    "start_time": "2022-02-04T01:46:18.488Z"
   },
   {
    "duration": 8,
    "start_time": "2022-02-04T01:46:18.495Z"
   },
   {
    "duration": 23,
    "start_time": "2022-02-04T01:46:18.504Z"
   },
   {
    "duration": 8,
    "start_time": "2022-02-04T01:46:18.528Z"
   },
   {
    "duration": 14,
    "start_time": "2022-02-04T01:46:18.537Z"
   },
   {
    "duration": 14,
    "start_time": "2022-02-04T01:46:18.552Z"
   },
   {
    "duration": 13,
    "start_time": "2022-02-04T01:46:18.568Z"
   },
   {
    "duration": 15,
    "start_time": "2022-02-04T01:46:18.582Z"
   },
   {
    "duration": 6,
    "start_time": "2022-02-04T01:46:18.598Z"
   },
   {
    "duration": 6,
    "start_time": "2022-02-04T01:46:18.606Z"
   },
   {
    "duration": 22,
    "start_time": "2022-02-04T01:46:18.613Z"
   },
   {
    "duration": 4,
    "start_time": "2022-02-04T01:46:18.637Z"
   },
   {
    "duration": 2,
    "start_time": "2022-02-04T01:46:18.644Z"
   },
   {
    "duration": 4,
    "start_time": "2022-02-04T01:46:18.648Z"
   },
   {
    "duration": 22,
    "start_time": "2022-02-04T01:46:18.653Z"
   },
   {
    "duration": 8439,
    "start_time": "2022-02-04T01:46:18.677Z"
   },
   {
    "duration": -279,
    "start_time": "2022-02-04T01:46:27.397Z"
   },
   {
    "duration": -290,
    "start_time": "2022-02-04T01:46:27.408Z"
   },
   {
    "duration": -295,
    "start_time": "2022-02-04T01:46:27.414Z"
   },
   {
    "duration": -300,
    "start_time": "2022-02-04T01:46:27.420Z"
   },
   {
    "duration": -304,
    "start_time": "2022-02-04T01:46:27.425Z"
   },
   {
    "duration": -309,
    "start_time": "2022-02-04T01:46:27.431Z"
   },
   {
    "duration": -314,
    "start_time": "2022-02-04T01:46:27.437Z"
   },
   {
    "duration": 739,
    "start_time": "2022-02-04T01:47:32.573Z"
   },
   {
    "duration": 558,
    "start_time": "2022-02-04T01:48:31.012Z"
   },
   {
    "duration": 8089,
    "start_time": "2022-02-04T01:48:38.802Z"
   },
   {
    "duration": 8190,
    "start_time": "2022-02-04T01:49:33.743Z"
   },
   {
    "duration": 546,
    "start_time": "2022-02-04T01:52:01.778Z"
   },
   {
    "duration": 9177,
    "start_time": "2022-02-04T01:52:23.112Z"
   },
   {
    "duration": 12577,
    "start_time": "2022-02-04T01:53:50.875Z"
   },
   {
    "duration": 8273,
    "start_time": "2022-02-04T01:55:00.490Z"
   },
   {
    "duration": 574,
    "start_time": "2022-02-04T01:59:26.633Z"
   },
   {
    "duration": 783,
    "start_time": "2022-02-04T01:59:45.264Z"
   },
   {
    "duration": 784,
    "start_time": "2022-02-04T02:00:14.590Z"
   },
   {
    "duration": 8485,
    "start_time": "2022-02-04T02:04:42.415Z"
   },
   {
    "duration": 2468,
    "start_time": "2022-02-04T02:06:41.797Z"
   },
   {
    "duration": 1087,
    "start_time": "2022-02-04T02:06:44.266Z"
   },
   {
    "duration": 17,
    "start_time": "2022-02-04T02:06:45.355Z"
   },
   {
    "duration": 4,
    "start_time": "2022-02-04T02:06:45.374Z"
   },
   {
    "duration": 11,
    "start_time": "2022-02-04T02:06:45.380Z"
   },
   {
    "duration": 6,
    "start_time": "2022-02-04T02:06:45.393Z"
   },
   {
    "duration": 4,
    "start_time": "2022-02-04T02:06:45.401Z"
   },
   {
    "duration": 23,
    "start_time": "2022-02-04T02:06:45.408Z"
   },
   {
    "duration": 6,
    "start_time": "2022-02-04T02:06:45.433Z"
   },
   {
    "duration": 3,
    "start_time": "2022-02-04T02:06:45.441Z"
   },
   {
    "duration": 6,
    "start_time": "2022-02-04T02:06:45.446Z"
   },
   {
    "duration": 2,
    "start_time": "2022-02-04T02:06:45.454Z"
   },
   {
    "duration": 6189,
    "start_time": "2022-02-04T02:06:45.458Z"
   },
   {
    "duration": 3,
    "start_time": "2022-02-04T02:06:51.649Z"
   },
   {
    "duration": 6,
    "start_time": "2022-02-04T02:06:51.654Z"
   },
   {
    "duration": 9,
    "start_time": "2022-02-04T02:06:51.661Z"
   },
   {
    "duration": 9,
    "start_time": "2022-02-04T02:06:51.672Z"
   },
   {
    "duration": 9,
    "start_time": "2022-02-04T02:06:51.683Z"
   },
   {
    "duration": 43,
    "start_time": "2022-02-04T02:06:51.693Z"
   },
   {
    "duration": 16,
    "start_time": "2022-02-04T02:06:51.738Z"
   },
   {
    "duration": 13,
    "start_time": "2022-02-04T02:06:51.755Z"
   },
   {
    "duration": 15,
    "start_time": "2022-02-04T02:06:51.770Z"
   },
   {
    "duration": 6,
    "start_time": "2022-02-04T02:06:51.788Z"
   },
   {
    "duration": 35,
    "start_time": "2022-02-04T02:06:51.796Z"
   },
   {
    "duration": 16,
    "start_time": "2022-02-04T02:06:51.833Z"
   },
   {
    "duration": 4,
    "start_time": "2022-02-04T02:06:51.850Z"
   },
   {
    "duration": 4,
    "start_time": "2022-02-04T02:06:51.856Z"
   },
   {
    "duration": 6,
    "start_time": "2022-02-04T02:06:51.861Z"
   },
   {
    "duration": 22,
    "start_time": "2022-02-04T02:06:51.868Z"
   },
   {
    "duration": 90281,
    "start_time": "2022-02-04T02:06:51.892Z"
   },
   {
    "duration": 105,
    "start_time": "2022-02-04T02:08:22.175Z"
   },
   {
    "duration": -92,
    "start_time": "2022-02-04T02:08:22.373Z"
   },
   {
    "duration": -124,
    "start_time": "2022-02-04T02:08:22.406Z"
   },
   {
    "duration": -131,
    "start_time": "2022-02-04T02:08:22.414Z"
   },
   {
    "duration": -136,
    "start_time": "2022-02-04T02:08:22.420Z"
   },
   {
    "duration": -144,
    "start_time": "2022-02-04T02:08:22.429Z"
   },
   {
    "duration": -151,
    "start_time": "2022-02-04T02:08:22.437Z"
   },
   {
    "duration": 88533,
    "start_time": "2022-02-04T02:09:59.096Z"
   },
   {
    "duration": 89085,
    "start_time": "2022-02-04T02:14:29.484Z"
   },
   {
    "duration": 444,
    "start_time": "2022-02-04T02:30:59.973Z"
   },
   {
    "duration": 2409,
    "start_time": "2022-02-04T02:37:15.068Z"
   },
   {
    "duration": 1071,
    "start_time": "2022-02-04T02:37:17.479Z"
   },
   {
    "duration": 17,
    "start_time": "2022-02-04T02:37:18.552Z"
   },
   {
    "duration": 3,
    "start_time": "2022-02-04T02:37:18.571Z"
   },
   {
    "duration": 12,
    "start_time": "2022-02-04T02:37:18.575Z"
   },
   {
    "duration": 6,
    "start_time": "2022-02-04T02:37:18.588Z"
   },
   {
    "duration": 3,
    "start_time": "2022-02-04T02:37:18.596Z"
   },
   {
    "duration": 6,
    "start_time": "2022-02-04T02:37:18.601Z"
   },
   {
    "duration": 4,
    "start_time": "2022-02-04T02:37:18.610Z"
   },
   {
    "duration": 3,
    "start_time": "2022-02-04T02:37:18.627Z"
   },
   {
    "duration": 7,
    "start_time": "2022-02-04T02:37:18.631Z"
   },
   {
    "duration": 4,
    "start_time": "2022-02-04T02:37:18.639Z"
   },
   {
    "duration": 6257,
    "start_time": "2022-02-04T02:37:18.644Z"
   },
   {
    "duration": 3,
    "start_time": "2022-02-04T02:37:24.903Z"
   },
   {
    "duration": 9,
    "start_time": "2022-02-04T02:37:24.908Z"
   },
   {
    "duration": 7,
    "start_time": "2022-02-04T02:37:24.927Z"
   },
   {
    "duration": 11,
    "start_time": "2022-02-04T02:37:24.935Z"
   },
   {
    "duration": 8,
    "start_time": "2022-02-04T02:37:24.947Z"
   },
   {
    "duration": 16,
    "start_time": "2022-02-04T02:37:24.956Z"
   },
   {
    "duration": 14,
    "start_time": "2022-02-04T02:37:24.973Z"
   },
   {
    "duration": 39,
    "start_time": "2022-02-04T02:37:24.989Z"
   },
   {
    "duration": 17,
    "start_time": "2022-02-04T02:37:25.030Z"
   },
   {
    "duration": 7,
    "start_time": "2022-02-04T02:37:25.048Z"
   },
   {
    "duration": 8,
    "start_time": "2022-02-04T02:37:25.056Z"
   },
   {
    "duration": 17,
    "start_time": "2022-02-04T02:37:25.066Z"
   },
   {
    "duration": 43,
    "start_time": "2022-02-04T02:37:25.084Z"
   },
   {
    "duration": 607,
    "start_time": "2022-02-04T02:37:25.130Z"
   },
   {
    "duration": -96,
    "start_time": "2022-02-04T02:37:25.835Z"
   },
   {
    "duration": -102,
    "start_time": "2022-02-04T02:37:25.842Z"
   },
   {
    "duration": -107,
    "start_time": "2022-02-04T02:37:25.848Z"
   },
   {
    "duration": -115,
    "start_time": "2022-02-04T02:37:25.856Z"
   },
   {
    "duration": -119,
    "start_time": "2022-02-04T02:37:25.861Z"
   },
   {
    "duration": -123,
    "start_time": "2022-02-04T02:37:25.866Z"
   },
   {
    "duration": -135,
    "start_time": "2022-02-04T02:37:25.879Z"
   },
   {
    "duration": -139,
    "start_time": "2022-02-04T02:37:25.884Z"
   },
   {
    "duration": -144,
    "start_time": "2022-02-04T02:37:25.889Z"
   },
   {
    "duration": -148,
    "start_time": "2022-02-04T02:37:25.894Z"
   },
   {
    "duration": -152,
    "start_time": "2022-02-04T02:37:25.899Z"
   },
   {
    "duration": 2516,
    "start_time": "2022-02-04T02:45:34.003Z"
   },
   {
    "duration": 1137,
    "start_time": "2022-02-04T02:45:36.521Z"
   },
   {
    "duration": 17,
    "start_time": "2022-02-04T02:45:37.660Z"
   },
   {
    "duration": 8,
    "start_time": "2022-02-04T02:45:37.678Z"
   },
   {
    "duration": 11,
    "start_time": "2022-02-04T02:45:37.687Z"
   },
   {
    "duration": 5,
    "start_time": "2022-02-04T02:45:37.700Z"
   },
   {
    "duration": 3,
    "start_time": "2022-02-04T02:45:37.707Z"
   },
   {
    "duration": 14,
    "start_time": "2022-02-04T02:45:37.713Z"
   },
   {
    "duration": 4,
    "start_time": "2022-02-04T02:45:37.729Z"
   },
   {
    "duration": 4,
    "start_time": "2022-02-04T02:45:37.735Z"
   },
   {
    "duration": 7,
    "start_time": "2022-02-04T02:45:37.740Z"
   },
   {
    "duration": 5,
    "start_time": "2022-02-04T02:45:37.749Z"
   },
   {
    "duration": 6141,
    "start_time": "2022-02-04T02:45:37.755Z"
   },
   {
    "duration": 3,
    "start_time": "2022-02-04T02:45:43.898Z"
   },
   {
    "duration": 5,
    "start_time": "2022-02-04T02:45:43.903Z"
   },
   {
    "duration": 19,
    "start_time": "2022-02-04T02:45:43.909Z"
   },
   {
    "duration": 14,
    "start_time": "2022-02-04T02:45:43.929Z"
   },
   {
    "duration": 9,
    "start_time": "2022-02-04T02:45:43.944Z"
   },
   {
    "duration": 14,
    "start_time": "2022-02-04T02:45:43.954Z"
   },
   {
    "duration": 14,
    "start_time": "2022-02-04T02:45:43.969Z"
   },
   {
    "duration": 16,
    "start_time": "2022-02-04T02:45:43.984Z"
   },
   {
    "duration": 39,
    "start_time": "2022-02-04T02:45:44.001Z"
   },
   {
    "duration": 6,
    "start_time": "2022-02-04T02:45:44.043Z"
   },
   {
    "duration": 6,
    "start_time": "2022-02-04T02:45:44.051Z"
   },
   {
    "duration": 16,
    "start_time": "2022-02-04T02:45:44.059Z"
   },
   {
    "duration": 4,
    "start_time": "2022-02-04T02:45:44.077Z"
   },
   {
    "duration": 11,
    "start_time": "2022-02-04T02:45:44.082Z"
   },
   {
    "duration": 3,
    "start_time": "2022-02-04T02:45:44.127Z"
   },
   {
    "duration": 9,
    "start_time": "2022-02-04T02:45:44.132Z"
   },
   {
    "duration": 23,
    "start_time": "2022-02-04T02:45:44.142Z"
   },
   {
    "duration": 179701,
    "start_time": "2022-02-04T02:45:44.166Z"
   },
   {
    "duration": 107,
    "start_time": "2022-02-04T02:48:43.869Z"
   },
   {
    "duration": -286,
    "start_time": "2022-02-04T02:48:44.264Z"
   },
   {
    "duration": -299,
    "start_time": "2022-02-04T02:48:44.278Z"
   },
   {
    "duration": -305,
    "start_time": "2022-02-04T02:48:44.284Z"
   },
   {
    "duration": -309,
    "start_time": "2022-02-04T02:48:44.289Z"
   },
   {
    "duration": -314,
    "start_time": "2022-02-04T02:48:44.295Z"
   },
   {
    "duration": -319,
    "start_time": "2022-02-04T02:48:44.300Z"
   },
   {
    "duration": 2459,
    "start_time": "2022-02-04T03:09:26.509Z"
   },
   {
    "duration": 1094,
    "start_time": "2022-02-04T03:09:28.969Z"
   },
   {
    "duration": 17,
    "start_time": "2022-02-04T03:09:30.064Z"
   },
   {
    "duration": 4,
    "start_time": "2022-02-04T03:09:30.082Z"
   },
   {
    "duration": 13,
    "start_time": "2022-02-04T03:09:30.088Z"
   },
   {
    "duration": 7,
    "start_time": "2022-02-04T03:09:30.102Z"
   },
   {
    "duration": 4,
    "start_time": "2022-02-04T03:09:30.110Z"
   },
   {
    "duration": 11,
    "start_time": "2022-02-04T03:09:30.116Z"
   },
   {
    "duration": 4,
    "start_time": "2022-02-04T03:09:30.129Z"
   },
   {
    "duration": 4,
    "start_time": "2022-02-04T03:09:30.135Z"
   },
   {
    "duration": 9,
    "start_time": "2022-02-04T03:09:30.141Z"
   },
   {
    "duration": 8,
    "start_time": "2022-02-04T03:09:30.151Z"
   },
   {
    "duration": 6322,
    "start_time": "2022-02-04T03:09:30.161Z"
   },
   {
    "duration": 3,
    "start_time": "2022-02-04T03:09:36.484Z"
   },
   {
    "duration": 6,
    "start_time": "2022-02-04T03:09:36.488Z"
   },
   {
    "duration": 12,
    "start_time": "2022-02-04T03:09:36.495Z"
   },
   {
    "duration": 22,
    "start_time": "2022-02-04T03:09:36.508Z"
   },
   {
    "duration": 8,
    "start_time": "2022-02-04T03:09:36.532Z"
   },
   {
    "duration": 15,
    "start_time": "2022-02-04T03:09:36.541Z"
   },
   {
    "duration": 15,
    "start_time": "2022-02-04T03:09:36.557Z"
   },
   {
    "duration": 15,
    "start_time": "2022-02-04T03:09:36.573Z"
   },
   {
    "duration": 39,
    "start_time": "2022-02-04T03:09:36.589Z"
   },
   {
    "duration": 6,
    "start_time": "2022-02-04T03:09:36.631Z"
   },
   {
    "duration": 7,
    "start_time": "2022-02-04T03:09:36.638Z"
   },
   {
    "duration": 15,
    "start_time": "2022-02-04T03:09:36.646Z"
   },
   {
    "duration": 3,
    "start_time": "2022-02-04T03:09:36.663Z"
   },
   {
    "duration": 18,
    "start_time": "2022-02-04T03:09:36.668Z"
   },
   {
    "duration": 40,
    "start_time": "2022-02-04T03:09:36.688Z"
   },
   {
    "duration": 9,
    "start_time": "2022-02-04T03:09:36.729Z"
   },
   {
    "duration": 22,
    "start_time": "2022-02-04T03:09:36.739Z"
   },
   {
    "duration": 193265,
    "start_time": "2022-02-04T03:09:36.762Z"
   },
   {
    "duration": 103,
    "start_time": "2022-02-04T03:12:50.029Z"
   },
   {
    "duration": -99,
    "start_time": "2022-02-04T03:12:50.233Z"
   },
   {
    "duration": -131,
    "start_time": "2022-02-04T03:12:50.266Z"
   },
   {
    "duration": -140,
    "start_time": "2022-02-04T03:12:50.276Z"
   },
   {
    "duration": -145,
    "start_time": "2022-02-04T03:12:50.282Z"
   },
   {
    "duration": -149,
    "start_time": "2022-02-04T03:12:50.287Z"
   },
   {
    "duration": -154,
    "start_time": "2022-02-04T03:12:50.293Z"
   },
   {
    "duration": 117,
    "start_time": "2022-02-04T03:56:36.859Z"
   },
   {
    "duration": 417,
    "start_time": "2022-02-04T03:57:18.946Z"
   },
   {
    "duration": 288,
    "start_time": "2022-02-22T03:42:08.722Z"
   },
   {
    "duration": 6940,
    "start_time": "2022-02-22T03:42:21.628Z"
   },
   {
    "duration": 1384,
    "start_time": "2022-02-22T03:42:28.571Z"
   },
   {
    "duration": 22,
    "start_time": "2022-02-22T03:42:29.958Z"
   },
   {
    "duration": 6,
    "start_time": "2022-02-22T03:42:29.982Z"
   },
   {
    "duration": 22,
    "start_time": "2022-02-22T03:42:29.990Z"
   },
   {
    "duration": 23,
    "start_time": "2022-02-22T03:42:30.015Z"
   },
   {
    "duration": 57,
    "start_time": "2022-02-22T03:42:30.040Z"
   },
   {
    "duration": 25,
    "start_time": "2022-02-22T03:42:30.099Z"
   },
   {
    "duration": 27,
    "start_time": "2022-02-22T03:42:30.128Z"
   },
   {
    "duration": 10,
    "start_time": "2022-02-22T03:42:30.157Z"
   },
   {
    "duration": 22,
    "start_time": "2022-02-22T03:42:30.169Z"
   },
   {
    "duration": 15,
    "start_time": "2022-02-22T03:42:30.193Z"
   },
   {
    "duration": 8049,
    "start_time": "2022-02-22T03:42:30.211Z"
   },
   {
    "duration": 4,
    "start_time": "2022-02-22T03:42:38.262Z"
   },
   {
    "duration": 7,
    "start_time": "2022-02-22T03:42:38.268Z"
   },
   {
    "duration": 18,
    "start_time": "2022-02-22T03:42:38.277Z"
   },
   {
    "duration": 14,
    "start_time": "2022-02-22T03:42:38.307Z"
   },
   {
    "duration": 11,
    "start_time": "2022-02-22T03:42:38.324Z"
   },
   {
    "duration": 17,
    "start_time": "2022-02-22T03:42:38.337Z"
   },
   {
    "duration": 53,
    "start_time": "2022-02-22T03:42:38.356Z"
   },
   {
    "duration": 19,
    "start_time": "2022-02-22T03:42:38.411Z"
   },
   {
    "duration": 20,
    "start_time": "2022-02-22T03:42:38.432Z"
   },
   {
    "duration": 10,
    "start_time": "2022-02-22T03:42:38.454Z"
   },
   {
    "duration": 43,
    "start_time": "2022-02-22T03:42:38.465Z"
   },
   {
    "duration": 20,
    "start_time": "2022-02-22T03:42:38.510Z"
   },
   {
    "duration": 6,
    "start_time": "2022-02-22T03:42:38.532Z"
   },
   {
    "duration": 21,
    "start_time": "2022-02-22T03:42:38.542Z"
   },
   {
    "duration": 4,
    "start_time": "2022-02-22T03:42:38.565Z"
   },
   {
    "duration": 11,
    "start_time": "2022-02-22T03:42:38.607Z"
   },
   {
    "duration": 44,
    "start_time": "2022-02-22T03:42:38.620Z"
   },
   {
    "duration": 230963,
    "start_time": "2022-02-22T03:42:38.667Z"
   },
   {
    "duration": 2756,
    "start_time": "2022-02-22T03:48:27.072Z"
   },
   {
    "duration": 1304,
    "start_time": "2022-02-22T03:48:29.831Z"
   },
   {
    "duration": 13,
    "start_time": "2022-02-22T03:48:31.138Z"
   },
   {
    "duration": 22,
    "start_time": "2022-02-22T03:48:31.153Z"
   },
   {
    "duration": 22,
    "start_time": "2022-02-22T03:48:31.176Z"
   },
   {
    "duration": 8,
    "start_time": "2022-02-22T03:48:31.200Z"
   },
   {
    "duration": 12,
    "start_time": "2022-02-22T03:48:31.210Z"
   },
   {
    "duration": 14,
    "start_time": "2022-02-22T03:48:31.225Z"
   },
   {
    "duration": 15,
    "start_time": "2022-02-22T03:48:31.242Z"
   },
   {
    "duration": 8,
    "start_time": "2022-02-22T03:48:31.259Z"
   },
   {
    "duration": 22,
    "start_time": "2022-02-22T03:48:31.269Z"
   },
   {
    "duration": 14,
    "start_time": "2022-02-22T03:48:31.293Z"
   },
   {
    "duration": 8176,
    "start_time": "2022-02-22T03:48:31.309Z"
   },
   {
    "duration": 5,
    "start_time": "2022-02-22T03:48:39.487Z"
   },
   {
    "duration": 15,
    "start_time": "2022-02-22T03:48:39.494Z"
   },
   {
    "duration": 22,
    "start_time": "2022-02-22T03:48:39.511Z"
   },
   {
    "duration": 17,
    "start_time": "2022-02-22T03:48:39.535Z"
   },
   {
    "duration": 11,
    "start_time": "2022-02-22T03:48:39.554Z"
   },
   {
    "duration": 45,
    "start_time": "2022-02-22T03:48:39.567Z"
   },
   {
    "duration": 22,
    "start_time": "2022-02-22T03:48:39.614Z"
   },
   {
    "duration": 20,
    "start_time": "2022-02-22T03:48:39.638Z"
   },
   {
    "duration": 55,
    "start_time": "2022-02-22T03:48:39.660Z"
   },
   {
    "duration": 11,
    "start_time": "2022-02-22T03:48:39.718Z"
   },
   {
    "duration": 9,
    "start_time": "2022-02-22T03:48:39.731Z"
   },
   {
    "duration": 23,
    "start_time": "2022-02-22T03:48:39.742Z"
   },
   {
    "duration": 44,
    "start_time": "2022-02-22T03:48:39.767Z"
   },
   {
    "duration": 22,
    "start_time": "2022-02-22T03:48:39.813Z"
   },
   {
    "duration": 4,
    "start_time": "2022-02-22T03:48:39.837Z"
   },
   {
    "duration": 10,
    "start_time": "2022-02-22T03:48:39.843Z"
   },
   {
    "duration": 55,
    "start_time": "2022-02-22T03:48:39.855Z"
   },
   {
    "duration": 10980,
    "start_time": "2022-02-24T22:31:24.540Z"
   },
   {
    "duration": 1620,
    "start_time": "2022-02-24T22:31:35.523Z"
   },
   {
    "duration": 59,
    "start_time": "2022-02-24T22:31:37.146Z"
   },
   {
    "duration": 7,
    "start_time": "2022-02-24T22:31:37.208Z"
   },
   {
    "duration": 24,
    "start_time": "2022-02-24T22:31:37.218Z"
   },
   {
    "duration": 12,
    "start_time": "2022-02-24T22:31:37.244Z"
   },
   {
    "duration": 10,
    "start_time": "2022-02-24T22:31:37.258Z"
   },
   {
    "duration": 10,
    "start_time": "2022-02-24T22:31:37.270Z"
   },
   {
    "duration": 8,
    "start_time": "2022-02-24T22:31:37.284Z"
   },
   {
    "duration": 33,
    "start_time": "2022-02-24T22:31:37.295Z"
   },
   {
    "duration": 10,
    "start_time": "2022-02-24T22:31:37.331Z"
   },
   {
    "duration": 12,
    "start_time": "2022-02-24T22:31:37.344Z"
   },
   {
    "duration": 11992,
    "start_time": "2022-02-24T22:31:37.359Z"
   },
   {
    "duration": 5,
    "start_time": "2022-02-24T22:31:49.355Z"
   },
   {
    "duration": 10,
    "start_time": "2022-02-24T22:31:49.362Z"
   },
   {
    "duration": 16,
    "start_time": "2022-02-24T22:31:49.374Z"
   },
   {
    "duration": 43,
    "start_time": "2022-02-24T22:31:49.393Z"
   },
   {
    "duration": 15,
    "start_time": "2022-02-24T22:31:49.438Z"
   },
   {
    "duration": 29,
    "start_time": "2022-02-24T22:31:49.457Z"
   },
   {
    "duration": 61,
    "start_time": "2022-02-24T22:31:49.489Z"
   },
   {
    "duration": 26,
    "start_time": "2022-02-24T22:31:49.552Z"
   },
   {
    "duration": 61,
    "start_time": "2022-02-24T22:31:49.581Z"
   },
   {
    "duration": 12,
    "start_time": "2022-02-24T22:31:49.644Z"
   },
   {
    "duration": 11,
    "start_time": "2022-02-24T22:31:49.659Z"
   },
   {
    "duration": 85,
    "start_time": "2022-02-24T22:31:49.673Z"
   },
   {
    "duration": 9,
    "start_time": "2022-02-24T22:31:49.760Z"
   },
   {
    "duration": 68,
    "start_time": "2022-02-24T22:31:49.774Z"
   },
   {
    "duration": 4,
    "start_time": "2022-02-24T22:31:49.845Z"
   },
   {
    "duration": 9,
    "start_time": "2022-02-24T22:31:49.852Z"
   },
   {
    "duration": 63,
    "start_time": "2022-02-24T22:31:49.863Z"
   },
   {
    "duration": 407753,
    "start_time": "2022-02-24T22:31:49.929Z"
   },
   {
    "duration": 415455,
    "start_time": "2022-02-24T22:38:37.684Z"
   },
   {
    "duration": -88,
    "start_time": "2022-02-24T22:45:33.229Z"
   },
   {
    "duration": -92,
    "start_time": "2022-02-24T22:45:33.235Z"
   },
   {
    "duration": -96,
    "start_time": "2022-02-24T22:45:33.240Z"
   },
   {
    "duration": -224,
    "start_time": "2022-02-24T22:45:33.370Z"
   },
   {
    "duration": -228,
    "start_time": "2022-02-24T22:45:33.375Z"
   },
   {
    "duration": -230,
    "start_time": "2022-02-24T22:45:33.378Z"
   },
   {
    "duration": 447288,
    "start_time": "2022-02-24T22:47:25.992Z"
   },
   {
    "duration": 105129,
    "start_time": "2022-02-28T23:47:11.267Z"
   },
   {
    "duration": 1216,
    "start_time": "2022-02-28T23:48:56.398Z"
   },
   {
    "duration": 42,
    "start_time": "2022-02-28T23:48:57.616Z"
   },
   {
    "duration": 4,
    "start_time": "2022-02-28T23:48:57.660Z"
   },
   {
    "duration": 14,
    "start_time": "2022-02-28T23:48:57.666Z"
   },
   {
    "duration": 8,
    "start_time": "2022-02-28T23:48:57.682Z"
   },
   {
    "duration": 6,
    "start_time": "2022-02-28T23:48:57.692Z"
   },
   {
    "duration": 8,
    "start_time": "2022-02-28T23:48:57.701Z"
   },
   {
    "duration": 6,
    "start_time": "2022-02-28T23:48:57.711Z"
   },
   {
    "duration": 3,
    "start_time": "2022-02-28T23:48:57.719Z"
   },
   {
    "duration": 18,
    "start_time": "2022-02-28T23:48:57.724Z"
   },
   {
    "duration": 4,
    "start_time": "2022-02-28T23:48:57.743Z"
   },
   {
    "duration": 7494,
    "start_time": "2022-02-28T23:48:57.748Z"
   },
   {
    "duration": 4,
    "start_time": "2022-02-28T23:49:05.244Z"
   },
   {
    "duration": 11,
    "start_time": "2022-02-28T23:49:05.250Z"
   },
   {
    "duration": 18,
    "start_time": "2022-02-28T23:49:05.263Z"
   },
   {
    "duration": 11,
    "start_time": "2022-02-28T23:49:05.283Z"
   },
   {
    "duration": 10,
    "start_time": "2022-02-28T23:49:05.296Z"
   },
   {
    "duration": 36,
    "start_time": "2022-02-28T23:49:05.308Z"
   },
   {
    "duration": 23,
    "start_time": "2022-02-28T23:49:05.346Z"
   },
   {
    "duration": 14,
    "start_time": "2022-02-28T23:49:05.371Z"
   },
   {
    "duration": 22,
    "start_time": "2022-02-28T23:49:05.386Z"
   },
   {
    "duration": 8,
    "start_time": "2022-02-28T23:49:05.440Z"
   },
   {
    "duration": 7,
    "start_time": "2022-02-28T23:49:05.450Z"
   },
   {
    "duration": 21,
    "start_time": "2022-02-28T23:49:05.459Z"
   },
   {
    "duration": 7,
    "start_time": "2022-02-28T23:49:05.483Z"
   },
   {
    "duration": 61,
    "start_time": "2022-02-28T23:49:05.492Z"
   },
   {
    "duration": 4,
    "start_time": "2022-02-28T23:49:05.555Z"
   },
   {
    "duration": 8,
    "start_time": "2022-02-28T23:49:05.561Z"
   },
   {
    "duration": 514,
    "start_time": "2022-02-28T23:49:05.571Z"
   },
   {
    "duration": -154,
    "start_time": "2022-02-28T23:49:06.241Z"
   },
   {
    "duration": -156,
    "start_time": "2022-02-28T23:49:06.245Z"
   },
   {
    "duration": -189,
    "start_time": "2022-02-28T23:49:06.279Z"
   },
   {
    "duration": -195,
    "start_time": "2022-02-28T23:49:06.287Z"
   },
   {
    "duration": -198,
    "start_time": "2022-02-28T23:49:06.291Z"
   },
   {
    "duration": -202,
    "start_time": "2022-02-28T23:49:06.296Z"
   },
   {
    "duration": -208,
    "start_time": "2022-02-28T23:49:06.304Z"
   },
   {
    "duration": -211,
    "start_time": "2022-02-28T23:49:06.308Z"
   },
   {
    "duration": -215,
    "start_time": "2022-02-28T23:49:06.313Z"
   },
   {
    "duration": 61629,
    "start_time": "2022-02-28T23:51:56.031Z"
   },
   {
    "duration": 1134,
    "start_time": "2022-02-28T23:52:57.662Z"
   },
   {
    "duration": 13,
    "start_time": "2022-02-28T23:52:58.798Z"
   },
   {
    "duration": 5,
    "start_time": "2022-02-28T23:52:58.813Z"
   },
   {
    "duration": 21,
    "start_time": "2022-02-28T23:52:58.820Z"
   },
   {
    "duration": 7,
    "start_time": "2022-02-28T23:52:58.843Z"
   },
   {
    "duration": 5,
    "start_time": "2022-02-28T23:52:58.851Z"
   },
   {
    "duration": 8,
    "start_time": "2022-02-28T23:52:58.859Z"
   },
   {
    "duration": 6,
    "start_time": "2022-02-28T23:52:58.869Z"
   },
   {
    "duration": 4,
    "start_time": "2022-02-28T23:52:58.876Z"
   },
   {
    "duration": 9,
    "start_time": "2022-02-28T23:52:58.881Z"
   },
   {
    "duration": 2,
    "start_time": "2022-02-28T23:52:58.892Z"
   },
   {
    "duration": 7485,
    "start_time": "2022-02-28T23:52:58.895Z"
   },
   {
    "duration": 4,
    "start_time": "2022-02-28T23:53:06.382Z"
   },
   {
    "duration": 8,
    "start_time": "2022-02-28T23:53:06.388Z"
   },
   {
    "duration": 12,
    "start_time": "2022-02-28T23:53:06.398Z"
   },
   {
    "duration": 26,
    "start_time": "2022-02-28T23:53:06.412Z"
   },
   {
    "duration": 12,
    "start_time": "2022-02-28T23:53:06.440Z"
   },
   {
    "duration": 17,
    "start_time": "2022-02-28T23:53:06.454Z"
   },
   {
    "duration": 20,
    "start_time": "2022-02-28T23:53:06.473Z"
   },
   {
    "duration": 51,
    "start_time": "2022-02-28T23:53:06.494Z"
   },
   {
    "duration": 19,
    "start_time": "2022-02-28T23:53:06.547Z"
   },
   {
    "duration": 8,
    "start_time": "2022-02-28T23:53:06.570Z"
   },
   {
    "duration": 9,
    "start_time": "2022-02-28T23:53:06.580Z"
   },
   {
    "duration": 53,
    "start_time": "2022-02-28T23:53:06.590Z"
   },
   {
    "duration": 5,
    "start_time": "2022-02-28T23:53:06.645Z"
   },
   {
    "duration": 17,
    "start_time": "2022-02-28T23:53:06.652Z"
   },
   {
    "duration": 3,
    "start_time": "2022-02-28T23:53:06.671Z"
   },
   {
    "duration": 26,
    "start_time": "2022-02-28T23:53:06.676Z"
   },
   {
    "duration": 36,
    "start_time": "2022-02-28T23:53:06.704Z"
   },
   {
    "duration": 3,
    "start_time": "2022-02-28T23:53:06.742Z"
   },
   {
    "duration": 19,
    "start_time": "2022-02-28T23:53:06.746Z"
   },
   {
    "duration": 289,
    "start_time": "2022-02-28T23:53:06.767Z"
   },
   {
    "duration": -189,
    "start_time": "2022-02-28T23:53:07.247Z"
   },
   {
    "duration": -195,
    "start_time": "2022-02-28T23:53:07.254Z"
   },
   {
    "duration": -225,
    "start_time": "2022-02-28T23:53:07.286Z"
   },
   {
    "duration": -238,
    "start_time": "2022-02-28T23:53:07.299Z"
   },
   {
    "duration": -242,
    "start_time": "2022-02-28T23:53:07.304Z"
   },
   {
    "duration": -246,
    "start_time": "2022-02-28T23:53:07.310Z"
   },
   {
    "duration": 462,
    "start_time": "2022-02-28T23:53:53.353Z"
   },
   {
    "duration": 452,
    "start_time": "2022-02-28T23:54:17.917Z"
   },
   {
    "duration": 457,
    "start_time": "2022-02-28T23:54:22.818Z"
   },
   {
    "duration": 3,
    "start_time": "2022-02-28T23:55:21.635Z"
   },
   {
    "duration": 7613,
    "start_time": "2022-03-01T00:02:44.996Z"
   },
   {
    "duration": 1200,
    "start_time": "2022-03-01T00:02:52.612Z"
   },
   {
    "duration": 13,
    "start_time": "2022-03-01T00:02:53.814Z"
   },
   {
    "duration": 28,
    "start_time": "2022-03-01T00:02:53.829Z"
   },
   {
    "duration": 37,
    "start_time": "2022-03-01T00:02:53.859Z"
   },
   {
    "duration": 27,
    "start_time": "2022-03-01T00:02:53.897Z"
   },
   {
    "duration": 29,
    "start_time": "2022-03-01T00:02:53.926Z"
   },
   {
    "duration": 27,
    "start_time": "2022-03-01T00:02:53.957Z"
   },
   {
    "duration": 33,
    "start_time": "2022-03-01T00:02:53.986Z"
   },
   {
    "duration": 19,
    "start_time": "2022-03-01T00:02:54.021Z"
   },
   {
    "duration": 26,
    "start_time": "2022-03-01T00:02:54.041Z"
   },
   {
    "duration": 25,
    "start_time": "2022-03-01T00:02:54.069Z"
   },
   {
    "duration": 7510,
    "start_time": "2022-03-01T00:02:54.096Z"
   },
   {
    "duration": 4,
    "start_time": "2022-03-01T00:03:01.608Z"
   },
   {
    "duration": 79,
    "start_time": "2022-03-01T00:03:01.614Z"
   },
   {
    "duration": 41,
    "start_time": "2022-03-01T00:03:01.695Z"
   },
   {
    "duration": 54,
    "start_time": "2022-03-01T00:03:01.738Z"
   },
   {
    "duration": 41,
    "start_time": "2022-03-01T00:03:01.793Z"
   },
   {
    "duration": 36,
    "start_time": "2022-03-01T00:03:01.836Z"
   },
   {
    "duration": 48,
    "start_time": "2022-03-01T00:03:01.874Z"
   },
   {
    "duration": 63,
    "start_time": "2022-03-01T00:03:01.924Z"
   },
   {
    "duration": 63,
    "start_time": "2022-03-01T00:03:01.989Z"
   },
   {
    "duration": 35,
    "start_time": "2022-03-01T00:03:02.056Z"
   },
   {
    "duration": 36,
    "start_time": "2022-03-01T00:03:02.093Z"
   },
   {
    "duration": 31,
    "start_time": "2022-03-01T00:03:02.131Z"
   },
   {
    "duration": 29,
    "start_time": "2022-03-01T00:03:02.164Z"
   },
   {
    "duration": 39,
    "start_time": "2022-03-01T00:03:02.194Z"
   },
   {
    "duration": 37,
    "start_time": "2022-03-01T00:03:02.235Z"
   },
   {
    "duration": 30,
    "start_time": "2022-03-01T00:03:02.274Z"
   },
   {
    "duration": 56,
    "start_time": "2022-03-01T00:03:02.306Z"
   },
   {
    "duration": 42,
    "start_time": "2022-03-01T00:03:02.364Z"
   },
   {
    "duration": 517,
    "start_time": "2022-03-01T00:03:02.407Z"
   },
   {
    "duration": 519,
    "start_time": "2022-03-01T00:03:02.927Z"
   },
   {
    "duration": 74,
    "start_time": "2022-03-01T00:03:03.449Z"
   },
   {
    "duration": -196,
    "start_time": "2022-03-01T00:03:03.721Z"
   },
   {
    "duration": -199,
    "start_time": "2022-03-01T00:03:03.726Z"
   },
   {
    "duration": -202,
    "start_time": "2022-03-01T00:03:03.730Z"
   },
   {
    "duration": -228,
    "start_time": "2022-03-01T00:03:03.758Z"
   },
   {
    "duration": -244,
    "start_time": "2022-03-01T00:03:03.775Z"
   },
   {
    "duration": 102,
    "start_time": "2022-03-01T00:20:03.844Z"
   },
   {
    "duration": 60,
    "start_time": "2022-03-01T00:20:16.657Z"
   },
   {
    "duration": 378,
    "start_time": "2022-03-01T00:20:32.231Z"
   },
   {
    "duration": 84,
    "start_time": "2022-03-01T00:20:56.094Z"
   },
   {
    "duration": 5,
    "start_time": "2022-03-01T00:57:44.442Z"
   },
   {
    "duration": 5,
    "start_time": "2022-03-01T00:57:47.994Z"
   },
   {
    "duration": 9110,
    "start_time": "2022-03-01T05:30:16.173Z"
   },
   {
    "duration": 1158,
    "start_time": "2022-03-01T05:30:25.285Z"
   },
   {
    "duration": 87,
    "start_time": "2022-03-01T05:30:26.444Z"
   },
   {
    "duration": 4,
    "start_time": "2022-03-01T05:30:26.533Z"
   },
   {
    "duration": 13,
    "start_time": "2022-03-01T05:30:26.538Z"
   },
   {
    "duration": 6,
    "start_time": "2022-03-01T05:30:26.552Z"
   },
   {
    "duration": 3,
    "start_time": "2022-03-01T05:30:26.560Z"
   },
   {
    "duration": 6,
    "start_time": "2022-03-01T05:30:26.565Z"
   },
   {
    "duration": 6,
    "start_time": "2022-03-01T05:30:26.573Z"
   },
   {
    "duration": 3,
    "start_time": "2022-03-01T05:30:26.581Z"
   },
   {
    "duration": 6,
    "start_time": "2022-03-01T05:30:26.586Z"
   },
   {
    "duration": 3,
    "start_time": "2022-03-01T05:30:26.601Z"
   },
   {
    "duration": 6547,
    "start_time": "2022-03-01T05:30:26.605Z"
   },
   {
    "duration": 3,
    "start_time": "2022-03-01T05:30:33.153Z"
   },
   {
    "duration": 4,
    "start_time": "2022-03-01T05:30:33.158Z"
   },
   {
    "duration": 10,
    "start_time": "2022-03-01T05:30:33.163Z"
   },
   {
    "duration": 26,
    "start_time": "2022-03-01T05:30:33.175Z"
   },
   {
    "duration": 8,
    "start_time": "2022-03-01T05:30:33.203Z"
   },
   {
    "duration": 15,
    "start_time": "2022-03-01T05:30:33.213Z"
   },
   {
    "duration": 16,
    "start_time": "2022-03-01T05:30:33.229Z"
   },
   {
    "duration": 14,
    "start_time": "2022-03-01T05:30:33.246Z"
   },
   {
    "duration": 52,
    "start_time": "2022-03-01T05:30:33.262Z"
   },
   {
    "duration": 6,
    "start_time": "2022-03-01T05:30:33.316Z"
   },
   {
    "duration": 7,
    "start_time": "2022-03-01T05:30:33.323Z"
   },
   {
    "duration": 19,
    "start_time": "2022-03-01T05:30:33.332Z"
   },
   {
    "duration": 5,
    "start_time": "2022-03-01T05:30:33.352Z"
   },
   {
    "duration": 51,
    "start_time": "2022-03-01T05:30:33.359Z"
   },
   {
    "duration": 3,
    "start_time": "2022-03-01T05:30:33.411Z"
   },
   {
    "duration": 6,
    "start_time": "2022-03-01T05:30:33.415Z"
   },
   {
    "duration": 23,
    "start_time": "2022-03-01T05:30:33.423Z"
   },
   {
    "duration": 2,
    "start_time": "2022-03-01T05:30:33.448Z"
   },
   {
    "duration": 581,
    "start_time": "2022-03-01T05:30:33.451Z"
   },
   {
    "duration": 463,
    "start_time": "2022-03-01T05:30:34.033Z"
   },
   {
    "duration": 4,
    "start_time": "2022-03-01T05:30:34.497Z"
   },
   {
    "duration": 4,
    "start_time": "2022-03-01T05:30:34.503Z"
   },
   {
    "duration": 657,
    "start_time": "2022-03-01T05:30:34.508Z"
   },
   {
    "duration": -159,
    "start_time": "2022-03-01T05:30:35.326Z"
   },
   {
    "duration": -195,
    "start_time": "2022-03-01T05:30:35.363Z"
   },
   {
    "duration": -211,
    "start_time": "2022-03-01T05:30:35.380Z"
   },
   {
    "duration": 2406,
    "start_time": "2022-03-01T05:34:06.014Z"
   },
   {
    "duration": 1111,
    "start_time": "2022-03-01T05:34:08.422Z"
   },
   {
    "duration": 18,
    "start_time": "2022-03-01T05:34:09.535Z"
   },
   {
    "duration": 5,
    "start_time": "2022-03-01T05:34:09.555Z"
   },
   {
    "duration": 13,
    "start_time": "2022-03-01T05:34:09.561Z"
   },
   {
    "duration": 6,
    "start_time": "2022-03-01T05:34:09.575Z"
   },
   {
    "duration": 4,
    "start_time": "2022-03-01T05:34:09.583Z"
   },
   {
    "duration": 7,
    "start_time": "2022-03-01T05:34:09.601Z"
   },
   {
    "duration": 4,
    "start_time": "2022-03-01T05:34:09.611Z"
   },
   {
    "duration": 4,
    "start_time": "2022-03-01T05:34:09.617Z"
   },
   {
    "duration": 11,
    "start_time": "2022-03-01T05:34:09.623Z"
   },
   {
    "duration": 6,
    "start_time": "2022-03-01T05:34:09.635Z"
   },
   {
    "duration": 6373,
    "start_time": "2022-03-01T05:34:09.642Z"
   },
   {
    "duration": 3,
    "start_time": "2022-03-01T05:34:16.017Z"
   },
   {
    "duration": 4,
    "start_time": "2022-03-01T05:34:16.022Z"
   },
   {
    "duration": 10,
    "start_time": "2022-03-01T05:34:16.027Z"
   },
   {
    "duration": 9,
    "start_time": "2022-03-01T05:34:16.039Z"
   },
   {
    "duration": 8,
    "start_time": "2022-03-01T05:34:16.050Z"
   },
   {
    "duration": 42,
    "start_time": "2022-03-01T05:34:16.059Z"
   },
   {
    "duration": 16,
    "start_time": "2022-03-01T05:34:16.102Z"
   },
   {
    "duration": 14,
    "start_time": "2022-03-01T05:34:16.119Z"
   },
   {
    "duration": 14,
    "start_time": "2022-03-01T05:34:16.135Z"
   },
   {
    "duration": 6,
    "start_time": "2022-03-01T05:34:16.151Z"
   },
   {
    "duration": 7,
    "start_time": "2022-03-01T05:34:16.159Z"
   },
   {
    "duration": 47,
    "start_time": "2022-03-01T05:34:16.168Z"
   },
   {
    "duration": 5,
    "start_time": "2022-03-01T05:34:16.216Z"
   },
   {
    "duration": 15,
    "start_time": "2022-03-01T05:34:16.224Z"
   },
   {
    "duration": 2,
    "start_time": "2022-03-01T05:34:16.241Z"
   },
   {
    "duration": 10,
    "start_time": "2022-03-01T05:34:16.245Z"
   },
   {
    "duration": 45,
    "start_time": "2022-03-01T05:34:16.257Z"
   },
   {
    "duration": 3,
    "start_time": "2022-03-01T05:34:16.303Z"
   },
   {
    "duration": 459,
    "start_time": "2022-03-01T05:34:16.307Z"
   },
   {
    "duration": 455,
    "start_time": "2022-03-01T05:34:16.767Z"
   },
   {
    "duration": 4,
    "start_time": "2022-03-01T05:34:17.223Z"
   },
   {
    "duration": 6,
    "start_time": "2022-03-01T05:34:17.228Z"
   },
   {
    "duration": 645,
    "start_time": "2022-03-01T05:34:17.236Z"
   },
   {
    "duration": -188,
    "start_time": "2022-03-01T05:34:18.071Z"
   },
   {
    "duration": -192,
    "start_time": "2022-03-01T05:34:18.075Z"
   },
   {
    "duration": -199,
    "start_time": "2022-03-01T05:34:18.083Z"
   },
   {
    "duration": 9255,
    "start_time": "2022-03-05T23:51:47.586Z"
   },
   {
    "duration": 1594,
    "start_time": "2022-03-05T23:51:56.844Z"
   },
   {
    "duration": 22,
    "start_time": "2022-03-05T23:51:58.442Z"
   },
   {
    "duration": 5,
    "start_time": "2022-03-05T23:51:58.468Z"
   },
   {
    "duration": 20,
    "start_time": "2022-03-05T23:51:58.483Z"
   },
   {
    "duration": 11,
    "start_time": "2022-03-05T23:51:58.506Z"
   },
   {
    "duration": 9,
    "start_time": "2022-03-05T23:51:58.519Z"
   },
   {
    "duration": 49,
    "start_time": "2022-03-05T23:51:58.533Z"
   },
   {
    "duration": 11,
    "start_time": "2022-03-05T23:51:58.586Z"
   },
   {
    "duration": 7,
    "start_time": "2022-03-05T23:51:58.600Z"
   },
   {
    "duration": 12,
    "start_time": "2022-03-05T23:51:58.609Z"
   },
   {
    "duration": 3,
    "start_time": "2022-03-05T23:51:58.624Z"
   },
   {
    "duration": 11762,
    "start_time": "2022-03-05T23:51:58.630Z"
   },
   {
    "duration": 5,
    "start_time": "2022-03-05T23:52:10.394Z"
   },
   {
    "duration": 9,
    "start_time": "2022-03-05T23:52:10.402Z"
   },
   {
    "duration": 22,
    "start_time": "2022-03-05T23:52:10.413Z"
   },
   {
    "duration": 44,
    "start_time": "2022-03-05T23:52:10.438Z"
   },
   {
    "duration": 16,
    "start_time": "2022-03-05T23:52:10.485Z"
   },
   {
    "duration": 31,
    "start_time": "2022-03-05T23:52:10.503Z"
   },
   {
    "duration": 54,
    "start_time": "2022-03-05T23:52:10.537Z"
   },
   {
    "duration": 30,
    "start_time": "2022-03-05T23:52:10.594Z"
   },
   {
    "duration": 28,
    "start_time": "2022-03-05T23:52:10.627Z"
   },
   {
    "duration": 13,
    "start_time": "2022-03-05T23:52:10.685Z"
   },
   {
    "duration": 15,
    "start_time": "2022-03-05T23:52:10.702Z"
   },
   {
    "duration": 72,
    "start_time": "2022-03-05T23:52:10.719Z"
   },
   {
    "duration": 10,
    "start_time": "2022-03-05T23:52:10.795Z"
   },
   {
    "duration": 45,
    "start_time": "2022-03-05T23:52:10.808Z"
   },
   {
    "duration": 6,
    "start_time": "2022-03-05T23:52:10.884Z"
   },
   {
    "duration": 12,
    "start_time": "2022-03-05T23:52:10.893Z"
   },
   {
    "duration": 48,
    "start_time": "2022-03-05T23:52:10.907Z"
   },
   {
    "duration": 3,
    "start_time": "2022-03-05T23:52:10.957Z"
   },
   {
    "duration": 887,
    "start_time": "2022-03-05T23:52:10.963Z"
   },
   {
    "duration": 964,
    "start_time": "2022-03-05T23:52:11.853Z"
   },
   {
    "duration": 7,
    "start_time": "2022-03-05T23:52:12.820Z"
   },
   {
    "duration": 8,
    "start_time": "2022-03-05T23:52:12.830Z"
   },
   {
    "duration": 749,
    "start_time": "2022-03-05T23:52:12.840Z"
   },
   {
    "duration": -124,
    "start_time": "2022-03-05T23:52:13.716Z"
   },
   {
    "duration": -131,
    "start_time": "2022-03-05T23:52:13.724Z"
   },
   {
    "duration": -134,
    "start_time": "2022-03-05T23:52:13.729Z"
   },
   {
    "duration": 3709,
    "start_time": "2022-03-05T23:53:13.347Z"
   },
   {
    "duration": 2127,
    "start_time": "2022-03-05T23:53:17.059Z"
   },
   {
    "duration": 20,
    "start_time": "2022-03-05T23:53:19.190Z"
   },
   {
    "duration": 8,
    "start_time": "2022-03-05T23:53:19.214Z"
   },
   {
    "duration": 34,
    "start_time": "2022-03-05T23:53:19.225Z"
   },
   {
    "duration": 30,
    "start_time": "2022-03-05T23:53:19.262Z"
   },
   {
    "duration": 12,
    "start_time": "2022-03-05T23:53:19.296Z"
   },
   {
    "duration": 11,
    "start_time": "2022-03-05T23:53:19.312Z"
   },
   {
    "duration": 9,
    "start_time": "2022-03-05T23:53:19.327Z"
   },
   {
    "duration": 8,
    "start_time": "2022-03-05T23:53:19.338Z"
   },
   {
    "duration": 41,
    "start_time": "2022-03-05T23:53:19.348Z"
   },
   {
    "duration": 11,
    "start_time": "2022-03-05T23:53:19.392Z"
   },
   {
    "duration": 11444,
    "start_time": "2022-03-05T23:53:19.405Z"
   },
   {
    "duration": 5,
    "start_time": "2022-03-05T23:53:30.852Z"
   },
   {
    "duration": 23,
    "start_time": "2022-03-05T23:53:30.859Z"
   },
   {
    "duration": 20,
    "start_time": "2022-03-05T23:53:30.884Z"
   },
   {
    "duration": 18,
    "start_time": "2022-03-05T23:53:30.906Z"
   },
   {
    "duration": 22,
    "start_time": "2022-03-05T23:53:30.927Z"
   },
   {
    "duration": 53,
    "start_time": "2022-03-05T23:53:30.952Z"
   },
   {
    "duration": 25,
    "start_time": "2022-03-05T23:53:31.007Z"
   },
   {
    "duration": 55,
    "start_time": "2022-03-05T23:53:31.034Z"
   },
   {
    "duration": 29,
    "start_time": "2022-03-05T23:53:31.091Z"
   },
   {
    "duration": 11,
    "start_time": "2022-03-05T23:53:31.124Z"
   },
   {
    "duration": 44,
    "start_time": "2022-03-05T23:53:31.138Z"
   },
   {
    "duration": 27,
    "start_time": "2022-03-05T23:53:31.184Z"
   },
   {
    "duration": 7,
    "start_time": "2022-03-05T23:53:31.214Z"
   },
   {
    "duration": 68,
    "start_time": "2022-03-05T23:53:31.223Z"
   },
   {
    "duration": 9,
    "start_time": "2022-03-05T23:53:31.294Z"
   },
   {
    "duration": 21,
    "start_time": "2022-03-05T23:53:31.306Z"
   },
   {
    "duration": 40,
    "start_time": "2022-03-05T23:53:31.329Z"
   },
   {
    "duration": 11,
    "start_time": "2022-03-05T23:53:31.371Z"
   },
   {
    "duration": 832,
    "start_time": "2022-03-05T23:53:31.385Z"
   },
   {
    "duration": 841,
    "start_time": "2022-03-05T23:53:32.219Z"
   },
   {
    "duration": 7,
    "start_time": "2022-03-05T23:53:33.063Z"
   },
   {
    "duration": 7,
    "start_time": "2022-03-05T23:53:33.083Z"
   },
   {
    "duration": 745,
    "start_time": "2022-03-05T23:53:33.092Z"
   },
   {
    "duration": -106,
    "start_time": "2022-03-05T23:53:33.946Z"
   },
   {
    "duration": -111,
    "start_time": "2022-03-05T23:53:33.952Z"
   },
   {
    "duration": -119,
    "start_time": "2022-03-05T23:53:33.962Z"
   },
   {
    "duration": 3671,
    "start_time": "2022-03-05T23:54:10.750Z"
   },
   {
    "duration": 2111,
    "start_time": "2022-03-05T23:54:14.424Z"
   },
   {
    "duration": 18,
    "start_time": "2022-03-05T23:54:16.539Z"
   },
   {
    "duration": 8,
    "start_time": "2022-03-05T23:54:16.561Z"
   },
   {
    "duration": 33,
    "start_time": "2022-03-05T23:54:16.572Z"
   },
   {
    "duration": 9,
    "start_time": "2022-03-05T23:54:16.607Z"
   },
   {
    "duration": 8,
    "start_time": "2022-03-05T23:54:16.619Z"
   },
   {
    "duration": 12,
    "start_time": "2022-03-05T23:54:16.633Z"
   },
   {
    "duration": 12,
    "start_time": "2022-03-05T23:54:16.684Z"
   },
   {
    "duration": 6,
    "start_time": "2022-03-05T23:54:16.699Z"
   },
   {
    "duration": 14,
    "start_time": "2022-03-05T23:54:16.708Z"
   },
   {
    "duration": 3,
    "start_time": "2022-03-05T23:54:16.724Z"
   },
   {
    "duration": 12064,
    "start_time": "2022-03-05T23:54:16.730Z"
   },
   {
    "duration": 7,
    "start_time": "2022-03-05T23:54:28.797Z"
   },
   {
    "duration": 14,
    "start_time": "2022-03-05T23:54:28.808Z"
   },
   {
    "duration": 19,
    "start_time": "2022-03-05T23:54:28.824Z"
   },
   {
    "duration": 47,
    "start_time": "2022-03-05T23:54:28.846Z"
   },
   {
    "duration": 22,
    "start_time": "2022-03-05T23:54:28.896Z"
   },
   {
    "duration": 28,
    "start_time": "2022-03-05T23:54:28.921Z"
   },
   {
    "duration": 56,
    "start_time": "2022-03-05T23:54:28.952Z"
   },
   {
    "duration": 25,
    "start_time": "2022-03-05T23:54:29.010Z"
   },
   {
    "duration": 60,
    "start_time": "2022-03-05T23:54:29.038Z"
   },
   {
    "duration": 12,
    "start_time": "2022-03-05T23:54:29.103Z"
   },
   {
    "duration": 13,
    "start_time": "2022-03-05T23:54:29.118Z"
   },
   {
    "duration": 58,
    "start_time": "2022-03-05T23:54:29.133Z"
   },
   {
    "duration": 8,
    "start_time": "2022-03-05T23:54:29.194Z"
   },
   {
    "duration": 28,
    "start_time": "2022-03-05T23:54:29.204Z"
   },
   {
    "duration": 5,
    "start_time": "2022-03-05T23:54:29.234Z"
   },
   {
    "duration": 42,
    "start_time": "2022-03-05T23:54:29.242Z"
   },
   {
    "duration": 35,
    "start_time": "2022-03-05T23:54:29.286Z"
   },
   {
    "duration": 3,
    "start_time": "2022-03-05T23:54:29.324Z"
   },
   {
    "duration": 984,
    "start_time": "2022-03-05T23:54:29.330Z"
   },
   {
    "duration": 903,
    "start_time": "2022-03-05T23:54:30.317Z"
   },
   {
    "duration": 7,
    "start_time": "2022-03-05T23:54:31.223Z"
   },
   {
    "duration": 35,
    "start_time": "2022-03-05T23:54:31.232Z"
   },
   {
    "duration": 759,
    "start_time": "2022-03-05T23:54:31.269Z"
   },
   {
    "duration": -111,
    "start_time": "2022-03-05T23:54:32.141Z"
   },
   {
    "duration": -131,
    "start_time": "2022-03-05T23:54:32.162Z"
   },
   {
    "duration": -248,
    "start_time": "2022-03-05T23:54:32.281Z"
   },
   {
    "duration": 3655,
    "start_time": "2022-03-05T23:55:37.152Z"
   },
   {
    "duration": 1530,
    "start_time": "2022-03-05T23:55:40.810Z"
   },
   {
    "duration": 15,
    "start_time": "2022-03-05T23:55:42.344Z"
   },
   {
    "duration": 5,
    "start_time": "2022-03-05T23:55:42.363Z"
   },
   {
    "duration": 21,
    "start_time": "2022-03-05T23:55:42.383Z"
   },
   {
    "duration": 20,
    "start_time": "2022-03-05T23:55:42.407Z"
   },
   {
    "duration": 7,
    "start_time": "2022-03-05T23:55:42.431Z"
   },
   {
    "duration": 46,
    "start_time": "2022-03-05T23:55:42.441Z"
   },
   {
    "duration": 12,
    "start_time": "2022-03-05T23:55:42.493Z"
   },
   {
    "duration": 8,
    "start_time": "2022-03-05T23:55:42.509Z"
   },
   {
    "duration": 15,
    "start_time": "2022-03-05T23:55:42.520Z"
   },
   {
    "duration": 3,
    "start_time": "2022-03-05T23:55:42.540Z"
   },
   {
    "duration": 11600,
    "start_time": "2022-03-05T23:55:42.546Z"
   },
   {
    "duration": 6,
    "start_time": "2022-03-05T23:55:54.149Z"
   },
   {
    "duration": 25,
    "start_time": "2022-03-05T23:55:54.157Z"
   },
   {
    "duration": 15,
    "start_time": "2022-03-05T23:55:54.184Z"
   },
   {
    "duration": 16,
    "start_time": "2022-03-05T23:55:54.202Z"
   },
   {
    "duration": 14,
    "start_time": "2022-03-05T23:55:54.221Z"
   },
   {
    "duration": 58,
    "start_time": "2022-03-05T23:55:54.238Z"
   },
   {
    "duration": 26,
    "start_time": "2022-03-05T23:55:54.299Z"
   },
   {
    "duration": 24,
    "start_time": "2022-03-05T23:55:54.327Z"
   },
   {
    "duration": 28,
    "start_time": "2022-03-05T23:55:54.384Z"
   },
   {
    "duration": 14,
    "start_time": "2022-03-05T23:55:54.415Z"
   },
   {
    "duration": 52,
    "start_time": "2022-03-05T23:55:54.432Z"
   },
   {
    "duration": 32,
    "start_time": "2022-03-05T23:55:54.487Z"
   },
   {
    "duration": 9,
    "start_time": "2022-03-05T23:55:54.522Z"
   },
   {
    "duration": 28,
    "start_time": "2022-03-05T23:55:54.588Z"
   },
   {
    "duration": 6,
    "start_time": "2022-03-05T23:55:54.620Z"
   },
   {
    "duration": 10,
    "start_time": "2022-03-05T23:55:54.629Z"
   },
   {
    "duration": 68,
    "start_time": "2022-03-05T23:55:54.641Z"
   },
   {
    "duration": 4,
    "start_time": "2022-03-05T23:55:54.712Z"
   },
   {
    "duration": 937,
    "start_time": "2022-03-05T23:55:54.718Z"
   },
   {
    "duration": 919,
    "start_time": "2022-03-05T23:55:55.682Z"
   },
   {
    "duration": 7,
    "start_time": "2022-03-05T23:55:56.604Z"
   },
   {
    "duration": 9,
    "start_time": "2022-03-05T23:55:56.614Z"
   },
   {
    "duration": 68,
    "start_time": "2022-03-05T23:55:56.626Z"
   },
   {
    "duration": 87,
    "start_time": "2022-03-05T23:55:56.697Z"
   },
   {
    "duration": 7,
    "start_time": "2022-03-05T23:55:56.787Z"
   },
   {
    "duration": 7,
    "start_time": "2022-03-05T23:55:56.796Z"
   },
   {
    "duration": 91585,
    "start_time": "2022-03-06T03:26:35.546Z"
   },
   {
    "duration": 1189,
    "start_time": "2022-03-06T03:28:07.134Z"
   },
   {
    "duration": 19,
    "start_time": "2022-03-06T03:28:08.325Z"
   },
   {
    "duration": 9,
    "start_time": "2022-03-06T03:28:08.346Z"
   },
   {
    "duration": 16,
    "start_time": "2022-03-06T03:28:08.357Z"
   },
   {
    "duration": 7,
    "start_time": "2022-03-06T03:28:08.375Z"
   },
   {
    "duration": 5,
    "start_time": "2022-03-06T03:28:08.383Z"
   },
   {
    "duration": 7,
    "start_time": "2022-03-06T03:28:08.390Z"
   },
   {
    "duration": 5,
    "start_time": "2022-03-06T03:28:08.399Z"
   },
   {
    "duration": 3,
    "start_time": "2022-03-06T03:28:08.406Z"
   },
   {
    "duration": 30,
    "start_time": "2022-03-06T03:28:08.411Z"
   },
   {
    "duration": 3,
    "start_time": "2022-03-06T03:28:08.443Z"
   },
   {
    "duration": 7449,
    "start_time": "2022-03-06T03:28:08.448Z"
   },
   {
    "duration": 4,
    "start_time": "2022-03-06T03:28:15.899Z"
   },
   {
    "duration": 7,
    "start_time": "2022-03-06T03:28:15.904Z"
   },
   {
    "duration": 12,
    "start_time": "2022-03-06T03:28:15.912Z"
   },
   {
    "duration": 19,
    "start_time": "2022-03-06T03:28:15.925Z"
   },
   {
    "duration": 11,
    "start_time": "2022-03-06T03:28:15.946Z"
   },
   {
    "duration": 15,
    "start_time": "2022-03-06T03:28:15.959Z"
   },
   {
    "duration": 17,
    "start_time": "2022-03-06T03:28:15.975Z"
   },
   {
    "duration": 50,
    "start_time": "2022-03-06T03:28:15.994Z"
   },
   {
    "duration": 19,
    "start_time": "2022-03-06T03:28:16.046Z"
   },
   {
    "duration": 7,
    "start_time": "2022-03-06T03:28:16.069Z"
   },
   {
    "duration": 8,
    "start_time": "2022-03-06T03:28:16.078Z"
   },
   {
    "duration": 54,
    "start_time": "2022-03-06T03:28:16.087Z"
   },
   {
    "duration": 6,
    "start_time": "2022-03-06T03:28:16.142Z"
   },
   {
    "duration": 20,
    "start_time": "2022-03-06T03:28:16.149Z"
   },
   {
    "duration": 3,
    "start_time": "2022-03-06T03:28:16.170Z"
   },
   {
    "duration": 9,
    "start_time": "2022-03-06T03:28:16.174Z"
   },
   {
    "duration": 24,
    "start_time": "2022-03-06T03:28:16.184Z"
   },
   {
    "duration": 3,
    "start_time": "2022-03-06T03:28:16.237Z"
   },
   {
    "duration": 476,
    "start_time": "2022-03-06T03:28:16.241Z"
   },
   {
    "duration": 475,
    "start_time": "2022-03-06T03:28:16.718Z"
   },
   {
    "duration": 4,
    "start_time": "2022-03-06T03:28:17.195Z"
   },
   {
    "duration": 10,
    "start_time": "2022-03-06T03:28:17.201Z"
   },
   {
    "duration": 29,
    "start_time": "2022-03-06T03:28:17.212Z"
   },
   {
    "duration": 2890,
    "start_time": "2022-03-06T03:28:17.244Z"
   },
   {
    "duration": -603,
    "start_time": "2022-03-06T03:28:20.740Z"
   },
   {
    "duration": -608,
    "start_time": "2022-03-06T03:28:20.746Z"
   },
   {
    "duration": -626,
    "start_time": "2022-03-06T03:28:20.765Z"
   },
   {
    "duration": 66107,
    "start_time": "2022-03-06T03:32:55.391Z"
   },
   {
    "duration": 1133,
    "start_time": "2022-03-06T03:34:01.500Z"
   },
   {
    "duration": 18,
    "start_time": "2022-03-06T03:34:02.635Z"
   },
   {
    "duration": 8,
    "start_time": "2022-03-06T03:34:02.654Z"
   },
   {
    "duration": 32,
    "start_time": "2022-03-06T03:34:02.663Z"
   },
   {
    "duration": 6,
    "start_time": "2022-03-06T03:34:02.697Z"
   },
   {
    "duration": 5,
    "start_time": "2022-03-06T03:34:02.704Z"
   },
   {
    "duration": 6,
    "start_time": "2022-03-06T03:34:02.711Z"
   },
   {
    "duration": 6,
    "start_time": "2022-03-06T03:34:02.719Z"
   },
   {
    "duration": 4,
    "start_time": "2022-03-06T03:34:02.726Z"
   },
   {
    "duration": 5,
    "start_time": "2022-03-06T03:34:02.737Z"
   },
   {
    "duration": 3,
    "start_time": "2022-03-06T03:34:02.743Z"
   },
   {
    "duration": 7350,
    "start_time": "2022-03-06T03:34:02.747Z"
   },
   {
    "duration": 4,
    "start_time": "2022-03-06T03:34:10.099Z"
   },
   {
    "duration": 11,
    "start_time": "2022-03-06T03:34:10.104Z"
   },
   {
    "duration": 11,
    "start_time": "2022-03-06T03:34:10.117Z"
   },
   {
    "duration": 16,
    "start_time": "2022-03-06T03:34:10.130Z"
   },
   {
    "duration": 10,
    "start_time": "2022-03-06T03:34:10.148Z"
   },
   {
    "duration": 17,
    "start_time": "2022-03-06T03:34:10.159Z"
   },
   {
    "duration": 17,
    "start_time": "2022-03-06T03:34:10.177Z"
   },
   {
    "duration": 45,
    "start_time": "2022-03-06T03:34:10.195Z"
   },
   {
    "duration": 19,
    "start_time": "2022-03-06T03:34:10.242Z"
   },
   {
    "duration": 8,
    "start_time": "2022-03-06T03:34:10.264Z"
   },
   {
    "duration": 10,
    "start_time": "2022-03-06T03:34:10.274Z"
   },
   {
    "duration": 53,
    "start_time": "2022-03-06T03:34:10.285Z"
   },
   {
    "duration": 5,
    "start_time": "2022-03-06T03:34:10.340Z"
   },
   {
    "duration": 22,
    "start_time": "2022-03-06T03:34:10.347Z"
   },
   {
    "duration": 4,
    "start_time": "2022-03-06T03:34:10.371Z"
   },
   {
    "duration": 14,
    "start_time": "2022-03-06T03:34:10.376Z"
   },
   {
    "duration": 27,
    "start_time": "2022-03-06T03:34:10.392Z"
   },
   {
    "duration": 3,
    "start_time": "2022-03-06T03:34:10.438Z"
   },
   {
    "duration": 479,
    "start_time": "2022-03-06T03:34:10.442Z"
   },
   {
    "duration": 509,
    "start_time": "2022-03-06T03:34:10.922Z"
   },
   {
    "duration": 5,
    "start_time": "2022-03-06T03:34:11.437Z"
   },
   {
    "duration": 9,
    "start_time": "2022-03-06T03:34:11.443Z"
   },
   {
    "duration": 13,
    "start_time": "2022-03-06T03:34:11.453Z"
   },
   {
    "duration": 79,
    "start_time": "2022-03-06T03:34:11.469Z"
   },
   {
    "duration": 93,
    "start_time": "2022-03-06T03:34:11.551Z"
   },
   {
    "duration": 91,
    "start_time": "2022-03-06T03:34:11.647Z"
   },
   {
    "duration": 5,
    "start_time": "2022-03-06T03:34:11.741Z"
   },
   {
    "duration": 6,
    "start_time": "2022-03-06T03:43:47.354Z"
   },
   {
    "duration": 6,
    "start_time": "2022-03-06T03:44:00.443Z"
   },
   {
    "duration": 202,
    "start_time": "2022-03-06T20:53:59.837Z"
   },
   {
    "duration": 104960,
    "start_time": "2022-03-06T20:54:06.749Z"
   },
   {
    "duration": 1181,
    "start_time": "2022-03-06T20:55:51.711Z"
   },
   {
    "duration": 26,
    "start_time": "2022-03-06T20:55:52.894Z"
   },
   {
    "duration": 5,
    "start_time": "2022-03-06T20:55:52.922Z"
   },
   {
    "duration": 12,
    "start_time": "2022-03-06T20:55:52.929Z"
   },
   {
    "duration": 6,
    "start_time": "2022-03-06T20:55:52.943Z"
   },
   {
    "duration": 7,
    "start_time": "2022-03-06T20:55:52.950Z"
   },
   {
    "duration": 10,
    "start_time": "2022-03-06T20:55:52.959Z"
   },
   {
    "duration": 7,
    "start_time": "2022-03-06T20:55:52.970Z"
   },
   {
    "duration": 3,
    "start_time": "2022-03-06T20:55:52.978Z"
   },
   {
    "duration": 8,
    "start_time": "2022-03-06T20:55:52.983Z"
   },
   {
    "duration": 4,
    "start_time": "2022-03-06T20:55:52.993Z"
   },
   {
    "duration": 6780,
    "start_time": "2022-03-06T20:55:52.998Z"
   },
   {
    "duration": 4,
    "start_time": "2022-03-06T20:55:59.779Z"
   },
   {
    "duration": 8,
    "start_time": "2022-03-06T20:55:59.785Z"
   },
   {
    "duration": 15,
    "start_time": "2022-03-06T20:55:59.794Z"
   },
   {
    "duration": 23,
    "start_time": "2022-03-06T20:55:59.810Z"
   },
   {
    "duration": 9,
    "start_time": "2022-03-06T20:55:59.834Z"
   },
   {
    "duration": 13,
    "start_time": "2022-03-06T20:55:59.845Z"
   },
   {
    "duration": 21,
    "start_time": "2022-03-06T20:55:59.859Z"
   },
   {
    "duration": 11,
    "start_time": "2022-03-06T20:55:59.882Z"
   },
   {
    "duration": 50,
    "start_time": "2022-03-06T20:55:59.895Z"
   },
   {
    "duration": 9,
    "start_time": "2022-03-06T20:55:59.949Z"
   },
   {
    "duration": 10,
    "start_time": "2022-03-06T20:55:59.960Z"
   },
   {
    "duration": 23,
    "start_time": "2022-03-06T20:55:59.971Z"
   },
   {
    "duration": 5,
    "start_time": "2022-03-06T20:55:59.996Z"
   },
   {
    "duration": 47,
    "start_time": "2022-03-06T20:56:00.003Z"
   },
   {
    "duration": 3,
    "start_time": "2022-03-06T20:56:00.051Z"
   },
   {
    "duration": 12,
    "start_time": "2022-03-06T20:56:00.056Z"
   },
   {
    "duration": 451,
    "start_time": "2022-03-06T20:56:00.070Z"
   },
   {
    "duration": -191,
    "start_time": "2022-03-06T20:56:00.714Z"
   },
   {
    "duration": -194,
    "start_time": "2022-03-06T20:56:00.718Z"
   },
   {
    "duration": -196,
    "start_time": "2022-03-06T20:56:00.722Z"
   },
   {
    "duration": -201,
    "start_time": "2022-03-06T20:56:00.728Z"
   },
   {
    "duration": -204,
    "start_time": "2022-03-06T20:56:00.732Z"
   },
   {
    "duration": -207,
    "start_time": "2022-03-06T20:56:00.736Z"
   },
   {
    "duration": -210,
    "start_time": "2022-03-06T20:56:00.740Z"
   },
   {
    "duration": -214,
    "start_time": "2022-03-06T20:56:00.745Z"
   },
   {
    "duration": -217,
    "start_time": "2022-03-06T20:56:00.749Z"
   },
   {
    "duration": -228,
    "start_time": "2022-03-06T20:56:00.761Z"
   },
   {
    "duration": -231,
    "start_time": "2022-03-06T20:56:00.765Z"
   },
   {
    "duration": -237,
    "start_time": "2022-03-06T20:56:00.772Z"
   },
   {
    "duration": 53396,
    "start_time": "2022-03-06T20:57:04.929Z"
   },
   {
    "duration": 1141,
    "start_time": "2022-03-06T20:57:58.327Z"
   },
   {
    "duration": 11,
    "start_time": "2022-03-06T20:57:59.470Z"
   },
   {
    "duration": 4,
    "start_time": "2022-03-06T20:57:59.483Z"
   },
   {
    "duration": 14,
    "start_time": "2022-03-06T20:57:59.489Z"
   },
   {
    "duration": 8,
    "start_time": "2022-03-06T20:57:59.505Z"
   },
   {
    "duration": 4,
    "start_time": "2022-03-06T20:57:59.515Z"
   },
   {
    "duration": 6,
    "start_time": "2022-03-06T20:57:59.533Z"
   },
   {
    "duration": 5,
    "start_time": "2022-03-06T20:57:59.541Z"
   },
   {
    "duration": 6,
    "start_time": "2022-03-06T20:57:59.548Z"
   },
   {
    "duration": 6,
    "start_time": "2022-03-06T20:57:59.556Z"
   },
   {
    "duration": 5,
    "start_time": "2022-03-06T20:57:59.563Z"
   },
   {
    "duration": 6773,
    "start_time": "2022-03-06T20:57:59.569Z"
   },
   {
    "duration": 4,
    "start_time": "2022-03-06T20:58:06.344Z"
   },
   {
    "duration": 6,
    "start_time": "2022-03-06T20:58:06.349Z"
   },
   {
    "duration": 9,
    "start_time": "2022-03-06T20:58:06.357Z"
   },
   {
    "duration": 9,
    "start_time": "2022-03-06T20:58:06.368Z"
   },
   {
    "duration": 8,
    "start_time": "2022-03-06T20:58:06.378Z"
   },
   {
    "duration": 45,
    "start_time": "2022-03-06T20:58:06.388Z"
   },
   {
    "duration": 17,
    "start_time": "2022-03-06T20:58:06.434Z"
   },
   {
    "duration": 15,
    "start_time": "2022-03-06T20:58:06.452Z"
   },
   {
    "duration": 16,
    "start_time": "2022-03-06T20:58:06.469Z"
   },
   {
    "duration": 7,
    "start_time": "2022-03-06T20:58:06.488Z"
   },
   {
    "duration": 42,
    "start_time": "2022-03-06T20:58:06.496Z"
   },
   {
    "duration": 18,
    "start_time": "2022-03-06T20:58:06.539Z"
   },
   {
    "duration": 7,
    "start_time": "2022-03-06T20:58:06.559Z"
   },
   {
    "duration": 18,
    "start_time": "2022-03-06T20:58:06.568Z"
   },
   {
    "duration": 3,
    "start_time": "2022-03-06T20:58:06.587Z"
   },
   {
    "duration": 41,
    "start_time": "2022-03-06T20:58:06.592Z"
   },
   {
    "duration": 22,
    "start_time": "2022-03-06T20:58:06.634Z"
   },
   {
    "duration": 2,
    "start_time": "2022-03-06T20:58:06.658Z"
   },
   {
    "duration": 487,
    "start_time": "2022-03-06T20:58:06.661Z"
   },
   {
    "duration": 475,
    "start_time": "2022-03-06T20:58:07.150Z"
   },
   {
    "duration": 4,
    "start_time": "2022-03-06T20:58:07.632Z"
   },
   {
    "duration": 8,
    "start_time": "2022-03-06T20:58:07.637Z"
   },
   {
    "duration": 12,
    "start_time": "2022-03-06T20:58:07.647Z"
   },
   {
    "duration": 78,
    "start_time": "2022-03-06T20:58:07.661Z"
   },
   {
    "duration": 5,
    "start_time": "2022-03-06T20:58:07.741Z"
   },
   {
    "duration": 8,
    "start_time": "2022-03-06T20:58:07.833Z"
   },
   {
    "duration": 95,
    "start_time": "2022-03-06T20:58:07.843Z"
   },
   {
    "duration": 6,
    "start_time": "2022-03-06T20:58:07.939Z"
   },
   {
    "duration": 7,
    "start_time": "2022-03-06T20:58:07.947Z"
   },
   {
    "duration": 401,
    "start_time": "2022-03-07T02:06:03.973Z"
   },
   {
    "duration": 11749,
    "start_time": "2022-03-07T02:06:12.809Z"
   },
   {
    "duration": 1512,
    "start_time": "2022-03-07T02:06:24.561Z"
   },
   {
    "duration": 31,
    "start_time": "2022-03-07T02:06:26.076Z"
   },
   {
    "duration": 5,
    "start_time": "2022-03-07T02:06:26.110Z"
   },
   {
    "duration": 20,
    "start_time": "2022-03-07T02:06:26.118Z"
   },
   {
    "duration": 11,
    "start_time": "2022-03-07T02:06:26.141Z"
   },
   {
    "duration": 7,
    "start_time": "2022-03-07T02:06:26.155Z"
   },
   {
    "duration": 10,
    "start_time": "2022-03-07T02:06:26.168Z"
   },
   {
    "duration": 52,
    "start_time": "2022-03-07T02:06:26.181Z"
   },
   {
    "duration": 5,
    "start_time": "2022-03-07T02:06:26.236Z"
   },
   {
    "duration": 10,
    "start_time": "2022-03-07T02:06:26.244Z"
   },
   {
    "duration": 3,
    "start_time": "2022-03-07T02:06:26.257Z"
   },
   {
    "duration": 11789,
    "start_time": "2022-03-07T02:06:26.263Z"
   },
   {
    "duration": 7,
    "start_time": "2022-03-07T02:06:38.055Z"
   },
   {
    "duration": 11,
    "start_time": "2022-03-07T02:06:38.065Z"
   },
   {
    "duration": 16,
    "start_time": "2022-03-07T02:06:38.078Z"
   },
   {
    "duration": 43,
    "start_time": "2022-03-07T02:06:38.096Z"
   },
   {
    "duration": 15,
    "start_time": "2022-03-07T02:06:38.141Z"
   },
   {
    "duration": 23,
    "start_time": "2022-03-07T02:06:38.158Z"
   },
   {
    "duration": 58,
    "start_time": "2022-03-07T02:06:38.183Z"
   },
   {
    "duration": 23,
    "start_time": "2022-03-07T02:06:38.244Z"
   },
   {
    "duration": 25,
    "start_time": "2022-03-07T02:06:38.270Z"
   },
   {
    "duration": 11,
    "start_time": "2022-03-07T02:06:38.335Z"
   },
   {
    "duration": 10,
    "start_time": "2022-03-07T02:06:38.349Z"
   },
   {
    "duration": 26,
    "start_time": "2022-03-07T02:06:38.361Z"
   },
   {
    "duration": 7,
    "start_time": "2022-03-07T02:06:38.432Z"
   },
   {
    "duration": 28,
    "start_time": "2022-03-07T02:06:38.442Z"
   },
   {
    "duration": 6,
    "start_time": "2022-03-07T02:06:38.472Z"
   },
   {
    "duration": 7,
    "start_time": "2022-03-07T02:06:38.481Z"
   },
   {
    "duration": 71,
    "start_time": "2022-03-07T02:06:38.491Z"
   },
   {
    "duration": 5,
    "start_time": "2022-03-07T02:06:38.565Z"
   },
   {
    "duration": 886,
    "start_time": "2022-03-07T02:06:38.573Z"
   },
   {
    "duration": 950,
    "start_time": "2022-03-07T02:06:39.462Z"
   },
   {
    "duration": 6,
    "start_time": "2022-03-07T02:06:40.415Z"
   },
   {
    "duration": 4,
    "start_time": "2022-03-07T02:06:40.433Z"
   },
   {
    "duration": 17,
    "start_time": "2022-03-07T02:06:40.440Z"
   },
   {
    "duration": 87,
    "start_time": "2022-03-07T02:06:40.460Z"
   },
   {
    "duration": 7,
    "start_time": "2022-03-07T02:06:40.635Z"
   },
   {
    "duration": 99,
    "start_time": "2022-03-07T02:06:40.645Z"
   },
   {
    "duration": 5,
    "start_time": "2022-03-07T02:06:40.747Z"
   },
   {
    "duration": 7,
    "start_time": "2022-03-07T02:06:40.755Z"
   },
   {
    "duration": 7,
    "start_time": "2022-03-07T02:06:40.765Z"
   },
   {
    "duration": 488,
    "start_time": "2022-03-07T02:08:19.859Z"
   },
   {
    "duration": 6,
    "start_time": "2022-03-07T02:09:33.151Z"
   },
   {
    "duration": 6,
    "start_time": "2022-03-07T02:09:49.466Z"
   },
   {
    "duration": 4,
    "start_time": "2022-03-07T02:12:37.514Z"
   },
   {
    "duration": 3704,
    "start_time": "2022-03-07T02:13:35.500Z"
   },
   {
    "duration": 1550,
    "start_time": "2022-03-07T02:13:39.207Z"
   },
   {
    "duration": 21,
    "start_time": "2022-03-07T02:13:40.760Z"
   },
   {
    "duration": 5,
    "start_time": "2022-03-07T02:13:40.784Z"
   },
   {
    "duration": 18,
    "start_time": "2022-03-07T02:13:40.791Z"
   },
   {
    "duration": 22,
    "start_time": "2022-03-07T02:13:40.811Z"
   },
   {
    "duration": 5,
    "start_time": "2022-03-07T02:13:40.835Z"
   },
   {
    "duration": 8,
    "start_time": "2022-03-07T02:13:40.844Z"
   },
   {
    "duration": 8,
    "start_time": "2022-03-07T02:13:40.854Z"
   },
   {
    "duration": 5,
    "start_time": "2022-03-07T02:13:40.864Z"
   },
   {
    "duration": 8,
    "start_time": "2022-03-07T02:13:40.871Z"
   },
   {
    "duration": 3,
    "start_time": "2022-03-07T02:13:40.881Z"
   },
   {
    "duration": 11317,
    "start_time": "2022-03-07T02:13:40.933Z"
   },
   {
    "duration": 5,
    "start_time": "2022-03-07T02:13:52.252Z"
   },
   {
    "duration": 8,
    "start_time": "2022-03-07T02:13:52.259Z"
   },
   {
    "duration": 14,
    "start_time": "2022-03-07T02:13:52.269Z"
   },
   {
    "duration": 15,
    "start_time": "2022-03-07T02:13:52.286Z"
   },
   {
    "duration": 14,
    "start_time": "2022-03-07T02:13:52.333Z"
   },
   {
    "duration": 24,
    "start_time": "2022-03-07T02:13:52.349Z"
   },
   {
    "duration": 57,
    "start_time": "2022-03-07T02:13:52.375Z"
   },
   {
    "duration": 24,
    "start_time": "2022-03-07T02:13:52.435Z"
   },
   {
    "duration": 25,
    "start_time": "2022-03-07T02:13:52.461Z"
   },
   {
    "duration": 44,
    "start_time": "2022-03-07T02:13:52.490Z"
   },
   {
    "duration": 10,
    "start_time": "2022-03-07T02:13:52.537Z"
   },
   {
    "duration": 26,
    "start_time": "2022-03-07T02:13:52.550Z"
   },
   {
    "duration": 6,
    "start_time": "2022-03-07T02:13:52.579Z"
   },
   {
    "duration": 66,
    "start_time": "2022-03-07T02:13:52.588Z"
   },
   {
    "duration": 4,
    "start_time": "2022-03-07T02:13:52.657Z"
   },
   {
    "duration": 8,
    "start_time": "2022-03-07T02:13:52.663Z"
   },
   {
    "duration": 66,
    "start_time": "2022-03-07T02:13:52.673Z"
   },
   {
    "duration": 3,
    "start_time": "2022-03-07T02:13:52.742Z"
   },
   {
    "duration": 931,
    "start_time": "2022-03-07T02:13:52.747Z"
   },
   {
    "duration": 972,
    "start_time": "2022-03-07T02:13:53.681Z"
   },
   {
    "duration": 6,
    "start_time": "2022-03-07T02:13:54.656Z"
   },
   {
    "duration": 8,
    "start_time": "2022-03-07T02:13:54.664Z"
   },
   {
    "duration": 14,
    "start_time": "2022-03-07T02:13:54.674Z"
   },
   {
    "duration": 97,
    "start_time": "2022-03-07T02:13:54.739Z"
   },
   {
    "duration": 5,
    "start_time": "2022-03-07T02:13:54.838Z"
   },
   {
    "duration": 99,
    "start_time": "2022-03-07T02:13:54.846Z"
   },
   {
    "duration": 6,
    "start_time": "2022-03-07T02:13:54.948Z"
   },
   {
    "duration": 7,
    "start_time": "2022-03-07T02:13:54.956Z"
   },
   {
    "duration": 703,
    "start_time": "2022-03-07T02:13:54.965Z"
   },
   {
    "duration": -195,
    "start_time": "2022-03-07T02:13:55.865Z"
   },
   {
    "duration": 6,
    "start_time": "2022-03-07T02:14:14.573Z"
   },
   {
    "duration": 7,
    "start_time": "2022-03-07T02:14:22.901Z"
   },
   {
    "duration": 7,
    "start_time": "2022-03-07T02:14:39.150Z"
   },
   {
    "duration": 8,
    "start_time": "2022-03-07T02:14:43.064Z"
   },
   {
    "duration": 6,
    "start_time": "2022-03-07T02:14:50.349Z"
   },
   {
    "duration": 6,
    "start_time": "2022-03-07T02:16:40.161Z"
   },
   {
    "duration": 6,
    "start_time": "2022-03-07T02:18:18.789Z"
   },
   {
    "duration": 333,
    "start_time": "2022-03-07T02:18:36.455Z"
   },
   {
    "duration": 6,
    "start_time": "2022-03-07T02:18:50.327Z"
   },
   {
    "duration": 6,
    "start_time": "2022-03-07T02:18:56.061Z"
   },
   {
    "duration": 7,
    "start_time": "2022-03-07T02:19:42.076Z"
   },
   {
    "duration": 543,
    "start_time": "2022-03-07T02:19:43.934Z"
   },
   {
    "duration": 6,
    "start_time": "2022-03-07T02:19:56.434Z"
   },
   {
    "duration": 566,
    "start_time": "2022-03-07T02:19:58.535Z"
   },
   {
    "duration": 7,
    "start_time": "2022-03-07T02:20:05.543Z"
   },
   {
    "duration": 8,
    "start_time": "2022-03-07T02:20:07.501Z"
   },
   {
    "duration": 341,
    "start_time": "2022-03-07T02:24:13.851Z"
   },
   {
    "duration": 6,
    "start_time": "2022-03-07T02:24:24.986Z"
   },
   {
    "duration": 6,
    "start_time": "2022-03-07T02:24:37.160Z"
   },
   {
    "duration": 6,
    "start_time": "2022-03-07T02:24:42.454Z"
   },
   {
    "duration": 6,
    "start_time": "2022-03-07T02:24:44.280Z"
   },
   {
    "duration": 6,
    "start_time": "2022-03-07T02:24:53.569Z"
   },
   {
    "duration": 7,
    "start_time": "2022-03-07T02:24:55.212Z"
   },
   {
    "duration": 5,
    "start_time": "2022-03-07T02:24:59.020Z"
   },
   {
    "duration": 3862,
    "start_time": "2022-03-07T02:25:06.060Z"
   },
   {
    "duration": 1547,
    "start_time": "2022-03-07T02:25:09.925Z"
   },
   {
    "duration": 23,
    "start_time": "2022-03-07T02:25:11.476Z"
   },
   {
    "duration": 7,
    "start_time": "2022-03-07T02:25:11.502Z"
   },
   {
    "duration": 34,
    "start_time": "2022-03-07T02:25:11.512Z"
   },
   {
    "duration": 9,
    "start_time": "2022-03-07T02:25:11.548Z"
   },
   {
    "duration": 6,
    "start_time": "2022-03-07T02:25:11.560Z"
   },
   {
    "duration": 8,
    "start_time": "2022-03-07T02:25:11.570Z"
   },
   {
    "duration": 8,
    "start_time": "2022-03-07T02:25:11.581Z"
   },
   {
    "duration": 46,
    "start_time": "2022-03-07T02:25:11.591Z"
   },
   {
    "duration": 13,
    "start_time": "2022-03-07T02:25:11.640Z"
   },
   {
    "duration": 3,
    "start_time": "2022-03-07T02:25:11.656Z"
   },
   {
    "duration": 11438,
    "start_time": "2022-03-07T02:25:11.661Z"
   },
   {
    "duration": 5,
    "start_time": "2022-03-07T02:25:23.101Z"
   },
   {
    "duration": 8,
    "start_time": "2022-03-07T02:25:23.108Z"
   },
   {
    "duration": 12,
    "start_time": "2022-03-07T02:25:23.133Z"
   },
   {
    "duration": 16,
    "start_time": "2022-03-07T02:25:23.147Z"
   },
   {
    "duration": 15,
    "start_time": "2022-03-07T02:25:23.165Z"
   },
   {
    "duration": 61,
    "start_time": "2022-03-07T02:25:23.182Z"
   },
   {
    "duration": 25,
    "start_time": "2022-03-07T02:25:23.245Z"
   },
   {
    "duration": 24,
    "start_time": "2022-03-07T02:25:23.272Z"
   },
   {
    "duration": 58,
    "start_time": "2022-03-07T02:25:23.298Z"
   },
   {
    "duration": 11,
    "start_time": "2022-03-07T02:25:23.361Z"
   },
   {
    "duration": 13,
    "start_time": "2022-03-07T02:25:23.375Z"
   },
   {
    "duration": 60,
    "start_time": "2022-03-07T02:25:23.390Z"
   },
   {
    "duration": 8,
    "start_time": "2022-03-07T02:25:23.452Z"
   },
   {
    "duration": 28,
    "start_time": "2022-03-07T02:25:23.462Z"
   },
   {
    "duration": 5,
    "start_time": "2022-03-07T02:25:23.534Z"
   },
   {
    "duration": 6,
    "start_time": "2022-03-07T02:25:23.541Z"
   },
   {
    "duration": 37,
    "start_time": "2022-03-07T02:25:23.549Z"
   },
   {
    "duration": 4,
    "start_time": "2022-03-07T02:25:23.589Z"
   },
   {
    "duration": 937,
    "start_time": "2022-03-07T02:25:23.596Z"
   },
   {
    "duration": 910,
    "start_time": "2022-03-07T02:25:24.535Z"
   },
   {
    "duration": 6,
    "start_time": "2022-03-07T02:25:25.448Z"
   },
   {
    "duration": 9,
    "start_time": "2022-03-07T02:25:25.456Z"
   },
   {
    "duration": 66,
    "start_time": "2022-03-07T02:25:25.467Z"
   },
   {
    "duration": 101,
    "start_time": "2022-03-07T02:25:25.536Z"
   },
   {
    "duration": 7,
    "start_time": "2022-03-07T02:25:25.640Z"
   },
   {
    "duration": 15,
    "start_time": "2022-03-07T02:25:25.733Z"
   },
   {
    "duration": 9,
    "start_time": "2022-03-07T02:25:25.750Z"
   },
   {
    "duration": 6,
    "start_time": "2022-03-07T02:25:25.762Z"
   },
   {
    "duration": 12,
    "start_time": "2022-03-07T02:25:25.770Z"
   },
   {
    "duration": 10,
    "start_time": "2022-03-07T02:25:25.835Z"
   },
   {
    "duration": 88,
    "start_time": "2022-03-07T02:25:25.847Z"
   },
   {
    "duration": 5,
    "start_time": "2022-03-07T02:25:48.423Z"
   },
   {
    "duration": 6,
    "start_time": "2022-03-07T02:27:53.798Z"
   },
   {
    "duration": 6,
    "start_time": "2022-03-07T02:27:59.466Z"
   },
   {
    "duration": 7,
    "start_time": "2022-03-07T02:28:04.320Z"
   },
   {
    "duration": 8,
    "start_time": "2022-03-07T02:28:05.979Z"
   },
   {
    "duration": 6,
    "start_time": "2022-03-07T02:28:15.834Z"
   },
   {
    "duration": 6,
    "start_time": "2022-03-07T02:28:26.370Z"
   },
   {
    "duration": 8,
    "start_time": "2022-03-07T02:29:36.104Z"
   },
   {
    "duration": 4,
    "start_time": "2022-03-07T02:30:58.128Z"
   },
   {
    "duration": 6,
    "start_time": "2022-03-07T02:31:05.518Z"
   },
   {
    "duration": 7,
    "start_time": "2022-03-07T02:31:35.325Z"
   },
   {
    "duration": 7,
    "start_time": "2022-03-07T02:31:37.285Z"
   },
   {
    "duration": 9,
    "start_time": "2022-03-07T02:31:48.415Z"
   },
   {
    "duration": 6,
    "start_time": "2022-03-07T02:31:55.884Z"
   },
   {
    "duration": 6,
    "start_time": "2022-03-07T02:35:16.689Z"
   },
   {
    "duration": 7,
    "start_time": "2022-03-07T02:36:20.627Z"
   },
   {
    "duration": 6,
    "start_time": "2022-03-07T02:39:55.311Z"
   },
   {
    "duration": 5,
    "start_time": "2022-03-07T02:40:08.316Z"
   },
   {
    "duration": 6,
    "start_time": "2022-03-07T02:40:45.752Z"
   },
   {
    "duration": 128,
    "start_time": "2022-03-07T02:40:58.085Z"
   },
   {
    "duration": 6,
    "start_time": "2022-03-07T02:41:01.802Z"
   },
   {
    "duration": 4,
    "start_time": "2022-03-07T02:41:26.355Z"
   },
   {
    "duration": 7,
    "start_time": "2022-03-07T02:41:38.892Z"
   },
   {
    "duration": 3783,
    "start_time": "2022-03-07T02:44:20.433Z"
   },
   {
    "duration": 1551,
    "start_time": "2022-03-07T02:44:24.218Z"
   },
   {
    "duration": 21,
    "start_time": "2022-03-07T02:44:25.772Z"
   },
   {
    "duration": 6,
    "start_time": "2022-03-07T02:44:25.796Z"
   },
   {
    "duration": 30,
    "start_time": "2022-03-07T02:44:25.804Z"
   },
   {
    "duration": 9,
    "start_time": "2022-03-07T02:44:25.836Z"
   },
   {
    "duration": 6,
    "start_time": "2022-03-07T02:44:25.848Z"
   },
   {
    "duration": 11,
    "start_time": "2022-03-07T02:44:25.856Z"
   },
   {
    "duration": 8,
    "start_time": "2022-03-07T02:44:25.871Z"
   },
   {
    "duration": 4,
    "start_time": "2022-03-07T02:44:25.882Z"
   },
   {
    "duration": 50,
    "start_time": "2022-03-07T02:44:25.889Z"
   },
   {
    "duration": 2,
    "start_time": "2022-03-07T02:44:25.942Z"
   },
   {
    "duration": 11937,
    "start_time": "2022-03-07T02:44:25.947Z"
   },
   {
    "duration": 5,
    "start_time": "2022-03-07T02:44:37.887Z"
   },
   {
    "duration": 6,
    "start_time": "2022-03-07T02:44:37.894Z"
   },
   {
    "duration": 34,
    "start_time": "2022-03-07T02:44:37.902Z"
   },
   {
    "duration": 20,
    "start_time": "2022-03-07T02:44:37.938Z"
   },
   {
    "duration": 14,
    "start_time": "2022-03-07T02:44:37.961Z"
   },
   {
    "duration": 64,
    "start_time": "2022-03-07T02:44:37.977Z"
   },
   {
    "duration": 33,
    "start_time": "2022-03-07T02:44:38.043Z"
   },
   {
    "duration": 60,
    "start_time": "2022-03-07T02:44:38.079Z"
   },
   {
    "duration": 25,
    "start_time": "2022-03-07T02:44:38.141Z"
   },
   {
    "duration": 11,
    "start_time": "2022-03-07T02:44:38.169Z"
   },
   {
    "duration": 10,
    "start_time": "2022-03-07T02:44:38.182Z"
   },
   {
    "duration": 60,
    "start_time": "2022-03-07T02:44:38.194Z"
   },
   {
    "duration": 6,
    "start_time": "2022-03-07T02:44:38.256Z"
   },
   {
    "duration": 64,
    "start_time": "2022-03-07T02:44:38.268Z"
   },
   {
    "duration": 5,
    "start_time": "2022-03-07T02:44:38.335Z"
   },
   {
    "duration": 5,
    "start_time": "2022-03-07T02:44:38.342Z"
   },
   {
    "duration": 31,
    "start_time": "2022-03-07T02:44:38.349Z"
   },
   {
    "duration": 3,
    "start_time": "2022-03-07T02:44:38.382Z"
   },
   {
    "duration": 940,
    "start_time": "2022-03-07T02:44:38.387Z"
   },
   {
    "duration": 986,
    "start_time": "2022-03-07T02:44:39.333Z"
   },
   {
    "duration": 12,
    "start_time": "2022-03-07T02:44:40.321Z"
   },
   {
    "duration": 7,
    "start_time": "2022-03-07T02:44:40.336Z"
   },
   {
    "duration": 18,
    "start_time": "2022-03-07T02:44:40.346Z"
   },
   {
    "duration": 168,
    "start_time": "2022-03-07T02:44:40.367Z"
   },
   {
    "duration": 7,
    "start_time": "2022-03-07T02:44:40.539Z"
   },
   {
    "duration": 11,
    "start_time": "2022-03-07T02:44:40.633Z"
   },
   {
    "duration": 4,
    "start_time": "2022-03-07T02:44:40.647Z"
   },
   {
    "duration": 8,
    "start_time": "2022-03-07T02:44:40.653Z"
   },
   {
    "duration": 10,
    "start_time": "2022-03-07T02:44:40.664Z"
   },
   {
    "duration": 8,
    "start_time": "2022-03-07T02:44:40.735Z"
   },
   {
    "duration": 88,
    "start_time": "2022-03-07T02:44:40.746Z"
   },
   {
    "duration": 6,
    "start_time": "2022-03-07T02:44:40.837Z"
   },
   {
    "duration": 482,
    "start_time": "2022-03-07T02:53:11.564Z"
   },
   {
    "duration": 126,
    "start_time": "2022-03-07T02:55:57.199Z"
   },
   {
    "duration": 6,
    "start_time": "2022-03-07T02:56:12.389Z"
   },
   {
    "duration": 6,
    "start_time": "2022-03-07T02:56:52.659Z"
   },
   {
    "duration": 7,
    "start_time": "2022-03-07T02:58:09.226Z"
   },
   {
    "duration": 6,
    "start_time": "2022-03-07T02:58:21.145Z"
   },
   {
    "duration": 6,
    "start_time": "2022-03-07T03:03:40.440Z"
   },
   {
    "duration": 5,
    "start_time": "2022-03-07T03:04:24.064Z"
   },
   {
    "duration": 5,
    "start_time": "2022-03-07T03:05:10.132Z"
   },
   {
    "duration": 5,
    "start_time": "2022-03-07T03:05:15.021Z"
   },
   {
    "duration": 6,
    "start_time": "2022-03-07T03:06:22.855Z"
   },
   {
    "duration": 248,
    "start_time": "2022-03-09T18:35:36.527Z"
   },
   {
    "duration": 104963,
    "start_time": "2022-03-09T18:35:45.082Z"
   },
   {
    "duration": 1164,
    "start_time": "2022-03-09T18:37:30.048Z"
   },
   {
    "duration": 12,
    "start_time": "2022-03-09T18:37:31.214Z"
   },
   {
    "duration": 13,
    "start_time": "2022-03-09T18:37:31.228Z"
   },
   {
    "duration": 13,
    "start_time": "2022-03-09T18:37:31.243Z"
   },
   {
    "duration": 9,
    "start_time": "2022-03-09T18:37:31.258Z"
   },
   {
    "duration": 11,
    "start_time": "2022-03-09T18:37:31.268Z"
   },
   {
    "duration": 13,
    "start_time": "2022-03-09T18:37:31.282Z"
   },
   {
    "duration": 9,
    "start_time": "2022-03-09T18:37:31.297Z"
   },
   {
    "duration": 4,
    "start_time": "2022-03-09T18:37:31.307Z"
   },
   {
    "duration": 8,
    "start_time": "2022-03-09T18:37:31.313Z"
   },
   {
    "duration": 12,
    "start_time": "2022-03-09T18:37:31.322Z"
   },
   {
    "duration": 6739,
    "start_time": "2022-03-09T18:37:31.336Z"
   },
   {
    "duration": 4,
    "start_time": "2022-03-09T18:37:38.076Z"
   },
   {
    "duration": 6,
    "start_time": "2022-03-09T18:37:38.081Z"
   },
   {
    "duration": 13,
    "start_time": "2022-03-09T18:37:38.089Z"
   },
   {
    "duration": 29,
    "start_time": "2022-03-09T18:37:38.104Z"
   },
   {
    "duration": 10,
    "start_time": "2022-03-09T18:37:38.135Z"
   },
   {
    "duration": 15,
    "start_time": "2022-03-09T18:37:38.147Z"
   },
   {
    "duration": 25,
    "start_time": "2022-03-09T18:37:38.163Z"
   },
   {
    "duration": 13,
    "start_time": "2022-03-09T18:37:38.190Z"
   },
   {
    "duration": 43,
    "start_time": "2022-03-09T18:37:38.204Z"
   },
   {
    "duration": 7,
    "start_time": "2022-03-09T18:37:38.250Z"
   },
   {
    "duration": 7,
    "start_time": "2022-03-09T18:37:38.259Z"
   },
   {
    "duration": 15,
    "start_time": "2022-03-09T18:37:38.268Z"
   },
   {
    "duration": 4,
    "start_time": "2022-03-09T18:37:38.285Z"
   },
   {
    "duration": 54,
    "start_time": "2022-03-09T18:37:38.291Z"
   },
   {
    "duration": 3,
    "start_time": "2022-03-09T18:37:38.347Z"
   },
   {
    "duration": 7,
    "start_time": "2022-03-09T18:37:38.351Z"
   },
   {
    "duration": 448,
    "start_time": "2022-03-09T18:37:38.360Z"
   },
   {
    "duration": -566,
    "start_time": "2022-03-09T18:37:39.376Z"
   },
   {
    "duration": -570,
    "start_time": "2022-03-09T18:37:39.381Z"
   },
   {
    "duration": -572,
    "start_time": "2022-03-09T18:37:39.385Z"
   },
   {
    "duration": -577,
    "start_time": "2022-03-09T18:37:39.391Z"
   },
   {
    "duration": -580,
    "start_time": "2022-03-09T18:37:39.395Z"
   },
   {
    "duration": -584,
    "start_time": "2022-03-09T18:37:39.400Z"
   },
   {
    "duration": -588,
    "start_time": "2022-03-09T18:37:39.405Z"
   },
   {
    "duration": -596,
    "start_time": "2022-03-09T18:37:39.414Z"
   },
   {
    "duration": -599,
    "start_time": "2022-03-09T18:37:39.418Z"
   },
   {
    "duration": -606,
    "start_time": "2022-03-09T18:37:39.426Z"
   },
   {
    "duration": -611,
    "start_time": "2022-03-09T18:37:39.432Z"
   },
   {
    "duration": -644,
    "start_time": "2022-03-09T18:37:39.466Z"
   },
   {
    "duration": -673,
    "start_time": "2022-03-09T18:37:39.496Z"
   },
   {
    "duration": -677,
    "start_time": "2022-03-09T18:37:39.501Z"
   },
   {
    "duration": -680,
    "start_time": "2022-03-09T18:37:39.505Z"
   },
   {
    "duration": -697,
    "start_time": "2022-03-09T18:37:39.523Z"
   },
   {
    "duration": -712,
    "start_time": "2022-03-09T18:37:39.538Z"
   },
   {
    "duration": -716,
    "start_time": "2022-03-09T18:37:39.543Z"
   },
   {
    "duration": -719,
    "start_time": "2022-03-09T18:37:39.547Z"
   },
   {
    "duration": 3,
    "start_time": "2022-03-09T18:39:49.084Z"
   },
   {
    "duration": 59931,
    "start_time": "2022-03-09T18:40:19.353Z"
   },
   {
    "duration": 1114,
    "start_time": "2022-03-09T18:41:19.286Z"
   },
   {
    "duration": 18,
    "start_time": "2022-03-09T18:41:20.401Z"
   },
   {
    "duration": 5,
    "start_time": "2022-03-09T18:41:20.421Z"
   },
   {
    "duration": 14,
    "start_time": "2022-03-09T18:41:20.428Z"
   },
   {
    "duration": 10,
    "start_time": "2022-03-09T18:41:20.443Z"
   },
   {
    "duration": 6,
    "start_time": "2022-03-09T18:41:20.455Z"
   },
   {
    "duration": 20,
    "start_time": "2022-03-09T18:41:20.463Z"
   },
   {
    "duration": 12,
    "start_time": "2022-03-09T18:41:20.485Z"
   },
   {
    "duration": 4,
    "start_time": "2022-03-09T18:41:20.498Z"
   },
   {
    "duration": 7,
    "start_time": "2022-03-09T18:41:20.503Z"
   },
   {
    "duration": 2,
    "start_time": "2022-03-09T18:41:20.512Z"
   },
   {
    "duration": 6727,
    "start_time": "2022-03-09T18:41:20.516Z"
   },
   {
    "duration": 5,
    "start_time": "2022-03-09T18:41:27.245Z"
   },
   {
    "duration": 6,
    "start_time": "2022-03-09T18:41:27.252Z"
   },
   {
    "duration": 9,
    "start_time": "2022-03-09T18:41:27.259Z"
   },
   {
    "duration": 13,
    "start_time": "2022-03-09T18:41:27.270Z"
   },
   {
    "duration": 9,
    "start_time": "2022-03-09T18:41:27.284Z"
   },
   {
    "duration": 47,
    "start_time": "2022-03-09T18:41:27.295Z"
   },
   {
    "duration": 19,
    "start_time": "2022-03-09T18:41:27.344Z"
   },
   {
    "duration": 16,
    "start_time": "2022-03-09T18:41:27.364Z"
   },
   {
    "duration": 17,
    "start_time": "2022-03-09T18:41:27.381Z"
   },
   {
    "duration": 35,
    "start_time": "2022-03-09T18:41:27.401Z"
   },
   {
    "duration": 9,
    "start_time": "2022-03-09T18:41:27.438Z"
   },
   {
    "duration": 21,
    "start_time": "2022-03-09T18:41:27.449Z"
   },
   {
    "duration": 6,
    "start_time": "2022-03-09T18:41:27.472Z"
   },
   {
    "duration": 53,
    "start_time": "2022-03-09T18:41:27.480Z"
   },
   {
    "duration": 4,
    "start_time": "2022-03-09T18:41:27.535Z"
   },
   {
    "duration": 11,
    "start_time": "2022-03-09T18:41:27.540Z"
   },
   {
    "duration": 23,
    "start_time": "2022-03-09T18:41:27.553Z"
   },
   {
    "duration": 2,
    "start_time": "2022-03-09T18:41:27.577Z"
   },
   {
    "duration": 483,
    "start_time": "2022-03-09T18:41:27.581Z"
   },
   {
    "duration": 480,
    "start_time": "2022-03-09T18:41:28.065Z"
   },
   {
    "duration": 4,
    "start_time": "2022-03-09T18:41:28.546Z"
   },
   {
    "duration": 16,
    "start_time": "2022-03-09T18:41:28.552Z"
   },
   {
    "duration": 15,
    "start_time": "2022-03-09T18:41:28.570Z"
   },
   {
    "duration": 55,
    "start_time": "2022-03-09T18:41:28.587Z"
   },
   {
    "duration": 90,
    "start_time": "2022-03-09T18:41:28.645Z"
   },
   {
    "duration": 99,
    "start_time": "2022-03-09T18:41:28.737Z"
   },
   {
    "duration": 9,
    "start_time": "2022-03-09T18:41:28.838Z"
   },
   {
    "duration": 16,
    "start_time": "2022-03-09T18:41:28.848Z"
   },
   {
    "duration": 16,
    "start_time": "2022-03-09T18:41:28.865Z"
   },
   {
    "duration": 51,
    "start_time": "2022-03-09T18:41:28.883Z"
   },
   {
    "duration": 5,
    "start_time": "2022-03-09T18:41:28.937Z"
   },
   {
    "duration": 90,
    "start_time": "2022-03-09T18:41:28.944Z"
   },
   {
    "duration": 19,
    "start_time": "2022-03-09T18:41:29.036Z"
   },
   {
    "duration": 9,
    "start_time": "2022-03-09T18:41:29.057Z"
   },
   {
    "duration": 10,
    "start_time": "2022-03-09T18:41:29.068Z"
   },
   {
    "duration": 14,
    "start_time": "2022-03-09T18:41:29.079Z"
   },
   {
    "duration": 5,
    "start_time": "2022-03-09T18:44:10.426Z"
   },
   {
    "duration": 9,
    "start_time": "2022-03-09T18:55:29.051Z"
   },
   {
    "duration": 9,
    "start_time": "2022-03-09T18:55:38.511Z"
   },
   {
    "duration": 3,
    "start_time": "2022-03-09T18:57:33.161Z"
   },
   {
    "duration": 4,
    "start_time": "2022-03-09T18:57:37.661Z"
   },
   {
    "duration": 378,
    "start_time": "2022-03-09T18:57:41.407Z"
   },
   {
    "duration": 4,
    "start_time": "2022-03-09T19:00:00.722Z"
   },
   {
    "duration": 5,
    "start_time": "2022-03-09T19:00:05.161Z"
   },
   {
    "duration": 169,
    "start_time": "2022-03-09T19:03:11.674Z"
   },
   {
    "duration": 178,
    "start_time": "2022-03-09T19:07:13.336Z"
   },
   {
    "duration": 101418,
    "start_time": "2022-03-09T19:09:39.082Z"
   },
   {
    "duration": 1367,
    "start_time": "2022-03-09T19:11:20.503Z"
   },
   {
    "duration": 15,
    "start_time": "2022-03-09T19:11:21.872Z"
   },
   {
    "duration": 5,
    "start_time": "2022-03-09T19:11:21.890Z"
   },
   {
    "duration": 15,
    "start_time": "2022-03-09T19:11:21.896Z"
   },
   {
    "duration": 7,
    "start_time": "2022-03-09T19:11:21.912Z"
   },
   {
    "duration": 7,
    "start_time": "2022-03-09T19:11:21.933Z"
   },
   {
    "duration": 11,
    "start_time": "2022-03-09T19:11:21.943Z"
   },
   {
    "duration": 9,
    "start_time": "2022-03-09T19:11:21.956Z"
   },
   {
    "duration": 24,
    "start_time": "2022-03-09T19:11:21.967Z"
   },
   {
    "duration": 7,
    "start_time": "2022-03-09T19:11:21.992Z"
   },
   {
    "duration": 5,
    "start_time": "2022-03-09T19:11:22.000Z"
   },
   {
    "duration": 6829,
    "start_time": "2022-03-09T19:11:22.007Z"
   },
   {
    "duration": 3,
    "start_time": "2022-03-09T19:11:28.838Z"
   },
   {
    "duration": 4,
    "start_time": "2022-03-09T19:11:28.843Z"
   },
   {
    "duration": 16,
    "start_time": "2022-03-09T19:11:28.849Z"
   },
   {
    "duration": 14,
    "start_time": "2022-03-09T19:11:28.866Z"
   },
   {
    "duration": 9,
    "start_time": "2022-03-09T19:11:28.881Z"
   },
   {
    "duration": 15,
    "start_time": "2022-03-09T19:11:28.892Z"
   },
   {
    "duration": 20,
    "start_time": "2022-03-09T19:11:28.933Z"
   },
   {
    "duration": 16,
    "start_time": "2022-03-09T19:11:28.954Z"
   },
   {
    "duration": 19,
    "start_time": "2022-03-09T19:11:28.972Z"
   },
   {
    "duration": 41,
    "start_time": "2022-03-09T19:11:28.995Z"
   },
   {
    "duration": 8,
    "start_time": "2022-03-09T19:11:29.038Z"
   },
   {
    "duration": 21,
    "start_time": "2022-03-09T19:11:29.048Z"
   },
   {
    "duration": 5,
    "start_time": "2022-03-09T19:11:29.071Z"
   },
   {
    "duration": 20,
    "start_time": "2022-03-09T19:11:29.078Z"
   },
   {
    "duration": 3,
    "start_time": "2022-03-09T19:11:29.100Z"
   },
   {
    "duration": 30,
    "start_time": "2022-03-09T19:11:29.104Z"
   },
   {
    "duration": 23,
    "start_time": "2022-03-09T19:11:29.136Z"
   },
   {
    "duration": 3,
    "start_time": "2022-03-09T19:11:29.160Z"
   },
   {
    "duration": 502,
    "start_time": "2022-03-09T19:11:29.164Z"
   },
   {
    "duration": 492,
    "start_time": "2022-03-09T19:11:29.668Z"
   },
   {
    "duration": 4,
    "start_time": "2022-03-09T19:11:30.162Z"
   },
   {
    "duration": 10,
    "start_time": "2022-03-09T19:11:30.168Z"
   },
   {
    "duration": 9,
    "start_time": "2022-03-09T19:11:30.180Z"
   },
   {
    "duration": 49,
    "start_time": "2022-03-09T19:11:30.191Z"
   },
   {
    "duration": 91,
    "start_time": "2022-03-09T19:11:30.242Z"
   },
   {
    "duration": 9,
    "start_time": "2022-03-09T19:11:30.335Z"
   },
   {
    "duration": 89,
    "start_time": "2022-03-09T19:11:30.345Z"
   },
   {
    "duration": 17,
    "start_time": "2022-03-09T19:11:30.435Z"
   },
   {
    "duration": 9,
    "start_time": "2022-03-09T19:11:30.453Z"
   },
   {
    "duration": 7,
    "start_time": "2022-03-09T19:11:30.463Z"
   },
   {
    "duration": 62,
    "start_time": "2022-03-09T19:11:30.472Z"
   },
   {
    "duration": 14,
    "start_time": "2022-03-09T19:11:30.536Z"
   },
   {
    "duration": 91,
    "start_time": "2022-03-09T19:11:30.552Z"
   },
   {
    "duration": 24,
    "start_time": "2022-03-09T19:11:30.645Z"
   },
   {
    "duration": 14,
    "start_time": "2022-03-09T19:11:30.671Z"
   },
   {
    "duration": 10,
    "start_time": "2022-03-09T19:11:30.687Z"
   },
   {
    "duration": 7,
    "start_time": "2022-03-09T19:11:30.698Z"
   },
   {
    "duration": 326,
    "start_time": "2022-03-09T19:11:30.706Z"
   },
   {
    "duration": -151,
    "start_time": "2022-03-09T19:11:31.185Z"
   },
   {
    "duration": 4,
    "start_time": "2022-03-09T19:17:21.654Z"
   },
   {
    "duration": 4,
    "start_time": "2022-03-09T19:17:27.379Z"
   },
   {
    "duration": 5,
    "start_time": "2022-03-09T19:17:52.319Z"
   },
   {
    "duration": 4,
    "start_time": "2022-03-09T19:17:54.934Z"
   },
   {
    "duration": 57,
    "start_time": "2022-03-09T19:19:21.612Z"
   },
   {
    "duration": 163,
    "start_time": "2022-03-09T19:19:27.339Z"
   },
   {
    "duration": 5,
    "start_time": "2022-03-09T19:19:46.319Z"
   },
   {
    "duration": 4,
    "start_time": "2022-03-09T19:19:47.554Z"
   },
   {
    "duration": 450,
    "start_time": "2022-03-09T19:19:48.493Z"
   },
   {
    "duration": 458,
    "start_time": "2022-03-09T19:19:49.158Z"
   },
   {
    "duration": 5,
    "start_time": "2022-03-09T19:20:29.073Z"
   },
   {
    "duration": 3,
    "start_time": "2022-03-09T19:20:29.663Z"
   },
   {
    "duration": 9,
    "start_time": "2022-03-09T19:20:30.280Z"
   },
   {
    "duration": 9,
    "start_time": "2022-03-09T19:20:33.569Z"
   },
   {
    "duration": 196,
    "start_time": "2022-03-09T19:20:44.994Z"
   },
   {
    "duration": 171,
    "start_time": "2022-03-09T19:23:10.609Z"
   },
   {
    "duration": 5,
    "start_time": "2022-03-09T19:25:52.610Z"
   },
   {
    "duration": 5,
    "start_time": "2022-03-09T19:30:01.780Z"
   },
   {
    "duration": 4,
    "start_time": "2022-03-09T19:30:06.090Z"
   },
   {
    "duration": 5,
    "start_time": "2022-03-09T19:32:50.567Z"
   },
   {
    "duration": 3,
    "start_time": "2022-03-09T19:32:53.050Z"
   },
   {
    "duration": 173,
    "start_time": "2022-03-09T19:40:33.924Z"
   },
   {
    "duration": 9,
    "start_time": "2022-03-09T19:43:59.923Z"
   },
   {
    "duration": 5,
    "start_time": "2022-03-09T19:44:48.333Z"
   },
   {
    "duration": 334,
    "start_time": "2022-03-10T10:21:32.073Z"
   },
   {
    "duration": 7678,
    "start_time": "2022-03-10T10:28:40.563Z"
   },
   {
    "duration": 1990,
    "start_time": "2022-03-10T10:28:48.243Z"
   },
   {
    "duration": 120,
    "start_time": "2022-03-10T10:28:50.235Z"
   },
   {
    "duration": 4,
    "start_time": "2022-03-10T10:28:50.357Z"
   },
   {
    "duration": 13,
    "start_time": "2022-03-10T10:28:50.362Z"
   },
   {
    "duration": 5,
    "start_time": "2022-03-10T10:28:50.376Z"
   },
   {
    "duration": 4,
    "start_time": "2022-03-10T10:28:50.382Z"
   },
   {
    "duration": 10,
    "start_time": "2022-03-10T10:28:50.388Z"
   },
   {
    "duration": 6,
    "start_time": "2022-03-10T10:28:50.400Z"
   },
   {
    "duration": 3,
    "start_time": "2022-03-10T10:28:50.407Z"
   },
   {
    "duration": 7,
    "start_time": "2022-03-10T10:28:50.411Z"
   },
   {
    "duration": 3,
    "start_time": "2022-03-10T10:28:50.419Z"
   },
   {
    "duration": 6196,
    "start_time": "2022-03-10T10:28:50.423Z"
   },
   {
    "duration": 3,
    "start_time": "2022-03-10T10:28:56.621Z"
   },
   {
    "duration": 5,
    "start_time": "2022-03-10T10:28:56.625Z"
   },
   {
    "duration": 11,
    "start_time": "2022-03-10T10:28:56.631Z"
   },
   {
    "duration": 9,
    "start_time": "2022-03-10T10:28:56.643Z"
   },
   {
    "duration": 8,
    "start_time": "2022-03-10T10:28:56.653Z"
   },
   {
    "duration": 14,
    "start_time": "2022-03-10T10:28:56.662Z"
   },
   {
    "duration": 14,
    "start_time": "2022-03-10T10:28:56.705Z"
   },
   {
    "duration": 13,
    "start_time": "2022-03-10T10:28:56.720Z"
   },
   {
    "duration": 17,
    "start_time": "2022-03-10T10:28:56.734Z"
   },
   {
    "duration": 6,
    "start_time": "2022-03-10T10:28:56.753Z"
   },
   {
    "duration": 6,
    "start_time": "2022-03-10T10:28:56.761Z"
   },
   {
    "duration": 45,
    "start_time": "2022-03-10T10:28:56.768Z"
   },
   {
    "duration": 5,
    "start_time": "2022-03-10T10:28:56.814Z"
   },
   {
    "duration": 16,
    "start_time": "2022-03-10T10:28:56.820Z"
   },
   {
    "duration": 2,
    "start_time": "2022-03-10T10:28:56.837Z"
   },
   {
    "duration": 6,
    "start_time": "2022-03-10T10:28:56.841Z"
   },
   {
    "duration": 20,
    "start_time": "2022-03-10T10:28:56.849Z"
   },
   {
    "duration": 1,
    "start_time": "2022-03-10T10:28:56.871Z"
   },
   {
    "duration": 448,
    "start_time": "2022-03-10T10:28:56.905Z"
   },
   {
    "duration": 438,
    "start_time": "2022-03-10T10:28:57.354Z"
   },
   {
    "duration": 11,
    "start_time": "2022-03-10T10:28:57.794Z"
   },
   {
    "duration": 13,
    "start_time": "2022-03-10T10:28:57.806Z"
   },
   {
    "duration": 9,
    "start_time": "2022-03-10T10:28:57.820Z"
   },
   {
    "duration": 76,
    "start_time": "2022-03-10T10:28:57.831Z"
   },
   {
    "duration": 5,
    "start_time": "2022-03-10T10:28:57.909Z"
   },
   {
    "duration": 93,
    "start_time": "2022-03-10T10:28:57.916Z"
   },
   {
    "duration": 4,
    "start_time": "2022-03-10T10:28:58.010Z"
   },
   {
    "duration": 6,
    "start_time": "2022-03-10T10:28:58.015Z"
   },
   {
    "duration": 7,
    "start_time": "2022-03-10T10:28:58.022Z"
   },
   {
    "duration": 12,
    "start_time": "2022-03-10T10:28:58.031Z"
   },
   {
    "duration": 4,
    "start_time": "2022-03-10T10:28:58.104Z"
   },
   {
    "duration": 5,
    "start_time": "2022-03-10T10:28:58.110Z"
   },
   {
    "duration": 6,
    "start_time": "2022-03-10T10:28:58.116Z"
   },
   {
    "duration": 83,
    "start_time": "2022-03-10T10:28:58.123Z"
   },
   {
    "duration": 4,
    "start_time": "2022-03-10T10:28:58.208Z"
   },
   {
    "duration": 5,
    "start_time": "2022-03-10T10:28:58.213Z"
   },
   {
    "duration": 5,
    "start_time": "2022-03-10T10:28:58.219Z"
   },
   {
    "duration": 8,
    "start_time": "2022-03-10T10:28:58.226Z"
   },
   {
    "duration": 80,
    "start_time": "2022-03-10T10:28:58.235Z"
   },
   {
    "duration": 5,
    "start_time": "2022-03-10T10:37:54.120Z"
   },
   {
    "duration": 5,
    "start_time": "2022-03-10T10:37:58.478Z"
   },
   {
    "duration": 4,
    "start_time": "2022-03-10T10:38:03.211Z"
   },
   {
    "duration": 4,
    "start_time": "2022-03-10T10:39:59.836Z"
   },
   {
    "duration": 4,
    "start_time": "2022-03-10T10:40:12.294Z"
   },
   {
    "duration": 397,
    "start_time": "2022-03-10T11:15:51.865Z"
   },
   {
    "duration": 2409,
    "start_time": "2022-03-10T11:16:07.994Z"
   },
   {
    "duration": 1129,
    "start_time": "2022-03-10T11:16:10.405Z"
   },
   {
    "duration": 30,
    "start_time": "2022-03-10T11:16:11.535Z"
   },
   {
    "duration": 6,
    "start_time": "2022-03-10T11:16:11.566Z"
   },
   {
    "duration": 12,
    "start_time": "2022-03-10T11:16:11.573Z"
   },
   {
    "duration": 6,
    "start_time": "2022-03-10T11:16:11.587Z"
   },
   {
    "duration": 4,
    "start_time": "2022-03-10T11:16:11.595Z"
   },
   {
    "duration": 6,
    "start_time": "2022-03-10T11:16:11.602Z"
   },
   {
    "duration": 5,
    "start_time": "2022-03-10T11:16:11.610Z"
   },
   {
    "duration": 5,
    "start_time": "2022-03-10T11:16:11.616Z"
   },
   {
    "duration": 6,
    "start_time": "2022-03-10T11:16:11.623Z"
   },
   {
    "duration": 2,
    "start_time": "2022-03-10T11:16:11.631Z"
   },
   {
    "duration": 6599,
    "start_time": "2022-03-10T11:16:11.634Z"
   },
   {
    "duration": 3,
    "start_time": "2022-03-10T11:16:18.235Z"
   },
   {
    "duration": 6,
    "start_time": "2022-03-10T11:16:18.240Z"
   },
   {
    "duration": 12,
    "start_time": "2022-03-10T11:16:18.247Z"
   },
   {
    "duration": 12,
    "start_time": "2022-03-10T11:16:18.260Z"
   },
   {
    "duration": 9,
    "start_time": "2022-03-10T11:16:18.274Z"
   },
   {
    "duration": 18,
    "start_time": "2022-03-10T11:16:18.305Z"
   },
   {
    "duration": 17,
    "start_time": "2022-03-10T11:16:18.324Z"
   },
   {
    "duration": 15,
    "start_time": "2022-03-10T11:16:18.343Z"
   },
   {
    "duration": 47,
    "start_time": "2022-03-10T11:16:18.360Z"
   },
   {
    "duration": 8,
    "start_time": "2022-03-10T11:16:18.412Z"
   },
   {
    "duration": 14,
    "start_time": "2022-03-10T11:16:18.422Z"
   },
   {
    "duration": 19,
    "start_time": "2022-03-10T11:16:18.438Z"
   },
   {
    "duration": 5,
    "start_time": "2022-03-10T11:16:18.459Z"
   },
   {
    "duration": 46,
    "start_time": "2022-03-10T11:16:18.466Z"
   },
   {
    "duration": 3,
    "start_time": "2022-03-10T11:16:18.513Z"
   },
   {
    "duration": 12,
    "start_time": "2022-03-10T11:16:18.517Z"
   },
   {
    "duration": 31,
    "start_time": "2022-03-10T11:16:18.531Z"
   },
   {
    "duration": 3,
    "start_time": "2022-03-10T11:16:18.564Z"
   },
   {
    "duration": 470,
    "start_time": "2022-03-10T11:16:18.568Z"
   },
   {
    "duration": 466,
    "start_time": "2022-03-10T11:16:19.040Z"
   },
   {
    "duration": 3,
    "start_time": "2022-03-10T11:16:19.508Z"
   },
   {
    "duration": 11,
    "start_time": "2022-03-10T11:16:19.513Z"
   },
   {
    "duration": 12,
    "start_time": "2022-03-10T11:16:19.526Z"
   },
   {
    "duration": 70,
    "start_time": "2022-03-10T11:16:19.539Z"
   },
   {
    "duration": 3,
    "start_time": "2022-03-10T11:16:19.611Z"
   },
   {
    "duration": 95,
    "start_time": "2022-03-10T11:16:19.616Z"
   },
   {
    "duration": 4,
    "start_time": "2022-03-10T11:16:19.713Z"
   },
   {
    "duration": 7,
    "start_time": "2022-03-10T11:16:19.719Z"
   },
   {
    "duration": 79,
    "start_time": "2022-03-10T11:16:19.728Z"
   },
   {
    "duration": 7,
    "start_time": "2022-03-10T11:16:19.809Z"
   },
   {
    "duration": 90,
    "start_time": "2022-03-10T11:16:19.817Z"
   },
   {
    "duration": 5,
    "start_time": "2022-03-10T11:16:19.908Z"
   },
   {
    "duration": 8,
    "start_time": "2022-03-10T11:16:19.914Z"
   },
   {
    "duration": 86,
    "start_time": "2022-03-10T11:16:19.923Z"
   },
   {
    "duration": 4,
    "start_time": "2022-03-10T11:16:20.011Z"
   },
   {
    "duration": 9,
    "start_time": "2022-03-10T11:16:20.017Z"
   },
   {
    "duration": 6,
    "start_time": "2022-03-10T11:16:20.105Z"
   },
   {
    "duration": 8,
    "start_time": "2022-03-10T11:16:20.113Z"
   },
   {
    "duration": 89,
    "start_time": "2022-03-10T11:16:20.122Z"
   },
   {
    "duration": 10,
    "start_time": "2022-03-10T11:19:50.220Z"
   },
   {
    "duration": 2538,
    "start_time": "2022-03-10T11:19:59.353Z"
   },
   {
    "duration": 1263,
    "start_time": "2022-03-10T11:20:01.893Z"
   },
   {
    "duration": 18,
    "start_time": "2022-03-10T11:20:03.158Z"
   },
   {
    "duration": 4,
    "start_time": "2022-03-10T11:20:03.177Z"
   },
   {
    "duration": 17,
    "start_time": "2022-03-10T11:20:03.182Z"
   },
   {
    "duration": 23,
    "start_time": "2022-03-10T11:20:03.200Z"
   },
   {
    "duration": 17,
    "start_time": "2022-03-10T11:20:03.224Z"
   },
   {
    "duration": 17,
    "start_time": "2022-03-10T11:20:03.243Z"
   },
   {
    "duration": 17,
    "start_time": "2022-03-10T11:20:03.261Z"
   },
   {
    "duration": 19,
    "start_time": "2022-03-10T11:20:03.279Z"
   },
   {
    "duration": 12,
    "start_time": "2022-03-10T11:20:03.299Z"
   },
   {
    "duration": 16,
    "start_time": "2022-03-10T11:20:03.313Z"
   },
   {
    "duration": 6568,
    "start_time": "2022-03-10T11:20:03.331Z"
   },
   {
    "duration": 4,
    "start_time": "2022-03-10T11:20:09.901Z"
   },
   {
    "duration": 8,
    "start_time": "2022-03-10T11:20:09.906Z"
   },
   {
    "duration": 11,
    "start_time": "2022-03-10T11:20:09.915Z"
   },
   {
    "duration": 10,
    "start_time": "2022-03-10T11:20:09.928Z"
   },
   {
    "duration": 10,
    "start_time": "2022-03-10T11:20:09.940Z"
   },
   {
    "duration": 16,
    "start_time": "2022-03-10T11:20:09.951Z"
   },
   {
    "duration": 50,
    "start_time": "2022-03-10T11:20:09.969Z"
   },
   {
    "duration": 16,
    "start_time": "2022-03-10T11:20:10.020Z"
   },
   {
    "duration": 16,
    "start_time": "2022-03-10T11:20:10.038Z"
   },
   {
    "duration": 7,
    "start_time": "2022-03-10T11:20:10.058Z"
   },
   {
    "duration": 41,
    "start_time": "2022-03-10T11:20:10.068Z"
   },
   {
    "duration": 17,
    "start_time": "2022-03-10T11:20:10.111Z"
   },
   {
    "duration": 5,
    "start_time": "2022-03-10T11:20:10.129Z"
   },
   {
    "duration": 19,
    "start_time": "2022-03-10T11:20:10.135Z"
   },
   {
    "duration": 3,
    "start_time": "2022-03-10T11:20:10.156Z"
   },
   {
    "duration": 7,
    "start_time": "2022-03-10T11:20:10.161Z"
   },
   {
    "duration": 54,
    "start_time": "2022-03-10T11:20:10.170Z"
   },
   {
    "duration": 2,
    "start_time": "2022-03-10T11:20:10.225Z"
   },
   {
    "duration": 468,
    "start_time": "2022-03-10T11:20:10.229Z"
   },
   {
    "duration": 563,
    "start_time": "2022-03-10T11:20:10.705Z"
   },
   {
    "duration": 4,
    "start_time": "2022-03-10T11:20:11.270Z"
   },
   {
    "duration": 7,
    "start_time": "2022-03-10T11:20:11.275Z"
   },
   {
    "duration": 22,
    "start_time": "2022-03-10T11:20:11.284Z"
   },
   {
    "duration": 10,
    "start_time": "2022-03-10T11:20:11.309Z"
   },
   {
    "duration": 4,
    "start_time": "2022-03-10T11:20:11.406Z"
   },
   {
    "duration": 97,
    "start_time": "2022-03-10T11:20:11.411Z"
   },
   {
    "duration": 7,
    "start_time": "2022-03-10T11:20:11.509Z"
   },
   {
    "duration": 8,
    "start_time": "2022-03-10T11:20:11.518Z"
   },
   {
    "duration": 9,
    "start_time": "2022-03-10T11:20:11.527Z"
   },
   {
    "duration": 10,
    "start_time": "2022-03-10T11:20:11.537Z"
   },
   {
    "duration": 62,
    "start_time": "2022-03-10T11:20:11.548Z"
   },
   {
    "duration": 7,
    "start_time": "2022-03-10T11:20:11.612Z"
   },
   {
    "duration": 85,
    "start_time": "2022-03-10T11:20:11.621Z"
   },
   {
    "duration": 5,
    "start_time": "2022-03-10T11:20:11.708Z"
   },
   {
    "duration": 9,
    "start_time": "2022-03-10T11:20:11.715Z"
   },
   {
    "duration": 4,
    "start_time": "2022-03-10T11:20:11.806Z"
   },
   {
    "duration": 8,
    "start_time": "2022-03-10T11:20:11.812Z"
   },
   {
    "duration": 86,
    "start_time": "2022-03-10T11:20:11.822Z"
   },
   {
    "duration": 9,
    "start_time": "2022-03-10T11:20:11.910Z"
   },
   {
    "duration": 88,
    "start_time": "2022-03-10T11:20:11.921Z"
   },
   {
    "duration": 262,
    "start_time": "2022-03-11T11:05:45.767Z"
   },
   {
    "duration": 13,
    "start_time": "2022-03-11T11:05:47.619Z"
   },
   {
    "duration": 316,
    "start_time": "2022-03-11T11:05:56.657Z"
   },
   {
    "duration": 4,
    "start_time": "2022-03-11T11:06:00.898Z"
   },
   {
    "duration": 5,
    "start_time": "2022-03-11T11:06:03.333Z"
   },
   {
    "duration": 3,
    "start_time": "2022-03-11T11:06:31.503Z"
   },
   {
    "duration": 5,
    "start_time": "2022-03-11T11:06:48.628Z"
   },
   {
    "duration": 6,
    "start_time": "2022-03-11T11:06:58.338Z"
   },
   {
    "duration": 6,
    "start_time": "2022-03-11T11:07:02.424Z"
   },
   {
    "duration": 6,
    "start_time": "2022-03-11T11:07:21.881Z"
   },
   {
    "duration": 89,
    "start_time": "2022-03-11T11:07:34.885Z"
   },
   {
    "duration": 97,
    "start_time": "2022-03-11T11:07:36.514Z"
   },
   {
    "duration": 6,
    "start_time": "2022-03-11T11:07:39.765Z"
   },
   {
    "duration": 6,
    "start_time": "2022-03-11T11:07:47.694Z"
   },
   {
    "duration": 8,
    "start_time": "2022-03-11T11:07:50.962Z"
   },
   {
    "duration": 9,
    "start_time": "2022-03-11T11:08:04.961Z"
   },
   {
    "duration": 91,
    "start_time": "2022-03-11T11:08:11.431Z"
   },
   {
    "duration": 80,
    "start_time": "2022-03-11T11:08:15.320Z"
   },
   {
    "duration": 6,
    "start_time": "2022-03-11T11:08:18.341Z"
   },
   {
    "duration": 6,
    "start_time": "2022-03-11T11:08:22.144Z"
   },
   {
    "duration": 6,
    "start_time": "2022-03-11T11:08:23.721Z"
   },
   {
    "duration": 6,
    "start_time": "2022-03-11T11:08:29.866Z"
   },
   {
    "duration": 6,
    "start_time": "2022-03-11T11:09:10.000Z"
   },
   {
    "duration": 6,
    "start_time": "2022-03-11T11:09:14.084Z"
   },
   {
    "duration": 7,
    "start_time": "2022-03-11T11:09:27.257Z"
   },
   {
    "duration": 6,
    "start_time": "2022-03-11T11:09:29.798Z"
   },
   {
    "duration": 8,
    "start_time": "2022-03-11T11:09:32.814Z"
   },
   {
    "duration": 5,
    "start_time": "2022-03-11T11:09:37.011Z"
   },
   {
    "duration": 219,
    "start_time": "2022-03-12T23:20:45.759Z"
   },
   {
    "duration": 57253,
    "start_time": "2022-03-12T23:22:04.291Z"
   },
   {
    "duration": 1197,
    "start_time": "2022-03-12T23:23:01.547Z"
   },
   {
    "duration": 46,
    "start_time": "2022-03-12T23:23:02.746Z"
   },
   {
    "duration": 4,
    "start_time": "2022-03-12T23:23:02.794Z"
   },
   {
    "duration": 20,
    "start_time": "2022-03-12T23:23:02.799Z"
   },
   {
    "duration": 6,
    "start_time": "2022-03-12T23:23:02.821Z"
   },
   {
    "duration": 11,
    "start_time": "2022-03-12T23:23:02.828Z"
   },
   {
    "duration": 11,
    "start_time": "2022-03-12T23:23:02.841Z"
   },
   {
    "duration": 5,
    "start_time": "2022-03-12T23:23:02.854Z"
   },
   {
    "duration": 8,
    "start_time": "2022-03-12T23:23:02.860Z"
   },
   {
    "duration": 6,
    "start_time": "2022-03-12T23:23:02.869Z"
   },
   {
    "duration": 2,
    "start_time": "2022-03-12T23:23:02.877Z"
   },
   {
    "duration": 7971,
    "start_time": "2022-03-12T23:23:02.880Z"
   },
   {
    "duration": 3,
    "start_time": "2022-03-12T23:23:10.853Z"
   },
   {
    "duration": 6,
    "start_time": "2022-03-12T23:23:10.858Z"
   },
   {
    "duration": 11,
    "start_time": "2022-03-12T23:23:10.865Z"
   },
   {
    "duration": 11,
    "start_time": "2022-03-12T23:23:10.877Z"
   },
   {
    "duration": 9,
    "start_time": "2022-03-12T23:23:10.889Z"
   },
   {
    "duration": 18,
    "start_time": "2022-03-12T23:23:10.900Z"
   },
   {
    "duration": 48,
    "start_time": "2022-03-12T23:23:10.919Z"
   },
   {
    "duration": 17,
    "start_time": "2022-03-12T23:23:10.969Z"
   },
   {
    "duration": 18,
    "start_time": "2022-03-12T23:23:10.988Z"
   },
   {
    "duration": 7,
    "start_time": "2022-03-12T23:23:11.010Z"
   },
   {
    "duration": 7,
    "start_time": "2022-03-12T23:23:11.019Z"
   },
   {
    "duration": 23,
    "start_time": "2022-03-12T23:23:11.064Z"
   },
   {
    "duration": 5,
    "start_time": "2022-03-12T23:23:11.088Z"
   },
   {
    "duration": 18,
    "start_time": "2022-03-12T23:23:11.095Z"
   },
   {
    "duration": 3,
    "start_time": "2022-03-12T23:23:11.115Z"
   },
   {
    "duration": 6,
    "start_time": "2022-03-12T23:23:11.119Z"
   },
   {
    "duration": 54,
    "start_time": "2022-03-12T23:23:11.127Z"
   },
   {
    "duration": 2,
    "start_time": "2022-03-12T23:23:11.183Z"
   },
   {
    "duration": 525,
    "start_time": "2022-03-12T23:23:11.186Z"
   },
   {
    "duration": 559,
    "start_time": "2022-03-12T23:23:11.713Z"
   },
   {
    "duration": 4,
    "start_time": "2022-03-12T23:23:12.273Z"
   },
   {
    "duration": 5,
    "start_time": "2022-03-12T23:23:12.280Z"
   },
   {
    "duration": 10,
    "start_time": "2022-03-12T23:23:12.287Z"
   },
   {
    "duration": 72,
    "start_time": "2022-03-12T23:23:12.300Z"
   },
   {
    "duration": 87,
    "start_time": "2022-03-12T23:23:12.374Z"
   },
   {
    "duration": 96,
    "start_time": "2022-03-12T23:23:12.464Z"
   },
   {
    "duration": 3,
    "start_time": "2022-03-12T23:23:12.561Z"
   },
   {
    "duration": 7,
    "start_time": "2022-03-12T23:23:12.565Z"
   },
   {
    "duration": 7,
    "start_time": "2022-03-12T23:23:12.573Z"
   },
   {
    "duration": 352,
    "start_time": "2022-03-12T23:23:12.583Z"
   },
   {
    "duration": -109,
    "start_time": "2022-03-12T23:23:13.046Z"
   },
   {
    "duration": -115,
    "start_time": "2022-03-12T23:23:13.054Z"
   },
   {
    "duration": -121,
    "start_time": "2022-03-12T23:23:13.061Z"
   },
   {
    "duration": -125,
    "start_time": "2022-03-12T23:23:13.067Z"
   },
   {
    "duration": -136,
    "start_time": "2022-03-12T23:23:13.079Z"
   },
   {
    "duration": -140,
    "start_time": "2022-03-12T23:23:13.085Z"
   },
   {
    "duration": -151,
    "start_time": "2022-03-12T23:23:13.097Z"
   },
   {
    "duration": -156,
    "start_time": "2022-03-12T23:23:13.104Z"
   },
   {
    "duration": -165,
    "start_time": "2022-03-12T23:23:13.114Z"
   },
   {
    "duration": -169,
    "start_time": "2022-03-12T23:23:13.120Z"
   },
   {
    "duration": 4,
    "start_time": "2022-03-12T23:34:22.280Z"
   },
   {
    "duration": 38161,
    "start_time": "2022-03-12T23:56:15.352Z"
   },
   {
    "duration": 1117,
    "start_time": "2022-03-12T23:56:53.515Z"
   },
   {
    "duration": 12,
    "start_time": "2022-03-12T23:56:54.634Z"
   },
   {
    "duration": 4,
    "start_time": "2022-03-12T23:56:54.648Z"
   },
   {
    "duration": 15,
    "start_time": "2022-03-12T23:56:54.654Z"
   },
   {
    "duration": 7,
    "start_time": "2022-03-12T23:56:54.671Z"
   },
   {
    "duration": 4,
    "start_time": "2022-03-12T23:56:54.680Z"
   },
   {
    "duration": 7,
    "start_time": "2022-03-12T23:56:54.686Z"
   },
   {
    "duration": 6,
    "start_time": "2022-03-12T23:56:54.696Z"
   },
   {
    "duration": 4,
    "start_time": "2022-03-12T23:56:54.703Z"
   },
   {
    "duration": 7,
    "start_time": "2022-03-12T23:56:54.709Z"
   },
   {
    "duration": 41,
    "start_time": "2022-03-12T23:56:54.718Z"
   },
   {
    "duration": 7707,
    "start_time": "2022-03-12T23:56:54.761Z"
   },
   {
    "duration": 4,
    "start_time": "2022-03-12T23:57:02.470Z"
   },
   {
    "duration": 6,
    "start_time": "2022-03-12T23:57:02.475Z"
   },
   {
    "duration": 13,
    "start_time": "2022-03-12T23:57:02.482Z"
   },
   {
    "duration": 10,
    "start_time": "2022-03-12T23:57:02.497Z"
   },
   {
    "duration": 10,
    "start_time": "2022-03-12T23:57:02.509Z"
   },
   {
    "duration": 41,
    "start_time": "2022-03-12T23:57:02.520Z"
   },
   {
    "duration": 18,
    "start_time": "2022-03-12T23:57:02.563Z"
   },
   {
    "duration": 16,
    "start_time": "2022-03-12T23:57:02.582Z"
   },
   {
    "duration": 16,
    "start_time": "2022-03-12T23:57:02.600Z"
   },
   {
    "duration": 40,
    "start_time": "2022-03-12T23:57:02.620Z"
   },
   {
    "duration": 7,
    "start_time": "2022-03-12T23:57:02.663Z"
   },
   {
    "duration": 22,
    "start_time": "2022-03-12T23:57:02.672Z"
   },
   {
    "duration": 5,
    "start_time": "2022-03-12T23:57:02.695Z"
   },
   {
    "duration": 17,
    "start_time": "2022-03-12T23:57:02.702Z"
   },
   {
    "duration": 38,
    "start_time": "2022-03-12T23:57:02.721Z"
   },
   {
    "duration": 8,
    "start_time": "2022-03-12T23:57:02.761Z"
   },
   {
    "duration": 24,
    "start_time": "2022-03-12T23:57:02.771Z"
   },
   {
    "duration": 2,
    "start_time": "2022-03-12T23:57:02.797Z"
   },
   {
    "duration": 500,
    "start_time": "2022-03-12T23:57:02.800Z"
   },
   {
    "duration": 503,
    "start_time": "2022-03-12T23:57:03.302Z"
   },
   {
    "duration": 4,
    "start_time": "2022-03-12T23:57:03.807Z"
   },
   {
    "duration": 7,
    "start_time": "2022-03-12T23:57:03.812Z"
   },
   {
    "duration": 39,
    "start_time": "2022-03-12T23:57:03.821Z"
   },
   {
    "duration": 9,
    "start_time": "2022-03-12T23:57:03.862Z"
   },
   {
    "duration": 90,
    "start_time": "2022-03-12T23:57:03.873Z"
   },
   {
    "duration": 96,
    "start_time": "2022-03-12T23:57:03.966Z"
   },
   {
    "duration": 3,
    "start_time": "2022-03-12T23:57:04.064Z"
   },
   {
    "duration": 6,
    "start_time": "2022-03-12T23:57:04.069Z"
   },
   {
    "duration": 11,
    "start_time": "2022-03-12T23:57:04.076Z"
   },
   {
    "duration": 5,
    "start_time": "2022-03-12T23:57:04.089Z"
   },
   {
    "duration": 68,
    "start_time": "2022-03-12T23:57:04.096Z"
   },
   {
    "duration": 6,
    "start_time": "2022-03-12T23:57:04.166Z"
   },
   {
    "duration": 89,
    "start_time": "2022-03-12T23:57:04.175Z"
   },
   {
    "duration": 8,
    "start_time": "2022-03-12T23:57:04.266Z"
   },
   {
    "duration": 88,
    "start_time": "2022-03-12T23:57:04.276Z"
   },
   {
    "duration": 6,
    "start_time": "2022-03-12T23:57:04.366Z"
   },
   {
    "duration": 87,
    "start_time": "2022-03-12T23:57:04.374Z"
   },
   {
    "duration": 7,
    "start_time": "2022-03-12T23:57:04.464Z"
   },
   {
    "duration": 93,
    "start_time": "2022-03-12T23:57:04.473Z"
   },
   {
    "duration": 729,
    "start_time": "2022-03-12T23:57:04.568Z"
   },
   {
    "duration": 236,
    "start_time": "2022-03-13T00:05:40.292Z"
   },
   {
    "duration": 10,
    "start_time": "2022-03-13T00:06:02.778Z"
   },
   {
    "duration": 9025,
    "start_time": "2022-03-14T21:10:23.727Z"
   },
   {
    "duration": 1870,
    "start_time": "2022-03-14T21:10:32.755Z"
   },
   {
    "duration": 14,
    "start_time": "2022-03-14T21:10:34.628Z"
   },
   {
    "duration": 9,
    "start_time": "2022-03-14T21:10:34.645Z"
   },
   {
    "duration": 28,
    "start_time": "2022-03-14T21:10:34.656Z"
   },
   {
    "duration": 9,
    "start_time": "2022-03-14T21:10:34.686Z"
   },
   {
    "duration": 36,
    "start_time": "2022-03-14T21:10:34.698Z"
   },
   {
    "duration": 29,
    "start_time": "2022-03-14T21:10:34.738Z"
   },
   {
    "duration": 12,
    "start_time": "2022-03-14T21:10:34.770Z"
   },
   {
    "duration": 29,
    "start_time": "2022-03-14T21:10:34.785Z"
   },
   {
    "duration": 23,
    "start_time": "2022-03-14T21:10:34.816Z"
   },
   {
    "duration": 31,
    "start_time": "2022-03-14T21:10:34.842Z"
   },
   {
    "duration": 12288,
    "start_time": "2022-03-14T21:10:34.876Z"
   },
   {
    "duration": 16,
    "start_time": "2022-03-14T21:10:47.167Z"
   },
   {
    "duration": 10,
    "start_time": "2022-03-14T21:10:47.186Z"
   },
   {
    "duration": 34,
    "start_time": "2022-03-14T21:10:47.199Z"
   },
   {
    "duration": 34,
    "start_time": "2022-03-14T21:10:47.236Z"
   },
   {
    "duration": 37,
    "start_time": "2022-03-14T21:10:47.273Z"
   },
   {
    "duration": 33,
    "start_time": "2022-03-14T21:10:47.313Z"
   },
   {
    "duration": 45,
    "start_time": "2022-03-14T21:10:47.349Z"
   },
   {
    "duration": 38,
    "start_time": "2022-03-14T21:10:47.397Z"
   },
   {
    "duration": 68,
    "start_time": "2022-03-14T21:10:47.438Z"
   },
   {
    "duration": 12,
    "start_time": "2022-03-14T21:10:47.515Z"
   },
   {
    "duration": 29,
    "start_time": "2022-03-14T21:10:47.532Z"
   },
   {
    "duration": 55,
    "start_time": "2022-03-14T21:10:47.564Z"
   },
   {
    "duration": 8,
    "start_time": "2022-03-14T21:10:47.621Z"
   },
   {
    "duration": 8,
    "start_time": "2022-03-14T21:10:47.631Z"
   },
   {
    "duration": 20,
    "start_time": "2022-03-14T21:10:47.642Z"
   },
   {
    "duration": 46,
    "start_time": "2022-03-14T21:10:47.664Z"
   },
   {
    "duration": 4,
    "start_time": "2022-03-14T21:10:47.712Z"
   },
   {
    "duration": 786,
    "start_time": "2022-03-14T21:10:47.718Z"
   },
   {
    "duration": 942,
    "start_time": "2022-03-14T21:10:48.507Z"
   },
   {
    "duration": 33,
    "start_time": "2022-03-14T21:10:49.452Z"
   },
   {
    "duration": 17,
    "start_time": "2022-03-14T21:10:49.487Z"
   },
   {
    "duration": 16,
    "start_time": "2022-03-14T21:10:49.506Z"
   },
   {
    "duration": 581,
    "start_time": "2022-03-14T21:10:49.526Z"
   },
   {
    "duration": -132,
    "start_time": "2022-03-14T21:10:50.241Z"
   },
   {
    "duration": -144,
    "start_time": "2022-03-14T21:10:50.255Z"
   },
   {
    "duration": -149,
    "start_time": "2022-03-14T21:10:50.262Z"
   },
   {
    "duration": -177,
    "start_time": "2022-03-14T21:10:50.291Z"
   },
   {
    "duration": -199,
    "start_time": "2022-03-14T21:10:50.314Z"
   },
   {
    "duration": -210,
    "start_time": "2022-03-14T21:10:50.327Z"
   },
   {
    "duration": -219,
    "start_time": "2022-03-14T21:10:50.338Z"
   },
   {
    "duration": -243,
    "start_time": "2022-03-14T21:10:50.363Z"
   },
   {
    "duration": -267,
    "start_time": "2022-03-14T21:10:50.388Z"
   },
   {
    "duration": -271,
    "start_time": "2022-03-14T21:10:50.394Z"
   },
   {
    "duration": -293,
    "start_time": "2022-03-14T21:10:50.417Z"
   },
   {
    "duration": -302,
    "start_time": "2022-03-14T21:10:50.427Z"
   },
   {
    "duration": -318,
    "start_time": "2022-03-14T21:10:50.445Z"
   },
   {
    "duration": -333,
    "start_time": "2022-03-14T21:10:50.461Z"
   },
   {
    "duration": -348,
    "start_time": "2022-03-14T21:10:50.477Z"
   },
   {
    "duration": -363,
    "start_time": "2022-03-14T21:10:50.494Z"
   },
   {
    "duration": 4222,
    "start_time": "2022-03-14T21:19:53.191Z"
   },
   {
    "duration": 1592,
    "start_time": "2022-03-14T21:19:57.416Z"
   },
   {
    "duration": 20,
    "start_time": "2022-03-14T21:19:59.012Z"
   },
   {
    "duration": 6,
    "start_time": "2022-03-14T21:19:59.035Z"
   },
   {
    "duration": 20,
    "start_time": "2022-03-14T21:19:59.043Z"
   },
   {
    "duration": 23,
    "start_time": "2022-03-14T21:19:59.065Z"
   },
   {
    "duration": 11,
    "start_time": "2022-03-14T21:19:59.090Z"
   },
   {
    "duration": 17,
    "start_time": "2022-03-14T21:19:59.104Z"
   },
   {
    "duration": 7,
    "start_time": "2022-03-14T21:19:59.125Z"
   },
   {
    "duration": 10,
    "start_time": "2022-03-14T21:19:59.134Z"
   },
   {
    "duration": 12,
    "start_time": "2022-03-14T21:19:59.146Z"
   },
   {
    "duration": 2,
    "start_time": "2022-03-14T21:19:59.183Z"
   },
   {
    "duration": 11580,
    "start_time": "2022-03-14T21:19:59.188Z"
   },
   {
    "duration": 14,
    "start_time": "2022-03-14T21:20:10.772Z"
   },
   {
    "duration": 22,
    "start_time": "2022-03-14T21:20:10.789Z"
   },
   {
    "duration": 49,
    "start_time": "2022-03-14T21:20:10.814Z"
   },
   {
    "duration": 36,
    "start_time": "2022-03-14T21:20:10.866Z"
   },
   {
    "duration": 30,
    "start_time": "2022-03-14T21:20:10.904Z"
   },
   {
    "duration": 32,
    "start_time": "2022-03-14T21:20:10.937Z"
   },
   {
    "duration": 35,
    "start_time": "2022-03-14T21:20:10.972Z"
   },
   {
    "duration": 26,
    "start_time": "2022-03-14T21:20:11.010Z"
   },
   {
    "duration": 32,
    "start_time": "2022-03-14T21:20:11.039Z"
   },
   {
    "duration": 11,
    "start_time": "2022-03-14T21:20:11.085Z"
   },
   {
    "duration": 29,
    "start_time": "2022-03-14T21:20:11.099Z"
   },
   {
    "duration": 52,
    "start_time": "2022-03-14T21:20:11.131Z"
   },
   {
    "duration": 12,
    "start_time": "2022-03-14T21:20:11.185Z"
   },
   {
    "duration": 22,
    "start_time": "2022-03-14T21:20:11.200Z"
   },
   {
    "duration": 16,
    "start_time": "2022-03-14T21:20:11.225Z"
   },
   {
    "duration": 56,
    "start_time": "2022-03-14T21:20:11.244Z"
   },
   {
    "duration": 3,
    "start_time": "2022-03-14T21:20:11.303Z"
   },
   {
    "duration": 923,
    "start_time": "2022-03-14T21:20:11.308Z"
   },
   {
    "duration": 887,
    "start_time": "2022-03-14T21:20:12.233Z"
   },
   {
    "duration": 7,
    "start_time": "2022-03-14T21:20:13.122Z"
   },
   {
    "duration": 9,
    "start_time": "2022-03-14T21:20:13.131Z"
   },
   {
    "duration": 44,
    "start_time": "2022-03-14T21:20:13.142Z"
   },
   {
    "duration": 100,
    "start_time": "2022-03-14T21:20:13.189Z"
   },
   {
    "duration": 95,
    "start_time": "2022-03-14T21:20:13.292Z"
   },
   {
    "duration": 100,
    "start_time": "2022-03-14T21:20:13.391Z"
   },
   {
    "duration": 4,
    "start_time": "2022-03-14T21:20:13.493Z"
   },
   {
    "duration": 11,
    "start_time": "2022-03-14T21:20:13.499Z"
   },
   {
    "duration": 18,
    "start_time": "2022-03-14T21:20:13.513Z"
   },
   {
    "duration": 10,
    "start_time": "2022-03-14T21:20:13.583Z"
   },
   {
    "duration": 87,
    "start_time": "2022-03-14T21:20:13.597Z"
   },
   {
    "duration": 9,
    "start_time": "2022-03-14T21:20:13.687Z"
   },
   {
    "duration": 86,
    "start_time": "2022-03-14T21:20:13.698Z"
   },
   {
    "duration": 13,
    "start_time": "2022-03-14T21:20:13.788Z"
   },
   {
    "duration": 10,
    "start_time": "2022-03-14T21:20:13.883Z"
   },
   {
    "duration": 87,
    "start_time": "2022-03-14T21:20:13.897Z"
   },
   {
    "duration": 10,
    "start_time": "2022-03-14T21:20:13.987Z"
   },
   {
    "duration": 85,
    "start_time": "2022-03-14T21:20:14.000Z"
   },
   {
    "duration": 100,
    "start_time": "2022-03-14T21:20:14.088Z"
   },
   {
    "duration": 98,
    "start_time": "2022-03-14T21:20:14.190Z"
   },
   {
    "duration": 3624,
    "start_time": "2022-03-14T23:21:21.732Z"
   },
   {
    "duration": 1446,
    "start_time": "2022-03-14T23:21:25.359Z"
   },
   {
    "duration": 15,
    "start_time": "2022-03-14T23:21:26.808Z"
   },
   {
    "duration": 5,
    "start_time": "2022-03-14T23:21:26.827Z"
   },
   {
    "duration": 23,
    "start_time": "2022-03-14T23:21:26.834Z"
   },
   {
    "duration": 27,
    "start_time": "2022-03-14T23:21:26.860Z"
   },
   {
    "duration": 7,
    "start_time": "2022-03-14T23:21:26.890Z"
   },
   {
    "duration": 11,
    "start_time": "2022-03-14T23:21:26.899Z"
   },
   {
    "duration": 13,
    "start_time": "2022-03-14T23:21:26.914Z"
   },
   {
    "duration": 5,
    "start_time": "2022-03-14T23:21:26.930Z"
   },
   {
    "duration": 13,
    "start_time": "2022-03-14T23:21:26.937Z"
   },
   {
    "duration": 3,
    "start_time": "2022-03-14T23:21:26.981Z"
   },
   {
    "duration": 11453,
    "start_time": "2022-03-14T23:21:26.986Z"
   },
   {
    "duration": 6,
    "start_time": "2022-03-14T23:21:38.441Z"
   },
   {
    "duration": 21,
    "start_time": "2022-03-14T23:21:38.449Z"
   },
   {
    "duration": 33,
    "start_time": "2022-03-14T23:21:38.472Z"
   },
   {
    "duration": 28,
    "start_time": "2022-03-14T23:21:38.508Z"
   },
   {
    "duration": 25,
    "start_time": "2022-03-14T23:21:38.538Z"
   },
   {
    "duration": 44,
    "start_time": "2022-03-14T23:21:38.565Z"
   },
   {
    "duration": 30,
    "start_time": "2022-03-14T23:21:38.611Z"
   },
   {
    "duration": 48,
    "start_time": "2022-03-14T23:21:38.643Z"
   },
   {
    "duration": 38,
    "start_time": "2022-03-14T23:21:38.693Z"
   },
   {
    "duration": 23,
    "start_time": "2022-03-14T23:21:38.734Z"
   },
   {
    "duration": 23,
    "start_time": "2022-03-14T23:21:38.759Z"
   },
   {
    "duration": 27,
    "start_time": "2022-03-14T23:21:38.784Z"
   },
   {
    "duration": 11,
    "start_time": "2022-03-14T23:21:38.814Z"
   },
   {
    "duration": 5,
    "start_time": "2022-03-14T23:21:38.830Z"
   },
   {
    "duration": 9,
    "start_time": "2022-03-14T23:21:38.838Z"
   },
   {
    "duration": 60,
    "start_time": "2022-03-14T23:21:38.849Z"
   },
   {
    "duration": 3,
    "start_time": "2022-03-14T23:21:38.912Z"
   },
   {
    "duration": 753,
    "start_time": "2022-03-14T23:21:38.917Z"
   },
   {
    "duration": 847,
    "start_time": "2022-03-14T23:21:39.682Z"
   },
   {
    "duration": 8,
    "start_time": "2022-03-14T23:21:40.532Z"
   },
   {
    "duration": 31,
    "start_time": "2022-03-14T23:21:40.543Z"
   },
   {
    "duration": 26,
    "start_time": "2022-03-14T23:21:40.577Z"
   },
   {
    "duration": 182,
    "start_time": "2022-03-14T23:21:40.607Z"
   },
   {
    "duration": 91,
    "start_time": "2022-03-14T23:21:40.793Z"
   },
   {
    "duration": 14,
    "start_time": "2022-03-14T23:21:40.888Z"
   },
   {
    "duration": 79,
    "start_time": "2022-03-14T23:21:40.905Z"
   },
   {
    "duration": 10,
    "start_time": "2022-03-14T23:21:40.987Z"
   },
   {
    "duration": 13,
    "start_time": "2022-03-14T23:21:41.000Z"
   },
   {
    "duration": 70,
    "start_time": "2022-03-14T23:21:41.016Z"
   },
   {
    "duration": 8,
    "start_time": "2022-03-14T23:21:41.090Z"
   },
   {
    "duration": 9,
    "start_time": "2022-03-14T23:21:41.182Z"
   },
   {
    "duration": 89,
    "start_time": "2022-03-14T23:21:41.194Z"
   },
   {
    "duration": 8,
    "start_time": "2022-03-14T23:21:41.286Z"
   },
   {
    "duration": 89,
    "start_time": "2022-03-14T23:21:41.298Z"
   },
   {
    "duration": 91,
    "start_time": "2022-03-14T23:21:41.391Z"
   },
   {
    "duration": 9,
    "start_time": "2022-03-14T23:21:41.485Z"
   },
   {
    "duration": 88,
    "start_time": "2022-03-14T23:21:41.496Z"
   },
   {
    "duration": 100,
    "start_time": "2022-03-14T23:21:41.587Z"
   },
   {
    "duration": 101,
    "start_time": "2022-03-14T23:21:41.690Z"
   },
   {
    "duration": 1556,
    "start_time": "2022-03-15T16:28:18.991Z"
   },
   {
    "duration": 67,
    "start_time": "2022-03-15T16:28:20.549Z"
   },
   {
    "duration": 5,
    "start_time": "2022-03-15T16:28:21.483Z"
   },
   {
    "duration": 18,
    "start_time": "2022-03-15T16:28:22.478Z"
   },
   {
    "duration": 9,
    "start_time": "2022-03-15T16:28:22.998Z"
   },
   {
    "duration": 5,
    "start_time": "2022-03-15T16:28:24.281Z"
   },
   {
    "duration": 9,
    "start_time": "2022-03-15T16:28:24.599Z"
   },
   {
    "duration": 11,
    "start_time": "2022-03-15T16:28:25.166Z"
   },
   {
    "duration": 5,
    "start_time": "2022-03-15T16:28:25.636Z"
   },
   {
    "duration": 9,
    "start_time": "2022-03-15T16:28:25.820Z"
   },
   {
    "duration": 3,
    "start_time": "2022-03-15T16:28:26.615Z"
   },
   {
    "duration": 11856,
    "start_time": "2022-03-15T16:28:28.354Z"
   },
   {
    "duration": 6,
    "start_time": "2022-03-15T16:28:40.213Z"
   },
   {
    "duration": 9,
    "start_time": "2022-03-15T16:28:40.222Z"
   },
   {
    "duration": 40,
    "start_time": "2022-03-15T16:28:40.234Z"
   },
   {
    "duration": 16,
    "start_time": "2022-03-15T16:28:40.277Z"
   },
   {
    "duration": 15,
    "start_time": "2022-03-15T16:28:40.295Z"
   },
   {
    "duration": 20,
    "start_time": "2022-03-15T16:28:40.313Z"
   },
   {
    "duration": 70,
    "start_time": "2022-03-15T16:28:40.336Z"
   },
   {
    "duration": 21,
    "start_time": "2022-03-15T16:28:40.408Z"
   },
   {
    "duration": 61,
    "start_time": "2022-03-15T16:28:40.431Z"
   },
   {
    "duration": 11,
    "start_time": "2022-03-15T16:28:45.594Z"
   },
   {
    "duration": 8,
    "start_time": "2022-03-15T16:28:55.274Z"
   },
   {
    "duration": 12,
    "start_time": "2022-03-15T16:29:09.910Z"
   },
   {
    "duration": 16,
    "start_time": "2022-03-15T16:29:23.468Z"
   },
   {
    "duration": 22,
    "start_time": "2022-03-15T16:29:27.142Z"
   },
   {
    "duration": 28,
    "start_time": "2022-03-15T16:29:30.389Z"
   },
   {
    "duration": 15,
    "start_time": "2022-03-15T16:29:34.665Z"
   },
   {
    "duration": 361,
    "start_time": "2022-03-15T16:30:18.462Z"
   },
   {
    "duration": 5,
    "start_time": "2022-03-15T16:30:23.887Z"
   },
   {
    "duration": 5,
    "start_time": "2022-03-15T16:30:24.294Z"
   },
   {
    "duration": 652,
    "start_time": "2022-03-15T16:30:25.154Z"
   },
   {
    "duration": 5,
    "start_time": "2022-03-15T16:30:35.980Z"
   },
   {
    "duration": 47,
    "start_time": "2022-03-15T16:30:37.492Z"
   },
   {
    "duration": 792,
    "start_time": "2022-03-15T16:30:47.989Z"
   },
   {
    "duration": 962,
    "start_time": "2022-03-15T16:30:48.785Z"
   },
   {
    "duration": 20,
    "start_time": "2022-03-15T16:31:14.284Z"
   },
   {
    "duration": 19,
    "start_time": "2022-03-15T16:31:32.593Z"
   },
   {
    "duration": 814,
    "start_time": "2022-03-15T16:31:41.874Z"
   },
   {
    "duration": 913,
    "start_time": "2022-03-15T16:32:47.477Z"
   },
   {
    "duration": 880,
    "start_time": "2022-03-15T16:32:58.251Z"
   },
   {
    "duration": 19,
    "start_time": "2022-03-15T16:33:03.086Z"
   },
   {
    "duration": 19,
    "start_time": "2022-03-15T16:33:22.306Z"
   },
   {
    "duration": 18,
    "start_time": "2022-03-15T16:33:31.890Z"
   },
   {
    "duration": 632,
    "start_time": "2022-03-15T17:05:06.016Z"
   },
   {
    "duration": 9505,
    "start_time": "2022-03-15T17:05:18.340Z"
   },
   {
    "duration": 1873,
    "start_time": "2022-03-15T17:05:27.848Z"
   },
   {
    "duration": 23,
    "start_time": "2022-03-15T17:05:29.724Z"
   },
   {
    "duration": 18,
    "start_time": "2022-03-15T17:05:29.750Z"
   },
   {
    "duration": 46,
    "start_time": "2022-03-15T17:05:29.770Z"
   },
   {
    "duration": 33,
    "start_time": "2022-03-15T17:05:29.819Z"
   },
   {
    "duration": 15,
    "start_time": "2022-03-15T17:05:29.854Z"
   },
   {
    "duration": 36,
    "start_time": "2022-03-15T17:05:29.873Z"
   },
   {
    "duration": 32,
    "start_time": "2022-03-15T17:05:29.913Z"
   },
   {
    "duration": 27,
    "start_time": "2022-03-15T17:05:29.948Z"
   },
   {
    "duration": 40,
    "start_time": "2022-03-15T17:05:29.978Z"
   },
   {
    "duration": 45,
    "start_time": "2022-03-15T17:05:30.021Z"
   },
   {
    "duration": 12182,
    "start_time": "2022-03-15T17:05:30.069Z"
   },
   {
    "duration": 6,
    "start_time": "2022-03-15T17:05:42.254Z"
   },
   {
    "duration": 23,
    "start_time": "2022-03-15T17:05:42.263Z"
   },
   {
    "duration": 20,
    "start_time": "2022-03-15T17:05:42.288Z"
   },
   {
    "duration": 16,
    "start_time": "2022-03-15T17:05:42.310Z"
   },
   {
    "duration": 14,
    "start_time": "2022-03-15T17:05:42.328Z"
   },
   {
    "duration": 56,
    "start_time": "2022-03-15T17:05:42.344Z"
   },
   {
    "duration": 24,
    "start_time": "2022-03-15T17:05:42.402Z"
   },
   {
    "duration": 56,
    "start_time": "2022-03-15T17:05:42.428Z"
   },
   {
    "duration": 26,
    "start_time": "2022-03-15T17:05:42.486Z"
   },
   {
    "duration": 11,
    "start_time": "2022-03-15T17:05:42.518Z"
   },
   {
    "duration": 10,
    "start_time": "2022-03-15T17:05:42.532Z"
   },
   {
    "duration": 25,
    "start_time": "2022-03-15T17:05:42.583Z"
   },
   {
    "duration": 29,
    "start_time": "2022-03-15T17:05:42.611Z"
   },
   {
    "duration": 7,
    "start_time": "2022-03-15T17:05:42.682Z"
   },
   {
    "duration": 6,
    "start_time": "2022-03-15T17:05:42.691Z"
   },
   {
    "duration": 6,
    "start_time": "2022-03-15T17:05:42.699Z"
   },
   {
    "duration": 39,
    "start_time": "2022-03-15T17:05:42.707Z"
   },
   {
    "duration": 34,
    "start_time": "2022-03-15T17:05:42.748Z"
   },
   {
    "duration": 908,
    "start_time": "2022-03-15T17:05:42.784Z"
   },
   {
    "duration": 905,
    "start_time": "2022-03-15T17:05:43.695Z"
   },
   {
    "duration": 6,
    "start_time": "2022-03-15T17:05:44.603Z"
   },
   {
    "duration": 11,
    "start_time": "2022-03-15T17:05:44.611Z"
   },
   {
    "duration": 15,
    "start_time": "2022-03-15T17:05:44.624Z"
   },
   {
    "duration": 99,
    "start_time": "2022-03-15T17:05:44.684Z"
   },
   {
    "duration": 6,
    "start_time": "2022-03-15T17:05:44.787Z"
   },
   {
    "duration": 107,
    "start_time": "2022-03-15T17:05:44.795Z"
   },
   {
    "duration": 4,
    "start_time": "2022-03-15T17:05:44.905Z"
   },
   {
    "duration": 21,
    "start_time": "2022-03-15T17:05:44.911Z"
   },
   {
    "duration": 18,
    "start_time": "2022-03-15T17:05:44.935Z"
   },
   {
    "duration": 6,
    "start_time": "2022-03-15T17:05:44.984Z"
   },
   {
    "duration": 92,
    "start_time": "2022-03-15T17:05:44.993Z"
   },
   {
    "duration": 17,
    "start_time": "2022-03-15T17:05:45.087Z"
   },
   {
    "duration": 7,
    "start_time": "2022-03-15T17:05:45.108Z"
   },
   {
    "duration": 7,
    "start_time": "2022-03-15T17:05:45.183Z"
   },
   {
    "duration": 94,
    "start_time": "2022-03-15T17:05:45.193Z"
   },
   {
    "duration": 12,
    "start_time": "2022-03-15T17:05:45.290Z"
   },
   {
    "duration": 9,
    "start_time": "2022-03-15T17:05:45.385Z"
   },
   {
    "duration": 91,
    "start_time": "2022-03-15T17:05:45.397Z"
   },
   {
    "duration": 99,
    "start_time": "2022-03-15T17:05:45.491Z"
   },
   {
    "duration": 94,
    "start_time": "2022-03-15T17:05:45.593Z"
   },
   {
    "duration": 4043,
    "start_time": "2022-03-15T17:09:39.846Z"
   },
   {
    "duration": 1652,
    "start_time": "2022-03-15T17:09:43.892Z"
   },
   {
    "duration": 20,
    "start_time": "2022-03-15T17:09:45.547Z"
   },
   {
    "duration": 12,
    "start_time": "2022-03-15T17:09:45.570Z"
   },
   {
    "duration": 25,
    "start_time": "2022-03-15T17:09:45.585Z"
   },
   {
    "duration": 9,
    "start_time": "2022-03-15T17:09:45.613Z"
   },
   {
    "duration": 10,
    "start_time": "2022-03-15T17:09:45.625Z"
   },
   {
    "duration": 11,
    "start_time": "2022-03-15T17:09:45.640Z"
   },
   {
    "duration": 10,
    "start_time": "2022-03-15T17:09:45.682Z"
   },
   {
    "duration": 16,
    "start_time": "2022-03-15T17:09:45.694Z"
   },
   {
    "duration": 26,
    "start_time": "2022-03-15T17:09:45.712Z"
   },
   {
    "duration": 21,
    "start_time": "2022-03-15T17:09:45.741Z"
   },
   {
    "duration": 12144,
    "start_time": "2022-03-15T17:09:45.765Z"
   },
   {
    "duration": 5,
    "start_time": "2022-03-15T17:09:57.911Z"
   },
   {
    "duration": 20,
    "start_time": "2022-03-15T17:09:57.918Z"
   },
   {
    "duration": 35,
    "start_time": "2022-03-15T17:09:57.941Z"
   },
   {
    "duration": 36,
    "start_time": "2022-03-15T17:09:57.978Z"
   },
   {
    "duration": 14,
    "start_time": "2022-03-15T17:09:58.016Z"
   },
   {
    "duration": 38,
    "start_time": "2022-03-15T17:09:58.033Z"
   },
   {
    "duration": 27,
    "start_time": "2022-03-15T17:09:58.073Z"
   },
   {
    "duration": 26,
    "start_time": "2022-03-15T17:09:58.103Z"
   },
   {
    "duration": 50,
    "start_time": "2022-03-15T17:09:58.132Z"
   },
   {
    "duration": 11,
    "start_time": "2022-03-15T17:09:58.187Z"
   },
   {
    "duration": 28,
    "start_time": "2022-03-15T17:09:58.201Z"
   },
   {
    "duration": 54,
    "start_time": "2022-03-15T17:09:58.231Z"
   },
   {
    "duration": 24,
    "start_time": "2022-03-15T17:09:58.288Z"
   },
   {
    "duration": 16,
    "start_time": "2022-03-15T17:09:58.315Z"
   },
   {
    "duration": 18,
    "start_time": "2022-03-15T17:09:58.333Z"
   },
   {
    "duration": 11,
    "start_time": "2022-03-15T17:09:58.354Z"
   },
   {
    "duration": 61,
    "start_time": "2022-03-15T17:09:58.367Z"
   },
   {
    "duration": 5,
    "start_time": "2022-03-15T17:09:58.430Z"
   },
   {
    "duration": 1155,
    "start_time": "2022-03-15T17:09:58.437Z"
   },
   {
    "duration": 866,
    "start_time": "2022-03-15T17:09:59.594Z"
   },
   {
    "duration": 20,
    "start_time": "2022-03-15T17:10:00.463Z"
   },
   {
    "duration": 16,
    "start_time": "2022-03-15T17:10:00.486Z"
   },
   {
    "duration": 47,
    "start_time": "2022-03-15T17:10:00.504Z"
   },
   {
    "duration": 113,
    "start_time": "2022-03-15T17:10:00.584Z"
   },
   {
    "duration": 96,
    "start_time": "2022-03-15T17:10:00.700Z"
   },
   {
    "duration": 85,
    "start_time": "2022-03-15T17:10:00.799Z"
   },
   {
    "duration": 3,
    "start_time": "2022-03-15T17:10:00.886Z"
   },
   {
    "duration": 17,
    "start_time": "2022-03-15T17:10:00.891Z"
   },
   {
    "duration": 23,
    "start_time": "2022-03-15T17:10:00.911Z"
   },
   {
    "duration": 47,
    "start_time": "2022-03-15T17:10:00.938Z"
   },
   {
    "duration": 97,
    "start_time": "2022-03-15T17:10:00.988Z"
   },
   {
    "duration": 9,
    "start_time": "2022-03-15T17:10:01.088Z"
   },
   {
    "duration": 93,
    "start_time": "2022-03-15T17:10:01.101Z"
   },
   {
    "duration": 87,
    "start_time": "2022-03-15T17:10:01.198Z"
   },
   {
    "duration": 24,
    "start_time": "2022-03-15T17:10:01.288Z"
   },
   {
    "duration": 70,
    "start_time": "2022-03-15T17:10:01.315Z"
   },
   {
    "duration": 16,
    "start_time": "2022-03-15T17:10:01.388Z"
   },
   {
    "duration": 183,
    "start_time": "2022-03-15T17:10:01.407Z"
   },
   {
    "duration": 36,
    "start_time": "2022-03-15T17:10:01.593Z"
   },
   {
    "duration": 151,
    "start_time": "2022-03-15T17:10:01.633Z"
   }
  ],
  "kernelspec": {
   "display_name": "Python 3 (ipykernel)",
   "language": "python",
   "name": "python3"
  },
  "language_info": {
   "codemirror_mode": {
    "name": "ipython",
    "version": 3
   },
   "file_extension": ".py",
   "mimetype": "text/x-python",
   "name": "python",
   "nbconvert_exporter": "python",
   "pygments_lexer": "ipython3",
   "version": "3.9.5"
  },
  "toc": {
   "base_numbering": 1,
   "nav_menu": {},
   "number_sections": true,
   "sideBar": true,
   "skip_h1_title": true,
   "title_cell": "Table of Contents",
   "title_sidebar": "Contents",
   "toc_cell": false,
   "toc_position": {},
   "toc_section_display": true,
   "toc_window_display": false
  }
 },
 "nbformat": 4,
 "nbformat_minor": 4
}
